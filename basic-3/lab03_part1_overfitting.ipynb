{
  "cells": [
    {
      "cell_type": "markdown",
      "metadata": {
        "id": "NFmOh482SyEF"
      },
      "source": [
        "## Lab 3\n",
        "### Part 1: Dealing with overfitting"
      ]
    },
    {
      "cell_type": "markdown",
      "metadata": {
        "id": "AjzAuO3oSvsI"
      },
      "source": [
        "Today we work with [Fashion-MNIST dataset](https://github.com/zalandoresearch/fashion-mnist) (*hint: it is available in `torchvision`*).\n",
        "\n",
        "Your goal for today:\n",
        "1. Train a FC (fully-connected) network that achieves >= 0.885 test accuracy.\n",
        "2. Cause considerable overfitting by modifying the network (e.g. increasing the number of network parameters and/or layers) and demonstrate in in the appropriate way (e.g. plot loss and accurasy on train and validation set w.r.t. network complexity).\n",
        "3. Try to deal with overfitting (at least partially) by using regularization techniques (Dropout/Batchnorm/...) and demonstrate the results.\n",
        "\n",
        "__Please, write a small report describing your ideas, tries and achieved results in the end of this file.__\n",
        "\n",
        "*Note*: Tasks 2 and 3 are interrelated, in task 3 your goal is to make the network from task 2 less prone to overfitting. Task 1 is independent from 2 and 3.\n",
        "\n",
        "*Note 2*: We recomment to use Google Colab or other machine with GPU acceleration."
      ]
    },
    {
      "cell_type": "code",
      "execution_count": 1,
      "metadata": {
        "id": "_KBld6VOSwhW"
      },
      "outputs": [],
      "source": [
        "import torch\n",
        "import torch.nn as nn\n",
        "import torchvision\n",
        "import torchvision.transforms as transforms\n",
        "import torchsummary\n",
        "from IPython.display import clear_output\n",
        "from matplotlib import pyplot as plt\n",
        "from matplotlib.pyplot import figure\n",
        "import numpy as np\n",
        "import os\n",
        "\n",
        "\n",
        "device = \"cuda:0\" if torch.cuda.is_available() else \"cpu\""
      ]
    },
    {
      "cell_type": "code",
      "execution_count": 2,
      "metadata": {
        "colab": {
          "base_uri": "https://localhost:8080/"
        },
        "id": "EdLOG0XqS_g5",
        "outputId": "d5a5a6ba-9a5d-4242-d300-fbcefb1d2c90"
      },
      "outputs": [
        {
          "output_type": "stream",
          "name": "stdout",
          "text": [
            "Directory fmnist is created!\n"
          ]
        }
      ],
      "source": [
        "# Technical function\n",
        "def mkdir(path):\n",
        "    if not os.path.exists(root_path):\n",
        "        os.mkdir(root_path)\n",
        "        print(\"Directory\", path, \"is created!\")\n",
        "    else:\n",
        "        print(\"Directory\", path, \"already exists!\")\n",
        "\n",
        "\n",
        "root_path = \"fmnist\"\n",
        "mkdir(root_path)"
      ]
    },
    {
      "cell_type": "code",
      "execution_count": 3,
      "metadata": {
        "id": "qt6LE7XaTDT9",
        "colab": {
          "base_uri": "https://localhost:8080/"
        },
        "outputId": "68e3e76f-4860-4750-ba75-f106ffbd8b8d"
      },
      "outputs": [
        {
          "output_type": "stream",
          "name": "stdout",
          "text": [
            "Downloading http://fashion-mnist.s3-website.eu-central-1.amazonaws.com/train-images-idx3-ubyte.gz\n",
            "Downloading http://fashion-mnist.s3-website.eu-central-1.amazonaws.com/train-images-idx3-ubyte.gz to fmnist/FashionMNIST/raw/train-images-idx3-ubyte.gz\n"
          ]
        },
        {
          "output_type": "stream",
          "name": "stderr",
          "text": [
            "100%|██████████| 26.4M/26.4M [00:02<00:00, 12.0MB/s]\n"
          ]
        },
        {
          "output_type": "stream",
          "name": "stdout",
          "text": [
            "Extracting fmnist/FashionMNIST/raw/train-images-idx3-ubyte.gz to fmnist/FashionMNIST/raw\n",
            "\n",
            "Downloading http://fashion-mnist.s3-website.eu-central-1.amazonaws.com/train-labels-idx1-ubyte.gz\n",
            "Downloading http://fashion-mnist.s3-website.eu-central-1.amazonaws.com/train-labels-idx1-ubyte.gz to fmnist/FashionMNIST/raw/train-labels-idx1-ubyte.gz\n"
          ]
        },
        {
          "output_type": "stream",
          "name": "stderr",
          "text": [
            "100%|██████████| 29.5k/29.5k [00:00<00:00, 232kB/s]\n"
          ]
        },
        {
          "output_type": "stream",
          "name": "stdout",
          "text": [
            "Extracting fmnist/FashionMNIST/raw/train-labels-idx1-ubyte.gz to fmnist/FashionMNIST/raw\n",
            "\n",
            "Downloading http://fashion-mnist.s3-website.eu-central-1.amazonaws.com/t10k-images-idx3-ubyte.gz\n",
            "Downloading http://fashion-mnist.s3-website.eu-central-1.amazonaws.com/t10k-images-idx3-ubyte.gz to fmnist/FashionMNIST/raw/t10k-images-idx3-ubyte.gz\n"
          ]
        },
        {
          "output_type": "stream",
          "name": "stderr",
          "text": [
            "100%|██████████| 4.42M/4.42M [00:01<00:00, 4.29MB/s]\n"
          ]
        },
        {
          "output_type": "stream",
          "name": "stdout",
          "text": [
            "Extracting fmnist/FashionMNIST/raw/t10k-images-idx3-ubyte.gz to fmnist/FashionMNIST/raw\n",
            "\n",
            "Downloading http://fashion-mnist.s3-website.eu-central-1.amazonaws.com/t10k-labels-idx1-ubyte.gz\n",
            "Downloading http://fashion-mnist.s3-website.eu-central-1.amazonaws.com/t10k-labels-idx1-ubyte.gz to fmnist/FashionMNIST/raw/t10k-labels-idx1-ubyte.gz\n"
          ]
        },
        {
          "output_type": "stream",
          "name": "stderr",
          "text": [
            "100%|██████████| 5.15k/5.15k [00:00<00:00, 5.03MB/s]"
          ]
        },
        {
          "output_type": "stream",
          "name": "stdout",
          "text": [
            "Extracting fmnist/FashionMNIST/raw/t10k-labels-idx1-ubyte.gz to fmnist/FashionMNIST/raw\n",
            "\n"
          ]
        },
        {
          "output_type": "stream",
          "name": "stderr",
          "text": [
            "\n"
          ]
        }
      ],
      "source": [
        "download = True\n",
        "train_transform = transforms.ToTensor()\n",
        "test_transform = transforms.ToTensor()\n",
        "transforms.Compose((transforms.ToTensor()))\n",
        "\n",
        "\n",
        "fmnist_dataset_train = torchvision.datasets.FashionMNIST(\n",
        "    root_path, train=True, transform=train_transform, target_transform=None, download=download\n",
        ")\n",
        "fmnist_dataset_test = torchvision.datasets.FashionMNIST(\n",
        "    root_path, train=False, transform=test_transform, target_transform=None, download=download\n",
        ")"
      ]
    },
    {
      "cell_type": "code",
      "execution_count": 4,
      "metadata": {
        "id": "71YP0SPwTIxD"
      },
      "outputs": [],
      "source": [
        "train_loader = torch.utils.data.DataLoader(\n",
        "    fmnist_dataset_train, batch_size=128, shuffle=True, num_workers=2\n",
        ")\n",
        "test_loader = torch.utils.data.DataLoader(\n",
        "    fmnist_dataset_test, batch_size=256, shuffle=False, num_workers=2\n",
        ")"
      ]
    },
    {
      "cell_type": "code",
      "execution_count": 5,
      "metadata": {
        "colab": {
          "base_uri": "https://localhost:8080/"
        },
        "id": "v_YFmF7NTWrQ",
        "outputId": "bb9225fb-d26a-4589-c0c7-3f33e3a0e405"
      },
      "outputs": [
        {
          "output_type": "execute_result",
          "data": {
            "text/plain": [
              "10000"
            ]
          },
          "metadata": {},
          "execution_count": 5
        }
      ],
      "source": [
        "len(fmnist_dataset_test)"
      ]
    },
    {
      "cell_type": "code",
      "execution_count": 6,
      "metadata": {
        "colab": {
          "base_uri": "https://localhost:8080/"
        },
        "id": "aHca15bOTY4B",
        "outputId": "5276b601-6989-4385-9752-4b1dbdbb5a4f"
      },
      "outputs": [
        {
          "output_type": "stream",
          "name": "stdout",
          "text": [
            "torch.Size([128, 1, 28, 28])\n",
            "torch.Size([128])\n",
            "128\n"
          ]
        }
      ],
      "source": [
        "for img, label in train_loader:\n",
        "    print(img.shape)\n",
        "    # print(img)\n",
        "    print(label.shape)\n",
        "    print(label.size(0))\n",
        "    break"
      ]
    },
    {
      "cell_type": "markdown",
      "metadata": {
        "id": "b6OOOffHTfX5"
      },
      "source": [
        "### Task 1\n",
        "Train a network that achieves $\\geq 0.885$ test accuracy. It's fine to use only Linear (`nn.Linear`) layers and activations/dropout/batchnorm. Convolutional layers might be a great use, but we will meet them a bit later."
      ]
    },
    {
      "cell_type": "code",
      "execution_count": 7,
      "metadata": {
        "id": "ftpkTjxlTcFx"
      },
      "outputs": [],
      "source": [
        "class TinyNeuralNetwork(nn.Module):\n",
        "    def __init__(self, input_shape=28 * 28, num_classes=10, input_channels=1):\n",
        "        super(self.__class__, self).__init__()\n",
        "        self.model = nn.Sequential(\n",
        "            nn.Flatten(),\n",
        "            nn.Linear(input_shape, 512),\n",
        "            nn.ReLU(),\n",
        "            nn.Dropout(0.5),\n",
        "            nn.Linear(512, 32),\n",
        "            nn.BatchNorm1d(32),\n",
        "            nn.LeakyReLU(),\n",
        "            nn.Linear(32, num_classes)\n",
        "        )\n",
        "\n",
        "    def forward(self, inp):\n",
        "        out = self.model(inp)\n",
        "        return out"
      ]
    },
    {
      "cell_type": "code",
      "execution_count": 8,
      "metadata": {
        "colab": {
          "base_uri": "https://localhost:8080/"
        },
        "id": "V3zofW2jTDa9",
        "outputId": "599cdaac-c611-49f5-d51b-f85342006d05"
      },
      "outputs": [
        {
          "output_type": "stream",
          "name": "stdout",
          "text": [
            "----------------------------------------------------------------\n",
            "        Layer (type)               Output Shape         Param #\n",
            "================================================================\n",
            "           Flatten-1                  [-1, 784]               0\n",
            "            Linear-2                  [-1, 512]         401,920\n",
            "              ReLU-3                  [-1, 512]               0\n",
            "           Dropout-4                  [-1, 512]               0\n",
            "            Linear-5                   [-1, 32]          16,416\n",
            "       BatchNorm1d-6                   [-1, 32]              64\n",
            "         LeakyReLU-7                   [-1, 32]               0\n",
            "            Linear-8                   [-1, 10]             330\n",
            "================================================================\n",
            "Total params: 418,730\n",
            "Trainable params: 418,730\n",
            "Non-trainable params: 0\n",
            "----------------------------------------------------------------\n",
            "Input size (MB): 0.00\n",
            "Forward/backward pass size (MB): 0.02\n",
            "Params size (MB): 1.60\n",
            "Estimated Total Size (MB): 1.62\n",
            "----------------------------------------------------------------\n"
          ]
        }
      ],
      "source": [
        "torchsummary.summary(TinyNeuralNetwork().to(device), (28 * 28,))"
      ]
    },
    {
      "cell_type": "markdown",
      "metadata": {
        "id": "544PGKEnjPr5"
      },
      "source": [
        "Your experiments come here:"
      ]
    },
    {
      "cell_type": "code",
      "execution_count": 9,
      "metadata": {
        "colab": {
          "base_uri": "https://localhost:8080/"
        },
        "id": "i3POFj90Ti-6",
        "outputId": "44f07a15-ed06-4adc-ac56-7188066268fa"
      },
      "outputs": [
        {
          "output_type": "stream",
          "name": "stdout",
          "text": [
            "Epoch: 1/30, Loss: 0.6030, Train Accuracy: 78.62%, Test Accuracy: 82.12%\n",
            "Epoch: 2/30, Loss: 0.4568, Train Accuracy: 83.27%, Test Accuracy: 85.14%\n",
            "Epoch: 3/30, Loss: 0.4249, Train Accuracy: 84.38%, Test Accuracy: 85.73%\n",
            "Epoch: 4/30, Loss: 0.3998, Train Accuracy: 85.14%, Test Accuracy: 86.28%\n",
            "Epoch: 5/30, Loss: 0.3870, Train Accuracy: 85.76%, Test Accuracy: 86.86%\n",
            "Epoch: 6/30, Loss: 0.3790, Train Accuracy: 86.03%, Test Accuracy: 87.37%\n",
            "Epoch: 7/30, Loss: 0.3654, Train Accuracy: 86.33%, Test Accuracy: 86.76%\n",
            "Epoch: 8/30, Loss: 0.3585, Train Accuracy: 86.65%, Test Accuracy: 86.75%\n",
            "Epoch: 9/30, Loss: 0.3505, Train Accuracy: 86.97%, Test Accuracy: 87.42%\n",
            "Epoch: 10/30, Loss: 0.3492, Train Accuracy: 87.04%, Test Accuracy: 87.53%\n",
            "Epoch: 11/30, Loss: 0.3407, Train Accuracy: 87.37%, Test Accuracy: 87.71%\n",
            "Epoch: 12/30, Loss: 0.3329, Train Accuracy: 87.58%, Test Accuracy: 88.01%\n",
            "Epoch: 13/30, Loss: 0.3339, Train Accuracy: 87.46%, Test Accuracy: 88.06%\n",
            "Epoch: 14/30, Loss: 0.3265, Train Accuracy: 87.73%, Test Accuracy: 87.88%\n",
            "Epoch: 15/30, Loss: 0.3230, Train Accuracy: 87.86%, Test Accuracy: 88.23%\n",
            "Epoch: 16/30, Loss: 0.3179, Train Accuracy: 88.16%, Test Accuracy: 88.03%\n",
            "Epoch: 17/30, Loss: 0.3139, Train Accuracy: 88.20%, Test Accuracy: 87.93%\n",
            "Epoch: 18/30, Loss: 0.3158, Train Accuracy: 88.25%, Test Accuracy: 88.12%\n",
            "Epoch: 19/30, Loss: 0.3112, Train Accuracy: 88.48%, Test Accuracy: 88.20%\n",
            "Epoch: 20/30, Loss: 0.3083, Train Accuracy: 88.50%, Test Accuracy: 87.81%\n",
            "Epoch: 21/30, Loss: 0.3052, Train Accuracy: 88.60%, Test Accuracy: 88.26%\n",
            "Epoch: 22/30, Loss: 0.3042, Train Accuracy: 88.62%, Test Accuracy: 88.28%\n",
            "Epoch: 23/30, Loss: 0.3027, Train Accuracy: 88.58%, Test Accuracy: 88.57%\n",
            "Epoch: 24/30, Loss: 0.2972, Train Accuracy: 88.94%, Test Accuracy: 88.41%\n",
            "Epoch: 25/30, Loss: 0.2918, Train Accuracy: 89.21%, Test Accuracy: 88.60%\n",
            "Epoch: 26/30, Loss: 0.2933, Train Accuracy: 89.09%, Test Accuracy: 88.68%\n",
            "Epoch: 27/30, Loss: 0.2920, Train Accuracy: 89.06%, Test Accuracy: 88.44%\n",
            "Epoch: 28/30, Loss: 0.2923, Train Accuracy: 89.06%, Test Accuracy: 88.43%\n",
            "Epoch: 29/30, Loss: 0.2880, Train Accuracy: 89.18%, Test Accuracy: 88.56%\n",
            "Epoch: 30/30, Loss: 0.2852, Train Accuracy: 89.27%, Test Accuracy: 88.90%\n"
          ]
        }
      ],
      "source": [
        "model = TinyNeuralNetwork().to(device)\n",
        "opt = torch.optim.Adam(model.parameters(), lr=0.005, weight_decay=1e-6)\n",
        "loss_func = nn.CrossEntropyLoss()\n",
        "\n",
        "epochs_num = 30\n",
        "\n",
        "for epoch in range(epochs_num):\n",
        "    train_loss = 0\n",
        "    train_correct = 0\n",
        "    model.train()\n",
        "\n",
        "    for batch_idx, (data, target) in enumerate(train_loader):\n",
        "        data, target = data.to(device), target.to(device)\n",
        "        opt.zero_grad()\n",
        "        output = model(data)\n",
        "        loss = loss_func(output, target)\n",
        "\n",
        "        train_loss += loss.item() * data.size(0)\n",
        "\n",
        "        loss.backward()\n",
        "        opt.step()\n",
        "\n",
        "        pred = output.argmax(dim=1, keepdim=True)\n",
        "        train_correct += pred.eq(target.view_as(pred)).sum().item()\n",
        "\n",
        "    train_loss /= len(train_loader.dataset)\n",
        "    train_accuracy = 100. * train_correct / len(train_loader.dataset)\n",
        "\n",
        "    model.eval()\n",
        "    correct = 0\n",
        "    with torch.no_grad():\n",
        "        for data, target in test_loader:\n",
        "            data, target = data.to(device), target.to(device)\n",
        "            output = model(data)\n",
        "            pred = output.argmax(dim=1, keepdim=True)\n",
        "            correct += pred.eq(target.view_as(pred)).sum().item()\n",
        "\n",
        "    test_accuracy = 100. * correct / len(test_loader.dataset)\n",
        "\n",
        "    print(f'Epoch: {epoch+1}/{epochs_num}, Loss: {train_loss:.4f}, Train Accuracy: {train_accuracy:.2f}%, Test Accuracy: {test_accuracy:.2f}%')"
      ]
    },
    {
      "cell_type": "markdown",
      "metadata": {
        "id": "L7ISqkjmCPB1"
      },
      "source": [
        "### Task 2: Overfit it.\n",
        "Build a network that will overfit to this dataset. Demonstrate the overfitting in the appropriate way (e.g. plot loss and accurasy on train and test set w.r.t. network complexity).\n",
        "\n",
        "*Note:* you also might decrease the size of `train` dataset to enforce the overfitting and speed up the computations."
      ]
    },
    {
      "cell_type": "code",
      "execution_count": 10,
      "metadata": {
        "id": "H12uAWiGBwJx"
      },
      "outputs": [],
      "source": [
        "class OverfittingNeuralNetwork(nn.Module):\n",
        "    def __init__(self, input_shape=28 * 28, num_classes=10, input_channels=1):\n",
        "        super(self.__class__, self).__init__()\n",
        "        self.model = nn.Sequential(\n",
        "            nn.Flatten(),\n",
        "            nn.Linear(input_shape, 1024),\n",
        "            nn.ReLU(),\n",
        "            nn.Linear(1024, 32),\n",
        "            nn.ReLU(),\n",
        "            nn.Linear(32, num_classes),\n",
        "        )\n",
        "\n",
        "    def forward(self, inp):\n",
        "        out = self.model(inp)\n",
        "        return out"
      ]
    },
    {
      "cell_type": "code",
      "execution_count": 11,
      "metadata": {
        "colab": {
          "base_uri": "https://localhost:8080/"
        },
        "id": "JgXAKCpvCwqH",
        "outputId": "383188af-0b0b-40cb-a37c-aa6cf32c0596"
      },
      "outputs": [
        {
          "output_type": "stream",
          "name": "stdout",
          "text": [
            "----------------------------------------------------------------\n",
            "        Layer (type)               Output Shape         Param #\n",
            "================================================================\n",
            "           Flatten-1                  [-1, 784]               0\n",
            "            Linear-2                 [-1, 1024]         803,840\n",
            "              ReLU-3                 [-1, 1024]               0\n",
            "            Linear-4                   [-1, 32]          32,800\n",
            "              ReLU-5                   [-1, 32]               0\n",
            "            Linear-6                   [-1, 10]             330\n",
            "================================================================\n",
            "Total params: 836,970\n",
            "Trainable params: 836,970\n",
            "Non-trainable params: 0\n",
            "----------------------------------------------------------------\n",
            "Input size (MB): 0.00\n",
            "Forward/backward pass size (MB): 0.02\n",
            "Params size (MB): 3.19\n",
            "Estimated Total Size (MB): 3.22\n",
            "----------------------------------------------------------------\n"
          ]
        }
      ],
      "source": [
        "torchsummary.summary(OverfittingNeuralNetwork().to(device), (28 * 28,))"
      ]
    },
    {
      "cell_type": "code",
      "source": [
        "import matplotlib.pyplot as plt\n",
        "\n",
        "def calculate_loss_and_accuracy(model, data_loader, loss_func, device):\n",
        "    model.eval()\n",
        "    total_loss = 0\n",
        "    correct = 0\n",
        "    with torch.no_grad():\n",
        "        for data, target in data_loader:\n",
        "            data, target = data.to(device), target.to(device)\n",
        "            output = model(data)\n",
        "            loss = loss_func(output, target)\n",
        "            total_loss += loss.item() * data.size(0)\n",
        "            pred = output.argmax(dim=1, keepdim=True)\n",
        "            correct += pred.eq(target.view_as(pred)).sum().item()\n",
        "\n",
        "    total_loss /= len(data_loader.dataset)\n",
        "    accuracy = 100. * correct / len(data_loader.dataset)\n",
        "    return total_loss, accuracy"
      ],
      "metadata": {
        "id": "I7KXVTkEV2f_"
      },
      "execution_count": 12,
      "outputs": []
    },
    {
      "cell_type": "code",
      "execution_count": 13,
      "metadata": {
        "colab": {
          "base_uri": "https://localhost:8080/"
        },
        "id": "z8Rq0PaqTDa9",
        "outputId": "76ab9086-0bfa-4564-941e-fa03214fa1f1"
      },
      "outputs": [
        {
          "output_type": "stream",
          "name": "stdout",
          "text": [
            "Epoch: 1/50, Train Loss: 0.3980, Train Accuracy: 85.50%, Test Loss: 0.4429, Test Accuracy: 83.98%\n",
            "Epoch: 2/50, Train Loss: 0.3331, Train Accuracy: 87.98%, Test Loss: 0.3873, Test Accuracy: 86.23%\n",
            "Epoch: 3/50, Train Loss: 0.3079, Train Accuracy: 88.68%, Test Loss: 0.3766, Test Accuracy: 86.47%\n",
            "Epoch: 4/50, Train Loss: 0.2939, Train Accuracy: 88.91%, Test Loss: 0.3649, Test Accuracy: 86.61%\n",
            "Epoch: 5/50, Train Loss: 0.2875, Train Accuracy: 89.36%, Test Loss: 0.3734, Test Accuracy: 86.81%\n",
            "Epoch: 6/50, Train Loss: 0.2603, Train Accuracy: 90.17%, Test Loss: 0.3513, Test Accuracy: 87.19%\n",
            "Epoch: 7/50, Train Loss: 0.2498, Train Accuracy: 90.61%, Test Loss: 0.3396, Test Accuracy: 88.14%\n",
            "Epoch: 8/50, Train Loss: 0.2360, Train Accuracy: 91.20%, Test Loss: 0.3324, Test Accuracy: 88.19%\n",
            "Epoch: 9/50, Train Loss: 0.2494, Train Accuracy: 90.38%, Test Loss: 0.3523, Test Accuracy: 87.65%\n",
            "Epoch: 10/50, Train Loss: 0.2215, Train Accuracy: 91.76%, Test Loss: 0.3362, Test Accuracy: 88.47%\n",
            "Epoch: 11/50, Train Loss: 0.2561, Train Accuracy: 90.36%, Test Loss: 0.3787, Test Accuracy: 87.01%\n",
            "Epoch: 12/50, Train Loss: 0.2354, Train Accuracy: 91.33%, Test Loss: 0.3595, Test Accuracy: 88.03%\n",
            "Epoch: 13/50, Train Loss: 0.2089, Train Accuracy: 91.94%, Test Loss: 0.3434, Test Accuracy: 88.32%\n",
            "Epoch: 14/50, Train Loss: 0.2073, Train Accuracy: 92.25%, Test Loss: 0.3493, Test Accuracy: 88.49%\n",
            "Epoch: 15/50, Train Loss: 0.2008, Train Accuracy: 92.31%, Test Loss: 0.3475, Test Accuracy: 88.32%\n",
            "Epoch: 16/50, Train Loss: 0.2150, Train Accuracy: 91.87%, Test Loss: 0.3606, Test Accuracy: 88.29%\n",
            "Epoch: 17/50, Train Loss: 0.1991, Train Accuracy: 92.58%, Test Loss: 0.3418, Test Accuracy: 87.86%\n",
            "Epoch: 18/50, Train Loss: 0.1938, Train Accuracy: 92.63%, Test Loss: 0.3543, Test Accuracy: 88.62%\n",
            "Epoch: 19/50, Train Loss: 0.2201, Train Accuracy: 91.67%, Test Loss: 0.3984, Test Accuracy: 87.52%\n",
            "Epoch: 20/50, Train Loss: 0.1997, Train Accuracy: 92.45%, Test Loss: 0.3661, Test Accuracy: 88.42%\n",
            "Epoch: 21/50, Train Loss: 0.2094, Train Accuracy: 92.47%, Test Loss: 0.3851, Test Accuracy: 88.07%\n",
            "Epoch: 22/50, Train Loss: 0.1882, Train Accuracy: 92.96%, Test Loss: 0.3764, Test Accuracy: 88.36%\n",
            "Epoch: 23/50, Train Loss: 0.1751, Train Accuracy: 93.23%, Test Loss: 0.3484, Test Accuracy: 88.65%\n",
            "Epoch: 24/50, Train Loss: 0.1654, Train Accuracy: 93.76%, Test Loss: 0.3691, Test Accuracy: 89.09%\n",
            "Epoch: 25/50, Train Loss: 0.1628, Train Accuracy: 93.76%, Test Loss: 0.3739, Test Accuracy: 88.87%\n",
            "Epoch: 26/50, Train Loss: 0.1672, Train Accuracy: 93.56%, Test Loss: 0.3892, Test Accuracy: 88.46%\n",
            "Epoch: 27/50, Train Loss: 0.1523, Train Accuracy: 94.31%, Test Loss: 0.3754, Test Accuracy: 89.15%\n",
            "Epoch: 28/50, Train Loss: 0.1702, Train Accuracy: 93.66%, Test Loss: 0.3821, Test Accuracy: 88.43%\n",
            "Epoch: 29/50, Train Loss: 0.1654, Train Accuracy: 93.67%, Test Loss: 0.3898, Test Accuracy: 88.60%\n",
            "Epoch: 30/50, Train Loss: 0.1539, Train Accuracy: 94.36%, Test Loss: 0.3955, Test Accuracy: 89.18%\n",
            "Epoch: 31/50, Train Loss: 0.1636, Train Accuracy: 93.83%, Test Loss: 0.4140, Test Accuracy: 88.47%\n",
            "Epoch: 32/50, Train Loss: 0.1528, Train Accuracy: 94.29%, Test Loss: 0.3898, Test Accuracy: 88.97%\n",
            "Epoch: 33/50, Train Loss: 0.1700, Train Accuracy: 93.95%, Test Loss: 0.4358, Test Accuracy: 88.17%\n",
            "Epoch: 34/50, Train Loss: 0.1831, Train Accuracy: 93.17%, Test Loss: 0.4552, Test Accuracy: 87.95%\n",
            "Epoch: 35/50, Train Loss: 0.1610, Train Accuracy: 94.14%, Test Loss: 0.4467, Test Accuracy: 88.44%\n",
            "Epoch: 36/50, Train Loss: 0.1330, Train Accuracy: 95.07%, Test Loss: 0.3830, Test Accuracy: 89.33%\n",
            "Epoch: 37/50, Train Loss: 0.1362, Train Accuracy: 94.89%, Test Loss: 0.4087, Test Accuracy: 89.12%\n",
            "Epoch: 38/50, Train Loss: 0.1444, Train Accuracy: 94.45%, Test Loss: 0.4319, Test Accuracy: 89.26%\n",
            "Epoch: 39/50, Train Loss: 0.1501, Train Accuracy: 94.40%, Test Loss: 0.4523, Test Accuracy: 88.44%\n",
            "Epoch: 40/50, Train Loss: 0.1311, Train Accuracy: 94.91%, Test Loss: 0.4424, Test Accuracy: 89.12%\n",
            "Epoch: 41/50, Train Loss: 0.1380, Train Accuracy: 94.73%, Test Loss: 0.4385, Test Accuracy: 89.01%\n",
            "Epoch: 42/50, Train Loss: 0.1374, Train Accuracy: 94.84%, Test Loss: 0.4258, Test Accuracy: 88.59%\n",
            "Epoch: 43/50, Train Loss: 0.1432, Train Accuracy: 94.54%, Test Loss: 0.4399, Test Accuracy: 89.01%\n",
            "Epoch: 44/50, Train Loss: 0.1294, Train Accuracy: 95.24%, Test Loss: 0.4653, Test Accuracy: 89.21%\n",
            "Epoch: 45/50, Train Loss: 0.1362, Train Accuracy: 94.71%, Test Loss: 0.4616, Test Accuracy: 88.29%\n",
            "Epoch: 46/50, Train Loss: 0.1292, Train Accuracy: 94.99%, Test Loss: 0.4477, Test Accuracy: 88.69%\n",
            "Epoch: 47/50, Train Loss: 0.1307, Train Accuracy: 95.02%, Test Loss: 0.4735, Test Accuracy: 89.28%\n",
            "Epoch: 48/50, Train Loss: 0.1200, Train Accuracy: 95.42%, Test Loss: 0.4488, Test Accuracy: 88.86%\n",
            "Epoch: 49/50, Train Loss: 0.1346, Train Accuracy: 95.28%, Test Loss: 0.4986, Test Accuracy: 88.93%\n",
            "Epoch: 50/50, Train Loss: 0.1077, Train Accuracy: 96.02%, Test Loss: 0.4504, Test Accuracy: 89.11%\n"
          ]
        }
      ],
      "source": [
        "model = OverfittingNeuralNetwork().to(device)\n",
        "opt = torch.optim.Adam(model.parameters(), lr=0.005)\n",
        "loss_func = nn.CrossEntropyLoss()\n",
        "\n",
        "epochs_num = 50\n",
        "\n",
        "train_losses = []\n",
        "test_losses = []\n",
        "train_accuracies = []\n",
        "test_accuracies = []\n",
        "\n",
        "for epoch in range(epochs_num):\n",
        "    train_loss = 0\n",
        "    train_correct = 0\n",
        "    model.train()\n",
        "\n",
        "    for batch_idx, (data, target) in enumerate(train_loader):\n",
        "        data, target = data.to(device), target.to(device)\n",
        "        opt.zero_grad()\n",
        "        output = model(data)\n",
        "        loss = loss_func(output, target)\n",
        "\n",
        "        train_loss += loss.item() * data.size(0)\n",
        "\n",
        "        loss.backward()\n",
        "        opt.step()\n",
        "\n",
        "        pred = output.argmax(dim=1, keepdim=True)\n",
        "        train_correct += pred.eq(target.view_as(pred)).sum().item()\n",
        "\n",
        "\n",
        "\n",
        "    train_loss, train_accuracy = calculate_loss_and_accuracy(model, train_loader, loss_func, device)\n",
        "    test_loss, test_accuracy = calculate_loss_and_accuracy(model, test_loader, loss_func, device)\n",
        "\n",
        "    train_losses.append(train_loss)\n",
        "    test_losses.append(test_loss)\n",
        "    train_accuracies.append(train_accuracy)\n",
        "    test_accuracies.append(test_accuracy)\n",
        "\n",
        "    print(f'Epoch: {epoch+1}/{epochs_num}, Train Loss: {train_loss:.4f}, Train Accuracy: {train_accuracy:.2f}%, Test Loss: {test_loss:.4f}, Test Accuracy: {test_accuracy:.2f}%')\n"
      ]
    },
    {
      "cell_type": "code",
      "source": [
        "plt.figure(figsize=(12, 4))\n",
        "\n",
        "plt.subplot(1, 2, 1)\n",
        "plt.plot(train_losses, label='Train Loss')\n",
        "plt.plot(test_losses, label='Test Loss')\n",
        "plt.xlabel('Epoch')\n",
        "plt.ylabel('Loss')\n",
        "plt.legend()\n",
        "\n",
        "plt.subplot(1, 2, 2)\n",
        "plt.plot(train_accuracies, label='Train Accuracy')\n",
        "plt.plot(test_accuracies, label='Test Accuracy')\n",
        "plt.xlabel('Epoch')\n",
        "plt.ylabel('Accuracy')\n",
        "plt.legend()\n",
        "\n",
        "plt.show()"
      ],
      "metadata": {
        "id": "uh3kFuqvV1bd",
        "outputId": "cf548e1d-c3fc-4d72-f880-8b1eb4ec327c",
        "colab": {
          "base_uri": "https://localhost:8080/",
          "height": 388
        }
      },
      "execution_count": 14,
      "outputs": [
        {
          "output_type": "display_data",
          "data": {
            "text/plain": [
              "<Figure size 1200x400 with 2 Axes>"
            ],
            "image/png": "[encoded data removed]"
          },
          "metadata": {}
        }
      ]
    },
    {
      "cell_type": "markdown",
      "metadata": {
        "id": "7uvUvq5oTDa-"
      },
      "source": [
        "### Task 3: Fix it.\n",
        "Fix the overfitted network from the previous step (at least partially) by using regularization techniques (Dropout/Batchnorm/...) and demonstrate the results."
      ]
    },
    {
      "cell_type": "code",
      "execution_count": 15,
      "metadata": {
        "id": "zFH70SlOTDa-"
      },
      "outputs": [],
      "source": [
        "class FixedNeuralNetwork(nn.Module):\n",
        "    def __init__(self, input_shape=28 * 28, num_classes=10, input_channels=1):\n",
        "        super(self.__class__, self).__init__()\n",
        "        self.model = nn.Sequential(\n",
        "            nn.Flatten(),\n",
        "            nn.Linear(input_shape, 1024),\n",
        "            nn.Dropout(0.5),\n",
        "            nn.ReLU(),\n",
        "            nn.Linear(1024, 32),\n",
        "            nn.Dropout(0.25),\n",
        "            nn.BatchNorm1d(32),\n",
        "            nn.ReLU(),\n",
        "            nn.Linear(32, num_classes),\n",
        "        )\n",
        "\n",
        "    def forward(self, inp):\n",
        "        out = self.model(inp)\n",
        "        return out"
      ]
    },
    {
      "cell_type": "code",
      "execution_count": 16,
      "metadata": {
        "colab": {
          "base_uri": "https://localhost:8080/"
        },
        "id": "9dTugjoBTDa-",
        "outputId": "1e57813f-c2a8-4016-f8f9-f2125cdac6f9"
      },
      "outputs": [
        {
          "output_type": "stream",
          "name": "stdout",
          "text": [
            "----------------------------------------------------------------\n",
            "        Layer (type)               Output Shape         Param #\n",
            "================================================================\n",
            "           Flatten-1                  [-1, 784]               0\n",
            "            Linear-2                 [-1, 1024]         803,840\n",
            "           Dropout-3                 [-1, 1024]               0\n",
            "              ReLU-4                 [-1, 1024]               0\n",
            "            Linear-5                   [-1, 32]          32,800\n",
            "           Dropout-6                   [-1, 32]               0\n",
            "       BatchNorm1d-7                   [-1, 32]              64\n",
            "              ReLU-8                   [-1, 32]               0\n",
            "            Linear-9                   [-1, 10]             330\n",
            "================================================================\n",
            "Total params: 837,034\n",
            "Trainable params: 837,034\n",
            "Non-trainable params: 0\n",
            "----------------------------------------------------------------\n",
            "Input size (MB): 0.00\n",
            "Forward/backward pass size (MB): 0.03\n",
            "Params size (MB): 3.19\n",
            "Estimated Total Size (MB): 3.23\n",
            "----------------------------------------------------------------\n"
          ]
        }
      ],
      "source": [
        "torchsummary.summary(FixedNeuralNetwork().to(device), (28 * 28,))"
      ]
    },
    {
      "cell_type": "code",
      "execution_count": 17,
      "metadata": {
        "colab": {
          "base_uri": "https://localhost:8080/"
        },
        "id": "i1wgr7dKTDa-",
        "outputId": "f241336c-0adc-4820-baa8-90766d93f2ae"
      },
      "outputs": [
        {
          "output_type": "stream",
          "name": "stdout",
          "text": [
            "Epoch: 1/30, Train Loss: 0.4357, Train Accuracy: 84.36%, Test Loss: 0.4746, Test Accuracy: 82.87%\n",
            "Epoch: 2/30, Train Loss: 0.3846, Train Accuracy: 85.91%, Test Loss: 0.4291, Test Accuracy: 84.51%\n",
            "Epoch: 3/30, Train Loss: 0.3502, Train Accuracy: 87.14%, Test Loss: 0.3991, Test Accuracy: 85.77%\n",
            "Epoch: 4/30, Train Loss: 0.3332, Train Accuracy: 87.90%, Test Loss: 0.3821, Test Accuracy: 86.22%\n",
            "Epoch: 5/30, Train Loss: 0.3170, Train Accuracy: 88.19%, Test Loss: 0.3728, Test Accuracy: 86.48%\n",
            "Epoch: 6/30, Train Loss: 0.3193, Train Accuracy: 88.03%, Test Loss: 0.3769, Test Accuracy: 86.26%\n",
            "Epoch: 7/30, Train Loss: 0.3164, Train Accuracy: 88.46%, Test Loss: 0.3784, Test Accuracy: 86.54%\n",
            "Epoch: 8/30, Train Loss: 0.2920, Train Accuracy: 89.06%, Test Loss: 0.3562, Test Accuracy: 86.99%\n",
            "Epoch: 9/30, Train Loss: 0.2943, Train Accuracy: 89.15%, Test Loss: 0.3597, Test Accuracy: 87.47%\n",
            "Epoch: 10/30, Train Loss: 0.2774, Train Accuracy: 89.69%, Test Loss: 0.3460, Test Accuracy: 87.55%\n",
            "Epoch: 11/30, Train Loss: 0.2709, Train Accuracy: 90.00%, Test Loss: 0.3436, Test Accuracy: 88.17%\n",
            "Epoch: 12/30, Train Loss: 0.2773, Train Accuracy: 89.76%, Test Loss: 0.3529, Test Accuracy: 87.70%\n",
            "Epoch: 13/30, Train Loss: 0.2652, Train Accuracy: 90.17%, Test Loss: 0.3403, Test Accuracy: 88.11%\n",
            "Epoch: 14/30, Train Loss: 0.2614, Train Accuracy: 90.29%, Test Loss: 0.3393, Test Accuracy: 87.78%\n",
            "Epoch: 15/30, Train Loss: 0.2594, Train Accuracy: 90.21%, Test Loss: 0.3371, Test Accuracy: 87.93%\n",
            "Epoch: 16/30, Train Loss: 0.2510, Train Accuracy: 90.59%, Test Loss: 0.3339, Test Accuracy: 88.26%\n",
            "Epoch: 17/30, Train Loss: 0.2513, Train Accuracy: 90.61%, Test Loss: 0.3378, Test Accuracy: 88.37%\n",
            "Epoch: 18/30, Train Loss: 0.2437, Train Accuracy: 90.94%, Test Loss: 0.3278, Test Accuracy: 88.70%\n",
            "Epoch: 19/30, Train Loss: 0.2401, Train Accuracy: 91.06%, Test Loss: 0.3278, Test Accuracy: 88.51%\n",
            "Epoch: 20/30, Train Loss: 0.2381, Train Accuracy: 90.95%, Test Loss: 0.3268, Test Accuracy: 88.24%\n",
            "Epoch: 21/30, Train Loss: 0.2392, Train Accuracy: 91.06%, Test Loss: 0.3276, Test Accuracy: 88.59%\n",
            "Epoch: 22/30, Train Loss: 0.2347, Train Accuracy: 91.12%, Test Loss: 0.3216, Test Accuracy: 88.52%\n",
            "Epoch: 23/30, Train Loss: 0.2306, Train Accuracy: 91.30%, Test Loss: 0.3245, Test Accuracy: 88.35%\n",
            "Epoch: 24/30, Train Loss: 0.2271, Train Accuracy: 91.52%, Test Loss: 0.3293, Test Accuracy: 88.80%\n",
            "Epoch: 25/30, Train Loss: 0.2240, Train Accuracy: 91.70%, Test Loss: 0.3263, Test Accuracy: 88.88%\n",
            "Epoch: 26/30, Train Loss: 0.2355, Train Accuracy: 91.23%, Test Loss: 0.3374, Test Accuracy: 88.33%\n",
            "Epoch: 27/30, Train Loss: 0.2183, Train Accuracy: 91.95%, Test Loss: 0.3126, Test Accuracy: 89.31%\n",
            "Epoch: 28/30, Train Loss: 0.2144, Train Accuracy: 92.03%, Test Loss: 0.3140, Test Accuracy: 89.19%\n",
            "Epoch: 29/30, Train Loss: 0.2160, Train Accuracy: 91.91%, Test Loss: 0.3256, Test Accuracy: 89.11%\n",
            "Epoch: 30/30, Train Loss: 0.2172, Train Accuracy: 91.86%, Test Loss: 0.3222, Test Accuracy: 89.03%\n"
          ]
        }
      ],
      "source": [
        "model = FixedNeuralNetwork().to(device)\n",
        "opt = torch.optim.Adam(model.parameters(), lr=0.005)\n",
        "loss_func = nn.CrossEntropyLoss()\n",
        "\n",
        "epochs_num = 30\n",
        "\n",
        "train_losses = []\n",
        "test_losses = []\n",
        "train_accuracies = []\n",
        "test_accuracies = []\n",
        "\n",
        "for epoch in range(epochs_num):\n",
        "    train_loss = 0\n",
        "    train_correct = 0\n",
        "    model.train()\n",
        "\n",
        "    for batch_idx, (data, target) in enumerate(train_loader):\n",
        "        data, target = data.to(device), target.to(device)\n",
        "        opt.zero_grad()\n",
        "        output = model(data)\n",
        "        loss = loss_func(output, target)\n",
        "\n",
        "        train_loss += loss.item() * data.size(0)\n",
        "\n",
        "        loss.backward()\n",
        "        opt.step()\n",
        "\n",
        "        pred = output.argmax(dim=1, keepdim=True)\n",
        "        train_correct += pred.eq(target.view_as(pred)).sum().item()\n",
        "\n",
        "\n",
        "    train_loss, train_accuracy = calculate_loss_and_accuracy(model, train_loader, loss_func, device)\n",
        "    test_loss, test_accuracy = calculate_loss_and_accuracy(model, test_loader, loss_func, device)\n",
        "\n",
        "    train_losses.append(train_loss)\n",
        "    test_losses.append(test_loss)\n",
        "    train_accuracies.append(train_accuracy)\n",
        "    test_accuracies.append(test_accuracy)\n",
        "\n",
        "    print(f'Epoch: {epoch+1}/{epochs_num}, Train Loss: {train_loss:.4f}, Train Accuracy: {train_accuracy:.2f}%, Test Loss: {test_loss:.4f}, Test Accuracy: {test_accuracy:.2f}%')\n"
      ]
    },
    {
      "cell_type": "code",
      "source": [
        "plt.figure(figsize=(12, 4))\n",
        "\n",
        "plt.subplot(1, 2, 1)\n",
        "plt.plot(train_losses, label='Train Loss')\n",
        "plt.plot(test_losses, label='Test Loss')\n",
        "plt.xlabel('Epoch')\n",
        "plt.ylabel('Loss')\n",
        "plt.legend()\n",
        "\n",
        "plt.subplot(1, 2, 2)\n",
        "plt.plot(train_accuracies, label='Train Accuracy')\n",
        "plt.plot(test_accuracies, label='Test Accuracy')\n",
        "plt.xlabel('Epoch')\n",
        "plt.ylabel('Accuracy')\n",
        "plt.legend()\n",
        "\n",
        "plt.show()"
      ],
      "metadata": {
        "id": "1l5p8ixqim-Z",
        "outputId": "49010f96-64b0-43e2-d431-18539ef33a34",
        "colab": {
          "base_uri": "https://localhost:8080/",
          "height": 388
        }
      },
      "execution_count": 18,
      "outputs": [
        {
          "output_type": "display_data",
          "data": {
            "text/plain": [
              "<Figure size 1200x400 with 2 Axes>"
            ],
            "image/png": "[encoded data removed]"
          },
          "metadata": {}
        }
      ]
    },
    {
      "cell_type": "markdown",
      "metadata": {
        "id": "dMui_uLJ7G0d"
      },
      "source": [
        "### Conclusions:\n",
        "Получилось обучить все модели до точности на тестовой выборке более 88.5%, но модель без дропаутов и нормализаций переобучается. На 7-10 эпохе loss на тестовой выборке начинает иметь восходящий тренд, в то время, как на тестовой он продолжает уменьшаться с каждой эпохой. Добавление дропаут- и нормализационных слоев помогает справиться с переобучением.\n"
      ]
    }
  ],
  "metadata": {
    "accelerator": "GPU",
    "colab": {
      "provenance": []
    },
    "kernelspec": {
      "display_name": "Python 3",
      "language": "python",
      "name": "python3"
    },
    "language_info": {
      "codemirror_mode": {
        "name": "ipython",
        "version": 3
      },
      "file_extension": ".py",
      "mimetype": "text/x-python",
      "name": "python",
      "nbconvert_exporter": "python",
      "pygments_lexer": "ipython3",
      "version": "3.7.7"
    }
  },
  "nbformat": 4,
  "nbformat_minor": 0
}