{
  "cells": [
    {
      "cell_type": "markdown",
      "metadata": {
        "id": "zlbMqCcOeJUu"
      },
      "source": [
        "*Credits: materials from this notebook belong to YSDA [Practical DL](https://github.com/yandexdataschool/Practical_DL) course. Special thanks for making them available online.*"
      ]
    },
    {
      "cell_type": "markdown",
      "metadata": {
        "id": "SEhinphleJUx"
      },
      "source": [
        "# Lab assignment №1, part 1\n",
        "\n",
        "This lab assignment consists of several parts. You are supposed to make some transformations, train some models, estimate the quality of the models and explain your results.\n",
        "\n",
        "Several comments:\n",
        "* Don't hesitate to ask questions, it's a good practice.\n",
        "* No private/public sharing, please. The copied assignments will be graded with 0 points.\n",
        "* Blocks of this lab will be graded separately."
      ]
    },
    {
      "cell_type": "markdown",
      "metadata": {
        "id": "-xrAJgXreJUy"
      },
      "source": [
        "## 1. Matrix differentiation"
      ]
    },
    {
      "cell_type": "markdown",
      "metadata": {
        "id": "aEXGW8FKeJUy"
      },
      "source": [
        "Since it easy to google every task please please please try to undestand what's going on. The \"just answer\" thing will be not counted, make sure to present derivation of your solution. It is absolutely OK if you found an answer on web then just exercise in $\\LaTeX$ copying it into here."
      ]
    },
    {
      "cell_type": "markdown",
      "metadata": {
        "id": "f_9JqKK4eJUy"
      },
      "source": [
        "Useful links:\n",
        "- [Matrix Differentiation (EN)](http://www.atmos.washington.edu/~dennis/MatrixCalculus.pdf)\n",
        "- [Матричные вычисления (RU)](http://www.machinelearning.ru/wiki/images/2/2a/Matrix-Gauss.pdf)"
      ]
    },
    {
      "cell_type": "markdown",
      "metadata": {
        "id": "S1yKlQw5eJUz"
      },
      "source": [
        "## Exercise 1"
      ]
    },
    {
      "cell_type": "markdown",
      "metadata": {
        "id": "9PBGk4NgeJUz"
      },
      "source": [
        "$$  \n",
        "y = x^Tx,  \\quad x \\in \\mathbb{R}^N\n",
        "$$"
      ]
    },
    {
      "cell_type": "markdown",
      "metadata": {
        "id": "ZEHdCDOpeJUz"
      },
      "source": [
        "$$\n",
        "\\frac{dy}{dx} =\n",
        "$$"
      ]
    },
    {
      "cell_type": "markdown",
      "source": [
        "$$\n",
        "\\textbf{solution:} \\\\\n",
        "\\frac{d y}{d x} = \\frac{d x^T x}{d x} = \\frac{d x^T E x}{d x} = Ex + (x^T E)^T = 2x\n",
        "$$"
      ],
      "metadata": {
        "id": "KVL9w1a3iC5I"
      }
    },
    {
      "cell_type": "markdown",
      "metadata": {
        "id": "vqvzWmJxeJU0"
      },
      "source": [
        "## Exercise 2"
      ]
    },
    {
      "cell_type": "markdown",
      "metadata": {
        "id": "Ka-_uQhpeJU0"
      },
      "source": [
        "$$ y = tr(AB) \\quad A,B \\in \\mathbb{R}^{N \\times N} $$"
      ]
    },
    {
      "cell_type": "markdown",
      "metadata": {
        "id": "8wmwJg7XeJU0"
      },
      "source": [
        "$$\n",
        "\\frac{dy}{dA} =\n",
        "$$"
      ]
    },
    {
      "cell_type": "markdown",
      "source": [
        "$$\n",
        "\\textbf{solution(signs $\\sum$ omitted):} \\\\\n",
        "\\left(\\frac{d y}{d A}\\right)_{ij} = \\frac{d \\ tr{(AB)}}{d a_{ij}} = \\frac{d (a_{kl} b_{lk}) }{d a_{ij}} = \\delta_{ik} \\delta_{jl} b_{lk} = b_{ji} \\quad \\Rightarrow \\quad \\frac{d y}{d A} = B^T \\\\\n",
        "\\text{ну или использовать табличную формулу, приведенную в методичке выше} \\\\\n",
        "$$\n",
        "![image.png](data:image/png;base64,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)"
      ],
      "metadata": {
        "id": "grFeEHOIiscO"
      }
    },
    {
      "cell_type": "markdown",
      "metadata": {
        "id": "Y0cKN3PCeJU0"
      },
      "source": [
        "## Exercise 3"
      ]
    },
    {
      "cell_type": "markdown",
      "metadata": {
        "id": "okLIJiE6eJU1"
      },
      "source": [
        "$$  \n",
        "y = x^TAc , \\quad A\\in \\mathbb{R}^{N \\times N}, x\\in \\mathbb{R}^{N}, c\\in \\mathbb{R}^{N}\n",
        "$$"
      ]
    },
    {
      "cell_type": "markdown",
      "metadata": {
        "id": "2dAXGV6TeJU1"
      },
      "source": [
        "$$\n",
        "\\frac{dy}{dx} =\n",
        "$$"
      ]
    },
    {
      "cell_type": "markdown",
      "metadata": {
        "id": "kxxxiBXyeJU1"
      },
      "source": [
        "$$\n",
        "\\frac{dy}{dA} =\n",
        "$$"
      ]
    },
    {
      "cell_type": "markdown",
      "metadata": {
        "id": "tv8ifHBbeJU1"
      },
      "source": [
        "Hint for the latter (one of the ways): use *ex. 2* result and the fact\n",
        "$$\n",
        "tr(ABC) = tr (CAB)\n",
        "$$"
      ]
    },
    {
      "cell_type": "markdown",
      "source": [
        "$$\n",
        "\\textbf{solution:} \\\\\n",
        "\\left(\\frac{d y}{d x}\\right)_i = \\frac{d (x_j a_{jk} c_k)}{d x_i} = a_{ik}c_k \\quad \\Rightarrow \\quad \\frac{d y}{d x} = Ac \\\\\n",
        "\\left(\\frac{d y}{d A}\\right)_{ij} = \\frac{d (x_p a_{pq} c_q)}{d a_{ij}} = x_i c_j \\quad \\Rightarrow \\quad \\frac{d y}{d A} = x c^T \\\\\n",
        "\\text{or using hint:} \\quad \\ \\frac{d y}{d A} = \\frac{d x^T A c}{d A} = \\frac{d \\ tr(x^T A c)}{d A} = \\frac{d \\ tr(c x^T A)}{d A} = (c x^T)^T = x c^T\n",
        "$$"
      ],
      "metadata": {
        "id": "2WSsIX_ZlEv0"
      }
    },
    {
      "cell_type": "markdown",
      "metadata": {
        "id": "F7fM1vK-eJU1"
      },
      "source": [
        "## Exercise 4"
      ]
    },
    {
      "cell_type": "markdown",
      "metadata": {
        "id": "slUPHCPceJU1"
      },
      "source": [
        "Classic matrix factorization example. Given matrix $X$ you need to find $A$, $S$ to approximate $X$. This can be done by simple gradient descent iteratively alternating $A$ and $S$ updates.\n",
        "$$\n",
        "J = || X - AS ||_F^2  , \\quad A\\in \\mathbb{R}^{N \\times R} , \\quad S\\in \\mathbb{R}^{R \\times M}\n",
        "$$\n",
        "$$\n",
        "\\frac{dJ}{dS} = ?\n",
        "$$\n",
        "\n",
        "You may use one of the following approaches:"
      ]
    },
    {
      "cell_type": "markdown",
      "metadata": {
        "id": "HT3Tkl3TeJU1"
      },
      "source": [
        "#### First approach\n",
        "Using ex.2 and the fact:\n",
        "$$\n",
        "|| X ||_F^2 = tr(XX^T)\n",
        "$$\n",
        "it is easy to derive gradients (you can find it in one of the refs)."
      ]
    },
    {
      "cell_type": "markdown",
      "source": [
        "$$\n",
        "\\textbf{solution:} \\\\\n",
        "\\frac{d J}{d S} = \\frac{d \\ tr((X-AS)(X-AS)^T)}{d S} = \\frac{d}{d S} (tr (X X^T) - tr(X^T A S) - tr(S^T A^T X) + tr(A^T A S S^T)) =  - A^T X - ((A^T X)^T)^T + ((A^T A S)^T)^T + (S^T A^T A)^T = - 2(A^T X - A^T A S) = -2A^T(X - A S)\n",
        "$$"
      ],
      "metadata": {
        "id": "clOhFJOqs86n"
      }
    },
    {
      "cell_type": "markdown",
      "metadata": {
        "id": "XLatXDaqeJU1"
      },
      "source": [
        "#### Second approach\n",
        "You can use *slightly different techniques* if they suits you. Take a look at this derivation:\n",
        "<img src=\"grad.png\">\n",
        "\n",
        "(excerpt from [Handbook of blind source separation, Jutten, page 517](https://books.google.ru/books?id=PTbj03bYH6kC&printsec=frontcover&dq=Handbook+of+Blind+Source+Separation&hl=en&sa=X&ved=0ahUKEwi-q_apiJDLAhULvXIKHVXJDWcQ6AEIHDAA#v=onepage&q=Handbook%20of%20Blind%20Source%20Separation&f=false), open for better picture)."
      ]
    },
    {
      "cell_type": "markdown",
      "source": [
        "$$\n",
        "\\textbf{solution:} \\\\\n",
        "\\left(\\frac{d J}{d S}\\right)_{ij} = \\frac{d}{d s_{ij}} \\left(\\sum_{pt}(x_{pt} - (AS)_{pt})^2\\right) = \\frac{d \\left(\\sum_{pt}(x_{pt} - \\sum_q a_{pq} s_{qt} )^2\\right)}{d s_{ij}} = \\sum_{pt} \\left(2(x_{pt} - \\sum_q a_{pq}s_{qt}) \\cdot (-\\sum_q a_{pq} \\delta_{iq}\\delta_{jt})\\right) = \\sum_{pt} \\left(2(x_{pt} - \\sum_q a_{pq}s_{qt}) \\cdot (-a_{pi}\\delta_{jt})\\right) = -2\\sum_p(a_{pi}(x_{pj} - \\sum_{q} a_{pq} s_{qj})) = -2 \\sum_p (A^T)_{ip} x_{pj} -2 \\sum_{pq}((A^T)_{ip} a_{pq} s_{qj}) \\equiv \\left( -2 A^T(X - AS) \\right)_{ij}\n",
        "$$"
      ],
      "metadata": {
        "id": "CXWOzvWazbKQ"
      }
    },
    {
      "cell_type": "markdown",
      "metadata": {
        "id": "yKDo5dtpeJU2"
      },
      "source": [
        "#### Third approach\n",
        "And finally we can use chain rule!\n",
        "let $ F = AS $\n",
        "\n",
        "**Find**\n",
        "$$\n",
        "\\frac{dJ}{dF} =  \n",
        "$$\n",
        "and\n",
        "$$\n",
        "\\frac{dF}{dS} =  \n",
        "$$\n",
        "(the shape should be $ NM \\times RM )$.\n",
        "\n",
        "Now it is easy do get desired gradients:\n",
        "$$\n",
        "\\frac{dJ}{dS} =  \n",
        "$$"
      ]
    },
    {
      "cell_type": "markdown",
      "source": [
        "$$\n",
        "\\textbf{solution:} \\\\\n",
        "\\frac{d J}{d F} = \\frac{d \\ tr((X-AS)(X-AS)^T)}{d (AS)} = -2((X-AS)^T)^T = -2(X-AS) \\\\\n",
        "\\frac{d F}{d S} = \\frac{d AS}{d S} = A^T \\quad \\Rightarrow \\\\\n",
        "\\Rightarrow \\quad \\frac{d J}{d S} = \\frac{d F}{d S}  \\frac{d J}{d F} = -2A^T(X-AS)\n",
        "$$"
      ],
      "metadata": {
        "id": "WczjkKLu_sr-"
      }
    },
    {
      "cell_type": "markdown",
      "metadata": {
        "collapsed": true,
        "jupyter": {
          "outputs_hidden": true
        },
        "id": "4l4UKkoXeJU2"
      },
      "source": [
        "## 2. kNN questions\n",
        "Here come the questions from the assignment0_01. Please, refer to the assignment0_01 to get the context of the questions."
      ]
    },
    {
      "cell_type": "markdown",
      "metadata": {
        "id": "i-oRvhaheJU2"
      },
      "source": [
        "### Question 1\n",
        "\n",
        "Notice the structured patterns in the distance matrix, where some rows or columns are visible brighter. (Note that with the default color scheme black indicates low distances while white indicates high distances.)\n",
        "\n",
        "- What in the data is the cause behind the distinctly bright rows?\n",
        "- What causes the columns?\n",
        "\n",
        "*Your Answer:*\n",
        "\n",
        "- ***Outliers in the test data are the cause of bright lines that stand out amongst the noise. For example, if they have an all-black pattern, it will be far away to all training data and this will appear as a bright line.***\n",
        "\n",
        "- ***Similarly, outliers in the training data will cause bright columns.***\n",
        "\n"
      ]
    },
    {
      "cell_type": "markdown",
      "metadata": {
        "id": "SqksOYEpeJU2"
      },
      "source": [
        "### Question 2\n",
        "\n",
        "We can also use other distance metrics such as L1 distance.\n",
        "For pixel values $p_{ij}^{(k)}$ at location $(i,j)$ of some image $I_k$,\n",
        "\n",
        "the mean $\\mu$ across all pixels over all images is $$\\mu=\\frac{1}{nhw}\\sum_{k=1}^n\\sum_{i=1}^{h}\\sum_{j=1}^{w}p_{ij}^{(k)}$$\n",
        "And the pixel-wise mean $\\mu_{ij}$ across all images is\n",
        "$$\\mu_{ij}=\\frac{1}{n}\\sum_{k=1}^np_{ij}^{(k)}.$$\n",
        "The general standard deviation $\\sigma$ and pixel-wise standard deviation $\\sigma_{ij}$ is defined similarly.\n",
        "\n",
        "Which of the following preprocessing steps will not change the performance of a Nearest Neighbor classifier that uses L1 distance? Select all that apply.\n",
        "1. Subtracting the mean $\\mu$ ($\\tilde{p}_{ij}^{(k)}=p_{ij}^{(k)}-\\mu$.)\n",
        "2. Subtracting the per pixel mean $\\mu_{ij}$  ($\\tilde{p}_{ij}^{(k)}=p_{ij}^{(k)}-\\mu_{ij}$.)\n",
        "3. Subtracting the mean $\\mu$ and dividing by the standard deviation $\\sigma$.\n",
        "4. Subtracting the pixel-wise mean $\\mu_{ij}$ and dividing by the pixel-wise standard deviation $\\sigma_{ij}$.\n",
        "5. Rotating the coordinate axes of the data.\n",
        "\n",
        "*Your Answer:* 1, 2, 3, 4\n",
        "\n",
        "\n",
        "*Your Explanation:*\n",
        "\n",
        "1. $||x^{(k)}_\\text{train}-x^{(m)}_\\text{test}||_1=\\sum_{ij}|(p_{ij}^{(k)})_\\text{train}-(p_{ij}^{(m)})_\\text{test}|=\\sum_{ij}| ((p_{ij}^{(k)})_\\text{train} - \\mu_{ij}) - ((p_{ij}^{(m)})_\\text{test} - \\mu_{ij}) | = \\sum_{ij} | ((p_{ij}^{(k)})_\\text{train} - \\mu) - ((p_{ij}^{(m)})_\\text{test} - \\mu) |$\\\n",
        "\n",
        "2. discussed in the first point\n",
        "\n",
        "3. Assume $||x^{(k)}_\\text{train}-x^{(m)}_\\text{test}||_1 < ||x^{(k)}_\\text{train}-x^{(k)}_\\text{test}||_1$.\n",
        "After subtracting the means $\\mu$ or $\\mu_{ij}$ $L_1$ distances won't change. So, it's we need to see what happens when we divide by $\\sigma$ or $\\sigma_{ij}$.\n",
        "$||x^{(k)}_\\text{train}-x^{(m)}_\\text{test}||_1 < ||x^{(k)}_\\text{train}-x^{(k)}_\\text{test}||_1 \\Rightarrow \\\\\n",
        "||x^{(k)}_\\text{train}-x^{(m)}_\\text{test}||_1 / \\sigma < ||x^{(k)}_\\text{train}-x^{(k)}_\\text{test}||_1 / \\sigma$\n",
        "That is, when comparing distances, all results are saved, which is the key point for knn.\n",
        "\n",
        "4. Dividing by $\\sigma_{ij}$ pixel-wise results in feature scaling. For example, if we have two features, and the standard deviation of the first feature is much larger than that of the second, then after dividing by the standard deviation pixel-wise, the first feature will have less weight in calculating the distance. This may lead to changes in the classification results.\n",
        "\n",
        "5. Rotating by an arbitrary angle can change the L1 distances between data points and, therefore, affect the performance of the classifier. For example, for points (0,1) and (1,0), rotating the axes by $\\pi/4$ transforms the distance from 2 to $\\sqrt(2)$, i.e., it decreases. At the same time, for points that were initially at coordinates ($\\sqrt{2}/2$, $\\sqrt{2}/2$) and ($\\sqrt{2}/2$, -$\\sqrt{2}/2$), the distance increases from $\\sqrt{2}/2$ to 2.\n",
        "\n",
        "\n"
      ]
    },
    {
      "cell_type": "markdown",
      "metadata": {
        "id": "A8hgb8tseJU2"
      },
      "source": [
        "## Question 3\n",
        "\n",
        "Which of the following statements about $k$-Nearest Neighbor ($k$-NN) are true in a classification setting, and for all $k$? Select all that apply.\n",
        "1. The decision boundary (hyperplane between classes in feature space) of the k-NN classifier is linear.\n",
        "2. The training error of a 1-NN will always be lower than that of 5-NN.\n",
        "3. The test error of a 1-NN will always be lower than that of a 5-NN.\n",
        "4. The time needed to classify a test example with the k-NN classifier grows with the size of the training set.\n",
        "5. None of the above.\n",
        "\n",
        "*Your Answer:* 2(но не просто меньше, а меньше либо равно), 4.\n",
        "\n",
        "\n",
        "*Your Explanation:*\n",
        "1. The decision boundary of a k-NN classifier is almost always nonlinear. It can be complex. It depends on the distribution of the data.\n",
        "2. The training error of 1-NN is equal to 0. For 5-NN it can be greater. So $Err_\\text{1-NN} \\leq Err_\\text{5-NN}$.\n",
        "3. The test error of 1-NN will not always be lower than that of 5-NN. 5-NN can generalize better and have a lower test error.\n",
        "4. Yes, because it needs to calculate the distances to all points in the training set.\n",
        "\n",
        "\n"
      ]
    }
  ],
  "metadata": {
    "kernelspec": {
      "display_name": "Python 3 (ipykernel)",
      "language": "python",
      "name": "python3"
    },
    "language_info": {
      "codemirror_mode": {
        "name": "ipython",
        "version": 3
      },
      "file_extension": ".py",
      "mimetype": "text/x-python",
      "name": "python",
      "nbconvert_exporter": "python",
      "pygments_lexer": "ipython3",
      "version": "3.12.1"
    },
    "colab": {
      "provenance": [],
      "toc_visible": true
    }
  },
  "nbformat": 4,
  "nbformat_minor": 0
}