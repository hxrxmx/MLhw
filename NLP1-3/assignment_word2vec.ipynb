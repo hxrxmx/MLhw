{
  "cells": [
    {
      "cell_type": "markdown",
      "metadata": {
        "id": "nTSf4ro-qU0d"
      },
      "source": [
        "## Бонусное задание: word2vec на PyTorch\n",
        "\n",
        "Как вы уже могли заметить, идея, лежащая в основе [word2vec](https://arxiv.org/pdf/1310.4546), достаточно общая. В данном задании вы реализуете его самостоятельно.\n",
        "\n",
        "Дисклеймер: не стоит удивляться тому, что реализация от `gensim` (или аналоги) обучается быстрее и работает точнее. Она использует множество доработок и ускорений, а также достаточно эффективный код. Ваша задача добиться промежуточных результатов за разумное время.\n",
        "\n",
        "P.s. Как ни странно, GPU в этом задании нам не потребуется."
      ]
    },
    {
      "cell_type": "markdown",
      "metadata": {
        "id": "0suChtFCzCQX"
      },
      "source": [
        "__Requirements:__ if you're running locally, in the selected environment run the following command:\n",
        "\n",
        "```pip install --upgrade nltk bokeh umap-learn```\n"
      ]
    },
    {
      "cell_type": "code",
      "execution_count": 1,
      "metadata": {
        "id": "Oipe2DU8qfm7"
      },
      "outputs": [
        {
          "name": "stdout",
          "output_type": "stream",
          "text": [
            "Requirement already satisfied: nltk in c:\\users\\hxrt mx\\anaconda3\\envs\\attack\\lib\\site-packages (3.9.1)\n",
            "Requirement already satisfied: bokeh in c:\\users\\hxrt mx\\anaconda3\\envs\\attack\\lib\\site-packages (3.7.0)\n",
            "Requirement already satisfied: umap-learn in c:\\users\\hxrt mx\\anaconda3\\envs\\attack\\lib\\site-packages (0.5.7)\n",
            "Requirement already satisfied: click in c:\\users\\hxrt mx\\anaconda3\\envs\\attack\\lib\\site-packages (from nltk) (8.1.8)\n",
            "Requirement already satisfied: joblib in c:\\users\\hxrt mx\\anaconda3\\envs\\attack\\lib\\site-packages (from nltk) (1.4.2)\n",
            "Requirement already satisfied: regex>=2021.8.3 in c:\\users\\hxrt mx\\anaconda3\\envs\\attack\\lib\\site-packages (from nltk) (2024.11.6)\n",
            "Requirement already satisfied: tqdm in c:\\users\\hxrt mx\\anaconda3\\envs\\attack\\lib\\site-packages (from nltk) (4.67.1)\n",
            "Requirement already satisfied: Jinja2>=2.9 in c:\\users\\hxrt mx\\anaconda3\\envs\\attack\\lib\\site-packages (from bokeh) (3.1.6)\n",
            "Requirement already satisfied: contourpy>=1.2 in c:\\users\\hxrt mx\\anaconda3\\envs\\attack\\lib\\site-packages (from bokeh) (1.3.1)\n",
            "Requirement already satisfied: narwhals>=1.13 in c:\\users\\hxrt mx\\anaconda3\\envs\\attack\\lib\\site-packages (from bokeh) (1.30.0)\n",
            "Requirement already satisfied: numpy>=1.16 in c:\\users\\hxrt mx\\anaconda3\\envs\\attack\\lib\\site-packages (from bokeh) (2.1.3)\n",
            "Requirement already satisfied: packaging>=16.8 in c:\\users\\hxrt mx\\anaconda3\\envs\\attack\\lib\\site-packages (from bokeh) (24.2)\n",
            "Requirement already satisfied: pandas>=1.2 in c:\\users\\hxrt mx\\anaconda3\\envs\\attack\\lib\\site-packages (from bokeh) (2.2.3)\n",
            "Requirement already satisfied: pillow>=7.1.0 in c:\\users\\hxrt mx\\anaconda3\\envs\\attack\\lib\\site-packages (from bokeh) (11.1.0)\n",
            "Requirement already satisfied: PyYAML>=3.10 in c:\\users\\hxrt mx\\anaconda3\\envs\\attack\\lib\\site-packages (from bokeh) (6.0.2)\n",
            "Requirement already satisfied: tornado>=6.2 in c:\\users\\hxrt mx\\anaconda3\\envs\\attack\\lib\\site-packages (from bokeh) (6.4.2)\n",
            "Requirement already satisfied: xyzservices>=2021.09.1 in c:\\users\\hxrt mx\\anaconda3\\envs\\attack\\lib\\site-packages (from bokeh) (2025.1.0)\n",
            "Requirement already satisfied: scipy>=1.3.1 in c:\\users\\hxrt mx\\anaconda3\\envs\\attack\\lib\\site-packages (from umap-learn) (1.15.2)\n",
            "Requirement already satisfied: scikit-learn>=0.22 in c:\\users\\hxrt mx\\anaconda3\\envs\\attack\\lib\\site-packages (from umap-learn) (1.6.1)\n",
            "Requirement already satisfied: numba>=0.51.2 in c:\\users\\hxrt mx\\anaconda3\\envs\\attack\\lib\\site-packages (from umap-learn) (0.61.0)\n",
            "Requirement already satisfied: pynndescent>=0.5 in c:\\users\\hxrt mx\\anaconda3\\envs\\attack\\lib\\site-packages (from umap-learn) (0.5.13)\n",
            "Requirement already satisfied: MarkupSafe>=2.0 in c:\\users\\hxrt mx\\anaconda3\\envs\\attack\\lib\\site-packages (from Jinja2>=2.9->bokeh) (3.0.2)\n",
            "Requirement already satisfied: llvmlite<0.45,>=0.44.0dev0 in c:\\users\\hxrt mx\\anaconda3\\envs\\attack\\lib\\site-packages (from numba>=0.51.2->umap-learn) (0.44.0)\n",
            "Requirement already satisfied: python-dateutil>=2.8.2 in c:\\users\\hxrt mx\\anaconda3\\envs\\attack\\lib\\site-packages (from pandas>=1.2->bokeh) (2.9.0.post0)\n",
            "Requirement already satisfied: pytz>=2020.1 in c:\\users\\hxrt mx\\anaconda3\\envs\\attack\\lib\\site-packages (from pandas>=1.2->bokeh) (2025.1)\n",
            "Requirement already satisfied: tzdata>=2022.7 in c:\\users\\hxrt mx\\anaconda3\\envs\\attack\\lib\\site-packages (from pandas>=1.2->bokeh) (2025.1)\n",
            "Requirement already satisfied: threadpoolctl>=3.1.0 in c:\\users\\hxrt mx\\anaconda3\\envs\\attack\\lib\\site-packages (from scikit-learn>=0.22->umap-learn) (3.6.0)\n",
            "Requirement already satisfied: colorama in c:\\users\\hxrt mx\\anaconda3\\envs\\attack\\lib\\site-packages (from click->nltk) (0.4.6)\n",
            "Requirement already satisfied: six>=1.5 in c:\\users\\hxrt mx\\anaconda3\\envs\\attack\\lib\\site-packages (from python-dateutil>=2.8.2->pandas>=1.2->bokeh) (1.16.0)\n",
            "Note: you may need to restart the kernel to use updated packages.\n"
          ]
        }
      ],
      "source": [
        "%pip install --upgrade nltk bokeh umap-learn"
      ]
    },
    {
      "cell_type": "code",
      "execution_count": 2,
      "metadata": {},
      "outputs": [
        {
          "name": "stdout",
          "output_type": "stream",
          "text": [
            "Requirement already satisfied: torch in c:\\users\\hxrt mx\\anaconda3\\envs\\attack\\lib\\site-packages (2.6.0)\n",
            "Requirement already satisfied: filelock in c:\\users\\hxrt mx\\anaconda3\\envs\\attack\\lib\\site-packages (from torch) (3.18.0)\n",
            "Requirement already satisfied: typing-extensions>=4.10.0 in c:\\users\\hxrt mx\\anaconda3\\envs\\attack\\lib\\site-packages (from torch) (4.12.2)\n",
            "Requirement already satisfied: networkx in c:\\users\\hxrt mx\\anaconda3\\envs\\attack\\lib\\site-packages (from torch) (3.4.2)\n",
            "Requirement already satisfied: jinja2 in c:\\users\\hxrt mx\\anaconda3\\envs\\attack\\lib\\site-packages (from torch) (3.1.6)\n",
            "Requirement already satisfied: fsspec in c:\\users\\hxrt mx\\anaconda3\\envs\\attack\\lib\\site-packages (from torch) (2025.3.0)\n",
            "Requirement already satisfied: setuptools in c:\\users\\hxrt mx\\anaconda3\\envs\\attack\\lib\\site-packages (from torch) (72.1.0)\n",
            "Requirement already satisfied: sympy==1.13.1 in c:\\users\\hxrt mx\\anaconda3\\envs\\attack\\lib\\site-packages (from torch) (1.13.1)\n",
            "Requirement already satisfied: mpmath<1.4,>=1.1.0 in c:\\users\\hxrt mx\\anaconda3\\envs\\attack\\lib\\site-packages (from sympy==1.13.1->torch) (1.3.0)\n",
            "Requirement already satisfied: MarkupSafe>=2.0 in c:\\users\\hxrt mx\\anaconda3\\envs\\attack\\lib\\site-packages (from jinja2->torch) (3.0.2)\n",
            "Note: you may need to restart the kernel to use updated packages.\n"
          ]
        }
      ],
      "source": [
        "%pip install torch"
      ]
    },
    {
      "cell_type": "code",
      "execution_count": 3,
      "metadata": {
        "id": "pqPU4Lu2qU0h"
      },
      "outputs": [
        {
          "name": "stderr",
          "output_type": "stream",
          "text": [
            "c:\\Users\\hxrt mx\\anaconda3\\envs\\attack\\Lib\\site-packages\\tqdm\\auto.py:21: TqdmWarning: IProgress not found. Please update jupyter and ipywidgets. See https://ipywidgets.readthedocs.io/en/stable/user_install.html\n",
            "  from .autonotebook import tqdm as notebook_tqdm\n"
          ]
        }
      ],
      "source": [
        "import itertools\n",
        "import random\n",
        "import string\n",
        "from collections import Counter\n",
        "from itertools import chain\n",
        "\n",
        "import matplotlib.pyplot as plt\n",
        "import numpy as np\n",
        "import torch\n",
        "import torch.autograd as autograd\n",
        "import torch.nn as nn\n",
        "import torch.nn.functional as F\n",
        "import torch.optim as optim\n",
        "import umap\n",
        "from IPython.display import clear_output\n",
        "from matplotlib import pyplot as plt\n",
        "from nltk.tokenize import WordPunctTokenizer\n",
        "from torch.optim.lr_scheduler import ReduceLROnPlateau, StepLR\n",
        "from tqdm.auto import tqdm as tqdma"
      ]
    },
    {
      "cell_type": "code",
      "execution_count": 4,
      "metadata": {
        "colab": {
          "base_uri": "https://localhost:8080/"
        },
        "id": "8Fbx57z3qU0i",
        "outputId": "2fd3961a-7c11-48b1-c786-b179a77c80aa"
      },
      "outputs": [
        {
          "name": "stderr",
          "output_type": "stream",
          "text": [
            "\"wget\" �� ���� ����७��� ��� ���譥�\n",
            "��������, �ᯮ��塞�� �ணࠬ��� ��� ������ 䠩���.\n"
          ]
        }
      ],
      "source": [
        "# download the data:\n",
        "!wget https://www.dropbox.com/s/obaitrix9jyu84r/quora.txt?dl=1 -O ./quora.txt -nc\n",
        "# alternative download link: https://yadi.sk/i/BPQrUu1NaTduEw"
      ]
    },
    {
      "cell_type": "code",
      "execution_count": 5,
      "metadata": {
        "colab": {
          "base_uri": "https://localhost:8080/",
          "height": 35
        },
        "id": "8EYy5dQpqU0i",
        "outputId": "e0062fc3-91db-42a0-f9a8-b03d733f0916",
        "scrolled": false
      },
      "outputs": [
        {
          "data": {
            "text/plain": [
              "'Is lesbianism real?\\n'"
            ]
          },
          "execution_count": 5,
          "metadata": {},
          "output_type": "execute_result"
        }
      ],
      "source": [
        "data = list(open(\"./quora.txt\", encoding=\"utf-8\"))\n",
        "data[504]"
      ]
    },
    {
      "cell_type": "markdown",
      "metadata": {
        "id": "feBEGI2eqU0j"
      },
      "source": [
        "Токенизация – первый шаг.\n",
        "Тексты, с которыми мы работаем, включают в себя пунктуацию, смайлики и прочие нестандартные токены, так что простой `str.split` не подойдет.\n",
        "\n",
        "Обратимся к `nltk` - библиотеку, нашла широкое применеие в области NLP."
      ]
    },
    {
      "cell_type": "code",
      "execution_count": 6,
      "metadata": {
        "colab": {
          "base_uri": "https://localhost:8080/"
        },
        "id": "7mWTvm50qU0j",
        "outputId": "71a44545-0df8-4bb8-a723-0e4945429d06"
      },
      "outputs": [
        {
          "name": "stdout",
          "output_type": "stream",
          "text": [
            "['Which', 'brand', 'should', 'go', 'with', 'the', 'GTX', '960', 'graphic', 'card', ',', 'MSI', ',', 'Zotac', 'or', 'ASUS', '?']\n"
          ]
        }
      ],
      "source": [
        "tokenizer = WordPunctTokenizer()\n",
        "\n",
        "print(tokenizer.tokenize(data[10]))"
      ]
    },
    {
      "cell_type": "code",
      "execution_count": 7,
      "metadata": {
        "id": "HzC05EHWqU0j"
      },
      "outputs": [],
      "source": [
        "data_tok = [\n",
        "    tokenizer.tokenize(\n",
        "        line.translate(str.maketrans(\"\", \"\", string.punctuation)).lower()\n",
        "    )\n",
        "    for line in data\n",
        "]\n",
        "data_tok = [x for x in data_tok if len(x) >= 3]"
      ]
    },
    {
      "cell_type": "markdown",
      "metadata": {
        "id": "6azRAgHIqU0k"
      },
      "source": [
        "Несколько проверок:"
      ]
    },
    {
      "cell_type": "code",
      "execution_count": 8,
      "metadata": {
        "id": "Cp8UpxdWqU0k"
      },
      "outputs": [],
      "source": [
        "assert all(\n",
        "    isinstance(row, (list, tuple)) for row in data_tok\n",
        "), \"please convert each line into a list of tokens (strings)\"\n",
        "assert all(\n",
        "    all(isinstance(tok, str) for tok in row) for row in data_tok\n",
        "), \"please convert each line into a list of tokens (strings)\"\n",
        "is_latin = lambda tok: all(\"a\" <= x.lower() <= \"z\" for x in tok)\n",
        "assert all(\n",
        "    map(lambda l: not is_latin(l) or l.islower(), map(\" \".join, data_tok))\n",
        "), \"please make sure to lowercase the data\""
      ]
    },
    {
      "cell_type": "markdown",
      "metadata": {
        "id": "37e7-MIhqU0x"
      },
      "source": [
        "Ниже заданы константы ширины окна контекста и проведена предобработка для построения skip-gram модели."
      ]
    },
    {
      "cell_type": "code",
      "execution_count": 9,
      "metadata": {
        "id": "fugc1IomqU0x"
      },
      "outputs": [],
      "source": [
        "min_count = 5\n",
        "window_radius = 5"
      ]
    },
    {
      "cell_type": "code",
      "execution_count": 10,
      "metadata": {
        "id": "zY1ciK-tzCQb"
      },
      "outputs": [],
      "source": [
        "vocabulary_with_counter = Counter(chain.from_iterable(data_tok))\n",
        "\n",
        "word_count_dict = dict()\n",
        "for word, counter in vocabulary_with_counter.items():\n",
        "    if counter >= min_count:\n",
        "        word_count_dict[word] = counter\n",
        "\n",
        "vocabulary = set(word_count_dict.keys())\n",
        "del vocabulary_with_counter"
      ]
    },
    {
      "cell_type": "code",
      "execution_count": 11,
      "metadata": {
        "id": "VrY_DlcqzCQc"
      },
      "outputs": [],
      "source": [
        "word_to_index = {word: index for index, word in enumerate(vocabulary)}\n",
        "index_to_word = {index: word for word, index in word_to_index.items()}"
      ]
    },
    {
      "cell_type": "markdown",
      "metadata": {
        "id": "4Y8rlBfqqU0x"
      },
      "source": [
        "Пары `(слово, контекст)` на основе доступного датасета сгенерированы ниже."
      ]
    },
    {
      "cell_type": "code",
      "execution_count": 12,
      "metadata": {
        "colab": {
          "base_uri": "https://localhost:8080/"
        },
        "id": "h2-aqyyaqU0x",
        "outputId": "7f6f0bb8-f0e4-4169-d606-b55dd9956e1a"
      },
      "outputs": [
        {
          "name": "stdout",
          "output_type": "stream",
          "text": [
            "Generated 40220313 pairs of target and context words.\n"
          ]
        }
      ],
      "source": [
        "context_pairs = []\n",
        "\n",
        "for text in data_tok:\n",
        "    for i, central_word in enumerate(text):\n",
        "        context_indices = range(\n",
        "            max(0, i - window_radius), min(i + window_radius, len(text))\n",
        "        )\n",
        "        for j in context_indices:\n",
        "            if j == i:\n",
        "                continue\n",
        "            context_word = text[j]\n",
        "            if central_word in vocabulary and context_word in vocabulary:\n",
        "                context_pairs.append(\n",
        "                    (word_to_index[central_word], word_to_index[context_word])\n",
        "                )\n",
        "\n",
        "print(f\"Generated {len(context_pairs)} pairs of target and context words.\")"
      ]
    },
    {
      "cell_type": "markdown",
      "metadata": {
        "id": "miTa0x3ezCQc"
      },
      "source": [
        "#### Подзадача №1: subsampling\n",
        "Для того, чтобы сгладить разницу в частоте встречаемсости слов, необходимо реализовать механизм subsampling'а.\n",
        "Для этого вам необходимо реализовать функцию ниже.\n",
        "\n",
        "Вероятность **исключить** слово из обучения (на фиксированном шаге) вычисляется как\n",
        "$$\n",
        "P_\\text{drop}(w_i)=1 - \\sqrt{\\frac{t}{f(w_i)}},\n",
        "$$\n",
        "где $f(w_i)$ – нормированная частота встречаемости слова, а $t$ – заданный порог (threshold)."
      ]
    },
    {
      "cell_type": "code",
      "execution_count": 13,
      "metadata": {
        "id": "L63DKREXzCQc"
      },
      "outputs": [],
      "source": [
        "def subsample_frequent_words(word_count_dict, threshold=1e-5):\n",
        "    \"\"\"\n",
        "    Calculates the subsampling probabilities for words based on their frequencies.\n",
        "\n",
        "    This function is used to determine the probability of keeping a word in the dataset\n",
        "    when subsampling frequent words. The method used is inspired by the subsampling approach\n",
        "    in Word2Vec, where each word's frequency affects its probability of being kept.\n",
        "\n",
        "    Parameters:\n",
        "    - word_count_dict (dict): A dictionary where keys are words and values are the counts of those words.\n",
        "    - threshold (float, optional): A threshold parameter used to adjust the frequency of word subsampling.\n",
        "                                   Defaults to 1e-5.\n",
        "\n",
        "    Returns:\n",
        "    - dict: A dictionary where keys are words and values are the probabilities of keeping each word.\n",
        "\n",
        "    Example:\n",
        "    >>> word_counts = {'the': 5000, 'is': 1000, 'apple': 50}\n",
        "    >>> subsample_frequent_words(word_counts)\n",
        "    {'the': 0.028, 'is': 0.223, 'apple': 1.0}\n",
        "    \"\"\"\n",
        "    total_count = sum(word_count_dict.values())\n",
        "\n",
        "    keep_prob_dict = {\n",
        "        word: min(1., np.sqrt(threshold / (count / total_count)))\n",
        "        for word, count in word_count_dict.items()\n",
        "    }\n",
        "    return keep_prob_dict"
      ]
    },
    {
      "cell_type": "code",
      "execution_count": 14,
      "metadata": {
        "colab": {
          "base_uri": "https://localhost:8080/"
        },
        "id": "wkxyXZiFR6YM",
        "outputId": "e0a7c7e0-1e86-45cc-e5d1-b5f05f69d4a7"
      },
      "outputs": [
        {
          "data": {
            "text/plain": [
              "{'the': np.float64(0.0034785054261852176),\n",
              " 'is': np.float64(0.007778174593052023),\n",
              " 'apple': np.float64(0.034785054261852175)}"
            ]
          },
          "execution_count": 14,
          "metadata": {},
          "output_type": "execute_result"
        }
      ],
      "source": [
        "word_counts_example = {'the': 5000, 'is': 1000, 'apple': 50}\n",
        "subsample_frequent_words(word_counts_example)"
      ]
    },
    {
      "cell_type": "markdown",
      "metadata": {
        "id": "jlPKZDUVzCQc"
      },
      "source": [
        "#### Подзадача №2: negative sampling\n",
        "Для более эффективного обучения необходимо не только предсказывать высокие вероятности для слов из контекста, но и предсказывать низкие для слов, не встреченных в контексте. Для этого вам необходимо вычислить вероятност использовать слово в качестве negative sample, реализовав функцию ниже.\n",
        "\n",
        "В оригинальной статье предлагается оценивать вероятность слов выступать в качестве negative sample согласно распределению $P_n(w)$\n",
        "$$\n",
        "P_n(w) = \\frac{U(w)^{3/4}}{Z},\n",
        "$$\n",
        "\n",
        "где $U(w)$ распределение слов по частоте (или, как его еще называют, по униграммам), а $Z$ – нормировочная константа, чтобы общая мера была равна $1$."
      ]
    },
    {
      "cell_type": "code",
      "execution_count": 15,
      "metadata": {
        "id": "Qki4VpTgzCQc"
      },
      "outputs": [],
      "source": [
        "def get_negative_sampling_prob(word_count_dict):\n",
        "    \"\"\"\n",
        "    Calculates the negative sampling probabilities for words based on their frequencies.\n",
        "\n",
        "    This function adjusts the frequency of each word raised to the power of 0.75, which is\n",
        "    commonly used in algorithms like Word2Vec to moderate the influence of very frequent words.\n",
        "    It then normalizes these adjusted frequencies to ensure they sum to 1, forming a probability\n",
        "    distribution used for negative sampling.\n",
        "\n",
        "    Parameters:\n",
        "    - word_count_dict (dict): A dictionary where keys are words and values are the counts of those words.\n",
        "\n",
        "    Returns:\n",
        "    - dict: A dictionary where keys are words and values are the probabilities of selecting each word\n",
        "            for negative sampling.\n",
        "\n",
        "    Example:\n",
        "    >>> word_counts = {'the': 5000, 'is': 1000, 'apple': 50}\n",
        "    >>> get_negative_sampling_prob(word_counts)\n",
        "    {'the': 0.298, 'is': 0.160, 'apple': 0.042}\n",
        "    \"\"\"\n",
        "    stat_sum = sum([count ** 0.75 for count in word_count_dict.values()])\n",
        "\n",
        "    negative_sampling_prob_dict = {\n",
        "        word: count**0.75 / stat_sum\n",
        "        for word, count in word_count_dict.items()\n",
        "    }\n",
        "    return negative_sampling_prob_dict"
      ]
    },
    {
      "cell_type": "code",
      "execution_count": 16,
      "metadata": {
        "colab": {
          "base_uri": "https://localhost:8080/"
        },
        "id": "e0voaKl0VyYe",
        "outputId": "280a71db-3fb2-4a62-b229-b023cc367086"
      },
      "outputs": [
        {
          "data": {
            "text/plain": [
              "{'the': 0.751488398196177,\n",
              " 'is': 0.2247474520689081,\n",
              " 'apple': 0.023764149734914898}"
            ]
          },
          "execution_count": 16,
          "metadata": {},
          "output_type": "execute_result"
        }
      ],
      "source": [
        "get_negative_sampling_prob(word_counts_example)"
      ]
    },
    {
      "cell_type": "markdown",
      "metadata": {
        "id": "yn4nYu8DzCQc"
      },
      "source": [
        "Для удобства, преобразуем полученные словари в массивы (т.к. все слова все равно уже пронумерованы)."
      ]
    },
    {
      "cell_type": "code",
      "execution_count": 17,
      "metadata": {
        "id": "5by6wHhqzCQc"
      },
      "outputs": [],
      "source": [
        "keep_prob_dict = subsample_frequent_words(word_count_dict)\n",
        "assert keep_prob_dict.keys() == word_count_dict.keys()"
      ]
    },
    {
      "cell_type": "code",
      "execution_count": 18,
      "metadata": {
        "id": "9x5kvJGbzCQc"
      },
      "outputs": [],
      "source": [
        "negative_sampling_prob_dict = get_negative_sampling_prob(word_count_dict)\n",
        "assert negative_sampling_prob_dict.keys() == negative_sampling_prob_dict.keys()\n",
        "assert np.allclose(sum(negative_sampling_prob_dict.values()), 1)"
      ]
    },
    {
      "cell_type": "code",
      "execution_count": 19,
      "metadata": {
        "id": "8tz8KDh3zCQc"
      },
      "outputs": [],
      "source": [
        "keep_prob_array = np.array(\n",
        "    [keep_prob_dict[index_to_word[idx]] for idx in range(len(word_to_index))]\n",
        ")\n",
        "negative_sampling_prob_array = np.array(\n",
        "    [\n",
        "        negative_sampling_prob_dict[index_to_word[idx]]\n",
        "        for idx in range(len(word_to_index))\n",
        "    ]\n",
        ")"
      ]
    },
    {
      "cell_type": "markdown",
      "metadata": {
        "id": "8iOsf45IzCQc"
      },
      "source": [
        "Если все прошло успешно, функция ниже поможет вам с генерацией подвыборок (батчей)."
      ]
    },
    {
      "cell_type": "code",
      "execution_count": 20,
      "metadata": {
        "id": "ZByKzwNlzCQd"
      },
      "outputs": [],
      "source": [
        "def generate_batch_with_neg_samples(\n",
        "    context_pairs,\n",
        "    batch_size,\n",
        "    keep_prob_array,\n",
        "    word_to_index,\n",
        "    num_negatives,\n",
        "    negative_sampling_prob_array,\n",
        "):\n",
        "    batch = []\n",
        "    neg_samples = []\n",
        "\n",
        "    while len(batch) < batch_size:\n",
        "        center, context = random.choice(context_pairs)\n",
        "        if random.random() < keep_prob_array[center]:\n",
        "            batch.append((center, context))\n",
        "            neg_sample = np.random.choice(\n",
        "                range(len(negative_sampling_prob_array)),\n",
        "                size=num_negatives,\n",
        "                p=negative_sampling_prob_array,\n",
        "            )\n",
        "            neg_samples.append(neg_sample)\n",
        "    batch = np.array(batch)\n",
        "    neg_samples = np.vstack(neg_samples)\n",
        "    return batch, neg_samples"
      ]
    },
    {
      "cell_type": "code",
      "execution_count": 21,
      "metadata": {
        "id": "W5wPwFj_zCQd"
      },
      "outputs": [],
      "source": [
        "batch_size = 4\n",
        "num_negatives = 15\n",
        "batch, neg_samples = generate_batch_with_neg_samples(\n",
        "    context_pairs,\n",
        "    batch_size,\n",
        "    keep_prob_array,\n",
        "    word_to_index,\n",
        "    num_negatives,\n",
        "    negative_sampling_prob_array,\n",
        ")"
      ]
    },
    {
      "cell_type": "markdown",
      "metadata": {
        "id": "hUEiCUhezCQd"
      },
      "source": [
        "Наконец, время реализовать модель. Обращаем ваше внимание, использование линейных слоев (`nn.Linear`) далеко не всегда оправданно!\n",
        "\n",
        "Напомним, что в случае negative sampling решается задача максимизации следующего функционала:\n",
        "\n",
        "$$\n",
        "\\mathcal{L} = \\log \\sigma({\\mathbf{v}'_{w_O}}^\\top \\mathbf{v}_{w_I}) + \\sum_{i=1}^{k} \\mathbb{E}_{w_i \\sim P_n(w)} \\left[ \\log \\sigma({-\\mathbf{v}'_{w_i}}^\\top \\mathbf{v}_{w_I}) \\right],\n",
        "$$\n",
        "\n",
        "где:\n",
        "- $\\mathbf{v}_{w_I}$ – вектор центрального слова $w_I$,\n",
        "- $\\mathbf{v}'_{w_O}$ – вектор слова из контекста $w_O$,\n",
        "- $k$ – число negative samplesЮ,\n",
        "- $P_n(w)$ – распределение negative samples, заданное выше,\n",
        "- $\\sigma$ – сигмоида."
      ]
    },
    {
      "cell_type": "code",
      "execution_count": 22,
      "metadata": {
        "id": "Ov4gkFKSzCQd"
      },
      "outputs": [],
      "source": [
        "class SkipGramModelWithNegSampling(nn.Module):\n",
        "    def __init__(self, vocab_size, embedding_dim):\n",
        "        super().__init__()\n",
        "\n",
        "        self.center_embeddings = nn.Embedding(vocab_size, embedding_dim)\n",
        "        self.context_embeddings = nn.Embedding(vocab_size, embedding_dim)\n",
        "\n",
        "        step = 0.5 / vocab_size ** 0.5\n",
        "        self.center_embeddings.weight.data.uniform_(-step, step)\n",
        "        self.context_embeddings.weight.data.uniform_(-step, step)\n",
        "\n",
        "    def forward(self, center_words, pos_context_words, neg_context_words):\n",
        "        center_vecs = self.center_embeddings(center_words)\n",
        "        pos_context_vecs = self.context_embeddings(pos_context_words)\n",
        "        neg_context_vecs = self.context_embeddings(neg_context_words)\n",
        "\n",
        "\n",
        "        pos_scores = torch.sum(center_vecs * pos_context_vecs, dim=1)\n",
        "        neg_scores = torch.sum(center_vecs.unsqueeze(1) * neg_context_vecs, dim=2)\n",
        "\n",
        "        return pos_scores, neg_scores"
      ]
    },
    {
      "cell_type": "code",
      "execution_count": 23,
      "metadata": {
        "id": "Ids2z9F5zCQd"
      },
      "outputs": [],
      "source": [
        "device = torch.device(\"cpu\")"
      ]
    },
    {
      "cell_type": "code",
      "execution_count": 24,
      "metadata": {
        "id": "wjAIEaCvzCQd"
      },
      "outputs": [],
      "source": [
        "vocab_size = len(word_to_index)\n",
        "embedding_dim = 48\n",
        "num_negatives = 15\n",
        "\n",
        "model = SkipGramModelWithNegSampling(vocab_size, embedding_dim).to(device)\n",
        "optimizer = optim.Adam(model.parameters(), lr=0.05)\n",
        "lr_scheduler = ReduceLROnPlateau(optimizer, factor=0.7, patience=150)\n",
        "criterion = nn.BCEWithLogitsLoss()"
      ]
    },
    {
      "cell_type": "code",
      "execution_count": 25,
      "metadata": {
        "id": "sJbS9lbjzCQd"
      },
      "outputs": [
        {
          "name": "stdout",
          "output_type": "stream",
          "text": [
            "2740416\n"
          ]
        }
      ],
      "source": [
        "params_counter = 0\n",
        "for weights in model.parameters():\n",
        "    params_counter += weights.shape.numel()\n",
        "# assert params_counter == len(word_to_index) * embedding_dim * 2\n",
        "print(params_counter)"
      ]
    },
    {
      "cell_type": "code",
      "execution_count": 26,
      "metadata": {
        "id": "e1WYygzezCQd"
      },
      "outputs": [],
      "source": [
        "def train_skipgram_with_neg_sampling(\n",
        "    model,\n",
        "    context_pairs,\n",
        "    keep_prob_array,\n",
        "    word_to_index,\n",
        "    batch_size,\n",
        "    num_negatives,\n",
        "    negative_sampling_prob_array,\n",
        "    steps,\n",
        "    optimizer=optimizer,\n",
        "    lr_scheduler=lr_scheduler,\n",
        "    device=device,\n",
        "):\n",
        "    pos_labels = torch.ones(batch_size).to(device)\n",
        "    neg_labels = torch.zeros(batch_size, num_negatives).to(device)\n",
        "    loss_history = []\n",
        "    for step in tqdma(range(steps)):\n",
        "        batch, neg_samples = generate_batch_with_neg_samples(\n",
        "            context_pairs,\n",
        "            batch_size,\n",
        "            keep_prob_array,\n",
        "            word_to_index,\n",
        "            num_negatives,\n",
        "            negative_sampling_prob_array,\n",
        "        )\n",
        "        center_words = torch.tensor([pair[0] for pair in batch], dtype=torch.long).to(\n",
        "            device\n",
        "        )\n",
        "        pos_context_words = torch.tensor(\n",
        "            [pair[1] for pair in batch], dtype=torch.long\n",
        "        ).to(device)\n",
        "        neg_context_words = torch.tensor(neg_samples, dtype=torch.long).to(device)\n",
        "\n",
        "        optimizer.zero_grad()\n",
        "        pos_scores, neg_scores = model(\n",
        "            center_words, pos_context_words, neg_context_words\n",
        "        )\n",
        "\n",
        "        loss_pos = criterion(pos_scores, pos_labels)\n",
        "        loss_neg = criterion(neg_scores, neg_labels)\n",
        "\n",
        "        loss = loss_pos + loss_neg\n",
        "        loss.backward()\n",
        "        optimizer.step()\n",
        "\n",
        "        loss_history.append(loss.item())\n",
        "        lr_scheduler.step(loss_history[-1])\n",
        "\n",
        "        if step % 100 == 0:\n",
        "            print(\n",
        "                f\"Step {step}, Loss: {np.mean(loss_history[-100:])}, learning rate: {lr_scheduler._last_lr}\"\n",
        "            )"
      ]
    },
    {
      "cell_type": "code",
      "execution_count": 27,
      "metadata": {
        "colab": {
          "base_uri": "https://localhost:8080/",
          "height": 496,
          "referenced_widgets": [
            "78f5d5125aac4f5f86752c719ea3ba4c",
            "9add1a227248424a829c88b71b09771b",
            "c1c690fbf75244db8087cd7517391a61",
            "f11bd3781f0d4fecb1900fb468462f4b",
            "a7c0687301c94ad0bc55c9fdb05c78f5",
            "397cf151974e4f1b9ea19a56e7ca758a",
            "26e12bae094d4119b047cfe82ea61524",
            "1bdcffd55e8f4bd5a3f228f79d20499d",
            "e11b4a7529cc40b08192fd9b7759fffd",
            "1ba7e2a55c214ab5b05295215ee68050",
            "6b3f05e18d0443ac85a66d3a72eeee31"
          ]
        },
        "id": "vhZDkDTKzCQd",
        "outputId": "524ccac4-4ba1-453e-bc6b-63c7f0db4605"
      },
      "outputs": [
        {
          "name": "stderr",
          "output_type": "stream",
          "text": [
            "  0%|          | 1/3500 [00:00<37:25,  1.56it/s]"
          ]
        },
        {
          "name": "stdout",
          "output_type": "stream",
          "text": [
            "Step 0, Loss: 1.3862941265106201, learning rate: [0.05]\n"
          ]
        },
        {
          "name": "stderr",
          "output_type": "stream",
          "text": [
            "  3%|▎         | 101/3500 [01:04<36:33,  1.55it/s]"
          ]
        },
        {
          "name": "stdout",
          "output_type": "stream",
          "text": [
            "Step 100, Loss: 1.4721007454395294, learning rate: [0.05]\n"
          ]
        },
        {
          "name": "stderr",
          "output_type": "stream",
          "text": [
            "  6%|▌         | 201/3500 [02:07<34:29,  1.59it/s]"
          ]
        },
        {
          "name": "stdout",
          "output_type": "stream",
          "text": [
            "Step 200, Loss: 1.7802546620368958, learning rate: [0.034999999999999996]\n"
          ]
        },
        {
          "name": "stderr",
          "output_type": "stream",
          "text": [
            "  9%|▊         | 301/3500 [03:10<33:23,  1.60it/s]"
          ]
        },
        {
          "name": "stdout",
          "output_type": "stream",
          "text": [
            "Step 300, Loss: 1.8473853909969329, learning rate: [0.034999999999999996]\n"
          ]
        },
        {
          "name": "stderr",
          "output_type": "stream",
          "text": [
            " 11%|█▏        | 401/3500 [04:12<32:17,  1.60it/s]"
          ]
        },
        {
          "name": "stdout",
          "output_type": "stream",
          "text": [
            "Step 400, Loss: 1.8398512482643128, learning rate: [0.024499999999999997]\n"
          ]
        },
        {
          "name": "stderr",
          "output_type": "stream",
          "text": [
            " 14%|█▍        | 501/3500 [05:15<31:24,  1.59it/s]"
          ]
        },
        {
          "name": "stdout",
          "output_type": "stream",
          "text": [
            "Step 500, Loss: 1.784616550207138, learning rate: [0.01715]\n"
          ]
        },
        {
          "name": "stderr",
          "output_type": "stream",
          "text": [
            " 17%|█▋        | 601/3500 [06:18<30:09,  1.60it/s]"
          ]
        },
        {
          "name": "stdout",
          "output_type": "stream",
          "text": [
            "Step 600, Loss: 1.7230777585506438, learning rate: [0.01715]\n"
          ]
        },
        {
          "name": "stderr",
          "output_type": "stream",
          "text": [
            " 20%|██        | 701/3500 [07:20<28:58,  1.61it/s]"
          ]
        },
        {
          "name": "stdout",
          "output_type": "stream",
          "text": [
            "Step 700, Loss: 1.6656386864185333, learning rate: [0.012004999999999998]\n"
          ]
        },
        {
          "name": "stderr",
          "output_type": "stream",
          "text": [
            " 23%|██▎       | 801/3500 [08:22<28:01,  1.61it/s]"
          ]
        },
        {
          "name": "stdout",
          "output_type": "stream",
          "text": [
            "Step 800, Loss: 1.6341222679615022, learning rate: [0.008403499999999998]\n"
          ]
        },
        {
          "name": "stderr",
          "output_type": "stream",
          "text": [
            " 26%|██▌       | 901/3500 [09:25<27:26,  1.58it/s]"
          ]
        },
        {
          "name": "stdout",
          "output_type": "stream",
          "text": [
            "Step 900, Loss: 1.5940735936164856, learning rate: [0.008403499999999998]\n"
          ]
        },
        {
          "name": "stderr",
          "output_type": "stream",
          "text": [
            " 29%|██▊       | 1001/3500 [10:28<26:08,  1.59it/s]"
          ]
        },
        {
          "name": "stdout",
          "output_type": "stream",
          "text": [
            "Step 1000, Loss: 1.5607025802135468, learning rate: [0.005882449999999998]\n"
          ]
        },
        {
          "name": "stderr",
          "output_type": "stream",
          "text": [
            " 31%|███▏      | 1101/3500 [11:30<25:00,  1.60it/s]"
          ]
        },
        {
          "name": "stdout",
          "output_type": "stream",
          "text": [
            "Step 1100, Loss: 1.5347713482379914, learning rate: [0.004117714999999998]\n"
          ]
        },
        {
          "name": "stderr",
          "output_type": "stream",
          "text": [
            " 34%|███▍      | 1201/3500 [12:33<23:59,  1.60it/s]"
          ]
        },
        {
          "name": "stdout",
          "output_type": "stream",
          "text": [
            "Step 1200, Loss: 1.521870275735855, learning rate: [0.004117714999999998]\n"
          ]
        },
        {
          "name": "stderr",
          "output_type": "stream",
          "text": [
            " 37%|███▋      | 1301/3500 [13:35<22:54,  1.60it/s]"
          ]
        },
        {
          "name": "stdout",
          "output_type": "stream",
          "text": [
            "Step 1300, Loss: 1.5023346519470215, learning rate: [0.0028824004999999987]\n"
          ]
        },
        {
          "name": "stderr",
          "output_type": "stream",
          "text": [
            " 40%|████      | 1401/3500 [14:38<21:48,  1.60it/s]"
          ]
        },
        {
          "name": "stdout",
          "output_type": "stream",
          "text": [
            "Step 1400, Loss: 1.4886415314674377, learning rate: [0.0028824004999999987]\n"
          ]
        },
        {
          "name": "stderr",
          "output_type": "stream",
          "text": [
            " 43%|████▎     | 1501/3500 [15:40<20:45,  1.61it/s]"
          ]
        },
        {
          "name": "stdout",
          "output_type": "stream",
          "text": [
            "Step 1500, Loss: 1.4845284378528596, learning rate: [0.0028824004999999987]\n"
          ]
        },
        {
          "name": "stderr",
          "output_type": "stream",
          "text": [
            " 46%|████▌     | 1601/3500 [16:42<19:40,  1.61it/s]"
          ]
        },
        {
          "name": "stdout",
          "output_type": "stream",
          "text": [
            "Step 1600, Loss: 1.464764792919159, learning rate: [0.002017680349999999]\n"
          ]
        },
        {
          "name": "stderr",
          "output_type": "stream",
          "text": [
            " 49%|████▊     | 1701/3500 [17:44<18:36,  1.61it/s]"
          ]
        },
        {
          "name": "stdout",
          "output_type": "stream",
          "text": [
            "Step 1700, Loss: 1.4643204343318938, learning rate: [0.002017680349999999]\n"
          ]
        },
        {
          "name": "stderr",
          "output_type": "stream",
          "text": [
            " 51%|█████▏    | 1801/3500 [18:47<17:41,  1.60it/s]"
          ]
        },
        {
          "name": "stdout",
          "output_type": "stream",
          "text": [
            "Step 1800, Loss: 1.4648853480815887, learning rate: [0.0014123762449999991]\n"
          ]
        },
        {
          "name": "stderr",
          "output_type": "stream",
          "text": [
            " 54%|█████▍    | 1901/3500 [19:49<16:28,  1.62it/s]"
          ]
        },
        {
          "name": "stdout",
          "output_type": "stream",
          "text": [
            "Step 1900, Loss: 1.4562420463562011, learning rate: [0.0009886633714999993]\n"
          ]
        },
        {
          "name": "stderr",
          "output_type": "stream",
          "text": [
            " 57%|█████▋    | 2001/3500 [20:51<15:26,  1.62it/s]"
          ]
        },
        {
          "name": "stdout",
          "output_type": "stream",
          "text": [
            "Step 2000, Loss: 1.4468979549407959, learning rate: [0.0009886633714999993]\n"
          ]
        },
        {
          "name": "stderr",
          "output_type": "stream",
          "text": [
            " 60%|██████    | 2101/3500 [21:53<14:26,  1.61it/s]"
          ]
        },
        {
          "name": "stdout",
          "output_type": "stream",
          "text": [
            "Step 2100, Loss: 1.4403684616088868, learning rate: [0.0006920643600499994]\n"
          ]
        },
        {
          "name": "stderr",
          "output_type": "stream",
          "text": [
            " 63%|██████▎   | 2201/3500 [22:56<13:33,  1.60it/s]"
          ]
        },
        {
          "name": "stdout",
          "output_type": "stream",
          "text": [
            "Step 2200, Loss: 1.443497086763382, learning rate: [0.00048444505203499953]\n"
          ]
        },
        {
          "name": "stderr",
          "output_type": "stream",
          "text": [
            " 66%|██████▌   | 2301/3500 [23:58<12:29,  1.60it/s]"
          ]
        },
        {
          "name": "stdout",
          "output_type": "stream",
          "text": [
            "Step 2300, Loss: 1.4370131850242616, learning rate: [0.00048444505203499953]\n"
          ]
        },
        {
          "name": "stderr",
          "output_type": "stream",
          "text": [
            " 69%|██████▊   | 2401/3500 [25:00<11:24,  1.61it/s]"
          ]
        },
        {
          "name": "stdout",
          "output_type": "stream",
          "text": [
            "Step 2400, Loss: 1.4365105497837067, learning rate: [0.00033911153642449967]\n"
          ]
        },
        {
          "name": "stderr",
          "output_type": "stream",
          "text": [
            " 71%|███████▏  | 2501/3500 [26:03<10:21,  1.61it/s]"
          ]
        },
        {
          "name": "stdout",
          "output_type": "stream",
          "text": [
            "Step 2500, Loss: 1.4334653425216675, learning rate: [0.00033911153642449967]\n"
          ]
        },
        {
          "name": "stderr",
          "output_type": "stream",
          "text": [
            " 74%|███████▍  | 2601/3500 [27:05<09:20,  1.61it/s]"
          ]
        },
        {
          "name": "stdout",
          "output_type": "stream",
          "text": [
            "Step 2600, Loss: 1.4358153820037842, learning rate: [0.00023737807549714974]\n"
          ]
        },
        {
          "name": "stderr",
          "output_type": "stream",
          "text": [
            " 77%|███████▋  | 2701/3500 [28:07<08:16,  1.61it/s]"
          ]
        },
        {
          "name": "stdout",
          "output_type": "stream",
          "text": [
            "Step 2700, Loss: 1.4306110441684723, learning rate: [0.0001661646528480048]\n"
          ]
        },
        {
          "name": "stderr",
          "output_type": "stream",
          "text": [
            " 80%|████████  | 2801/3500 [29:10<07:15,  1.60it/s]"
          ]
        },
        {
          "name": "stdout",
          "output_type": "stream",
          "text": [
            "Step 2800, Loss: 1.436248960494995, learning rate: [0.0001661646528480048]\n"
          ]
        },
        {
          "name": "stderr",
          "output_type": "stream",
          "text": [
            " 83%|████████▎ | 2901/3500 [30:12<06:16,  1.59it/s]"
          ]
        },
        {
          "name": "stdout",
          "output_type": "stream",
          "text": [
            "Step 2900, Loss: 1.4321824598312378, learning rate: [0.0001661646528480048]\n"
          ]
        },
        {
          "name": "stderr",
          "output_type": "stream",
          "text": [
            " 86%|████████▌ | 3001/3500 [31:14<05:10,  1.60it/s]"
          ]
        },
        {
          "name": "stdout",
          "output_type": "stream",
          "text": [
            "Step 3000, Loss: 1.436071343421936, learning rate: [0.00011631525699360335]\n"
          ]
        },
        {
          "name": "stderr",
          "output_type": "stream",
          "text": [
            " 89%|████████▊ | 3101/3500 [32:16<04:05,  1.62it/s]"
          ]
        },
        {
          "name": "stdout",
          "output_type": "stream",
          "text": [
            "Step 3100, Loss: 1.4315932452678681, learning rate: [0.00011631525699360335]\n"
          ]
        },
        {
          "name": "stderr",
          "output_type": "stream",
          "text": [
            " 91%|█████████▏| 3201/3500 [33:19<03:06,  1.60it/s]"
          ]
        },
        {
          "name": "stdout",
          "output_type": "stream",
          "text": [
            "Step 3200, Loss: 1.4212970185279845, learning rate: [8.142067989552233e-05]\n"
          ]
        },
        {
          "name": "stderr",
          "output_type": "stream",
          "text": [
            " 94%|█████████▍| 3301/3500 [34:21<02:03,  1.61it/s]"
          ]
        },
        {
          "name": "stdout",
          "output_type": "stream",
          "text": [
            "Step 3300, Loss: 1.4320129716396333, learning rate: [5.699447592686563e-05]\n"
          ]
        },
        {
          "name": "stderr",
          "output_type": "stream",
          "text": [
            " 97%|█████████▋| 3401/3500 [35:23<01:00,  1.62it/s]"
          ]
        },
        {
          "name": "stdout",
          "output_type": "stream",
          "text": [
            "Step 3400, Loss: 1.438084659576416, learning rate: [5.699447592686563e-05]\n"
          ]
        },
        {
          "name": "stderr",
          "output_type": "stream",
          "text": [
            "100%|██████████| 3500/3500 [36:25<00:00,  1.60it/s]\n"
          ]
        }
      ],
      "source": [
        "steps = 3500\n",
        "batch_size = 512\n",
        "train_skipgram_with_neg_sampling(\n",
        "    model,\n",
        "    context_pairs,\n",
        "    keep_prob_array,\n",
        "    word_to_index,\n",
        "    batch_size,\n",
        "    num_negatives,\n",
        "    negative_sampling_prob_array,\n",
        "    steps,\n",
        ")"
      ]
    },
    {
      "cell_type": "markdown",
      "metadata": {
        "id": "DKOiKXx5zCQd"
      },
      "source": [
        "Наконец, используйте полученную матрицу весов в качестве матрицы в векторными представлениями слов. Рекомендуем использовать для сдачи матрицу, которая отвечала за слова из контекста (т.е. декодера)."
      ]
    },
    {
      "cell_type": "code",
      "execution_count": 28,
      "metadata": {
        "id": "nvFaGHyLzCQd"
      },
      "outputs": [],
      "source": [
        "_model_parameters = model.parameters()\n",
        "embedding_matrix_center = next(\n",
        "    _model_parameters\n",
        ").detach()  # Assuming that first matrix was for central word\n",
        "embedding_matrix_context = next(\n",
        "    _model_parameters\n",
        ").detach()  # Assuming that second matrix was for context word"
      ]
    },
    {
      "cell_type": "code",
      "execution_count": 29,
      "metadata": {
        "id": "_LO2GDdLzCQf"
      },
      "outputs": [],
      "source": [
        "def get_word_vector(word, embedding_matrix, word_to_index=word_to_index):\n",
        "    return embedding_matrix[word_to_index[word]]"
      ]
    },
    {
      "cell_type": "markdown",
      "metadata": {
        "id": "rGKoXVw6zCQf"
      },
      "source": [
        "Простые проверки:"
      ]
    },
    {
      "cell_type": "code",
      "execution_count": 30,
      "metadata": {
        "id": "7ApOQzO1zCQi"
      },
      "outputs": [],
      "source": [
        "similarity_1 = F.cosine_similarity(\n",
        "    get_word_vector(\"iphone\", embedding_matrix_context)[None, :],\n",
        "    get_word_vector(\"apple\", embedding_matrix_context)[None, :],\n",
        ")\n",
        "similarity_2 = F.cosine_similarity(\n",
        "    get_word_vector(\"iphone\", embedding_matrix_context)[None, :],\n",
        "    get_word_vector(\"dell\", embedding_matrix_context)[None, :],\n",
        ")\n",
        "assert similarity_1 > similarity_2"
      ]
    },
    {
      "cell_type": "code",
      "execution_count": 31,
      "metadata": {
        "id": "deTH-1ApzCQi"
      },
      "outputs": [],
      "source": [
        "similarity_1 = F.cosine_similarity(\n",
        "    get_word_vector(\"windows\", embedding_matrix_context)[None, :],\n",
        "    get_word_vector(\"laptop\", embedding_matrix_context)[None, :],\n",
        ")\n",
        "similarity_2 = F.cosine_similarity(\n",
        "    get_word_vector(\"windows\", embedding_matrix_context)[None, :],\n",
        "    get_word_vector(\"macbook\", embedding_matrix_context)[None, :],\n",
        ")\n",
        "assert similarity_1 > similarity_2"
      ]
    },
    {
      "cell_type": "markdown",
      "metadata": {
        "id": "s01gF3XOzCQi"
      },
      "source": [
        "Наконец, взглянем на ближайшие по косинусной мере слова. Функция реализована ниже."
      ]
    },
    {
      "cell_type": "code",
      "execution_count": 32,
      "metadata": {
        "id": "dA0V6rOYtsLk"
      },
      "outputs": [],
      "source": [
        "def find_nearest(word, embedding_matrix, word_to_index=word_to_index, k=10):\n",
        "    word_vector = get_word_vector(word, embedding_matrix)[None, :]\n",
        "    dists = F.cosine_similarity(embedding_matrix, word_vector)\n",
        "    index_sorted = torch.argsort(dists)\n",
        "    top_k = index_sorted[-k:]\n",
        "    return [(index_to_word[x], dists[x].item()) for x in top_k.numpy()]"
      ]
    },
    {
      "cell_type": "code",
      "execution_count": 33,
      "metadata": {
        "colab": {
          "base_uri": "https://localhost:8080/"
        },
        "id": "xXBnbMAIzCQi",
        "outputId": "8e6edba2-9c02-41ea-e1c2-66793819877f"
      },
      "outputs": [
        {
          "data": {
            "text/plain": [
              "[('basel', 0.5462501645088196),\n",
              " ('tones', 0.5527297854423523),\n",
              " ('memorize', 0.5579809546470642),\n",
              " ('valuations', 0.5625102519989014),\n",
              " ('storing', 0.5626294612884521),\n",
              " ('nonchristian', 0.5629252791404724),\n",
              " ('488', 0.5756713151931763),\n",
              " ('tmobile', 0.6178927421569824),\n",
              " ('suffering', 0.625165581703186),\n",
              " ('python', 0.9999998807907104)]"
            ]
          },
          "execution_count": 33,
          "metadata": {},
          "output_type": "execute_result"
        }
      ],
      "source": [
        "find_nearest(\"python\", embedding_matrix_context, k=10)"
      ]
    },
    {
      "cell_type": "markdown",
      "metadata": {
        "id": "Jf-oRLPMzCQi"
      },
      "source": [
        "Также вы можете визуально проверить, как представлены в латентном пространстве часто встречающиеся слова."
      ]
    },
    {
      "cell_type": "code",
      "execution_count": 34,
      "metadata": {
        "id": "cI3KsQG9zCQj"
      },
      "outputs": [],
      "source": [
        "top_k = 5000\n",
        "_top_words = sorted([x for x in word_count_dict.items()], key=lambda x: x[1])[\n",
        "    -top_k - 100 : -100\n",
        "]  # ignoring 100 most frequent words\n",
        "top_words = [x[0] for x in _top_words]\n",
        "del _top_words"
      ]
    },
    {
      "cell_type": "code",
      "execution_count": 35,
      "metadata": {
        "id": "7wGmgYyezCQj"
      },
      "outputs": [],
      "source": [
        "word_embeddings = torch.cat(\n",
        "    [embedding_matrix_context[word_to_index[x]][None, :] for x in top_words], dim=0\n",
        ").numpy()"
      ]
    },
    {
      "cell_type": "code",
      "execution_count": 36,
      "metadata": {
        "id": "0_0wk7tTzCQj"
      },
      "outputs": [
        {
          "data": {
            "text/html": [
              "    <style>\n",
              "        .bk-notebook-logo {\n",
              "            display: block;\n",
              "            width: 20px;\n",
              "            height: 20px;\n",
              "            background-image: url(data:image/png;base64,iVBORw0KGgoAAAANSUhEUgAAABQAAAAUCAYAAACNiR0NAAAABHNCSVQICAgIfAhkiAAAAAlwSFlzAAALEgAACxIB0t1+/AAAABx0RVh0U29mdHdhcmUAQWRvYmUgRmlyZXdvcmtzIENTNui8sowAAAOkSURBVDiNjZRtaJVlGMd/1/08zzln5zjP1LWcU9N0NkN8m2CYjpgQYQXqSs0I84OLIC0hkEKoPtiH3gmKoiJDU7QpLgoLjLIQCpEsNJ1vqUOdO7ppbuec5+V+rj4ctwzd8IIbbi6u+8f1539dt3A78eXC7QizUF7gyV1fD1Yqg4JWz84yffhm0qkFqBogB9rM8tZdtwVsPUhWhGcFJngGeWrPzHm5oaMmkfEg1usvLFyc8jLRqDOMru7AyC8saQr7GG7f5fvDeH7Ej8CM66nIF+8yngt6HWaKh7k49Soy9nXurCi1o3qUbS3zWfrYeQDTB/Qj6kX6Ybhw4B+bOYoLKCC9H3Nu/leUTZ1JdRWkkn2ldcCamzrcf47KKXdAJllSlxAOkRgyHsGC/zRday5Qld9DyoM4/q/rUoy/CXh3jzOu3bHUVZeU+DEn8FInkPBFlu3+nW3Nw0mk6vCDiWg8CeJaxEwuHS3+z5RgY+YBR6V1Z1nxSOfoaPa4LASWxxdNp+VWTk7+4vzaou8v8PN+xo+KY2xsw6une2frhw05CTYOmQvsEhjhWjn0bmXPjpE1+kplmmkP3suftwTubK9Vq22qKmrBhpY4jvd5afdRA3wGjFAgcnTK2s4hY0/GPNIb0nErGMCRxWOOX64Z8RAC4oCXdklmEvcL8o0BfkNK4lUg9HTl+oPlQxdNo3Mg4Nv175e/1LDGzZen30MEjRUtmXSfiTVu1kK8W4txyV6BMKlbgk3lMwYCiusNy9fVfvvwMxv8Ynl6vxoByANLTWplvuj/nF9m2+PDtt1eiHPBr1oIfhCChQMBw6Aw0UulqTKZdfVvfG7VcfIqLG9bcldL/+pdWTLxLUy8Qq38heUIjh4XlzZxzQm19lLFlr8vdQ97rjZVOLf8nclzckbcD4wxXMidpX30sFd37Fv/GtwwhzhxGVAprjbg0gCAEeIgwCZyTV2Z1REEW8O4py0wsjeloKoMr6iCY6dP92H6Vw/oTyICIthibxjm/DfN9lVz8IqtqKYLUXfoKVMVQVVJOElGjrnnUt9T9wbgp8AyYKaGlqingHZU/uG2NTZSVqwHQTWkx9hxjkpWDaCg6Ckj5qebgBVbT3V3NNXMSiWSDdGV3hrtzla7J+duwPOToIg42ChPQOQjspnSlp1V+Gjdged7+8UN5CRAV7a5EdFNwCjEaBR27b3W890TE7g24NAP/mMDXRWrGoFPQI9ls/MWO2dWFAar/xcOIImbbpA3zgAAAABJRU5ErkJggg==);\n",
              "        }\n",
              "    </style>\n",
              "    <div>\n",
              "        <a href=\"https://bokeh.org\" target=\"_blank\" class=\"bk-notebook-logo\"></a>\n",
              "        <span id=\"d14b664c-912b-4726-9b55-d639f1348562\">Loading BokehJS ...</span>\n",
              "    </div>\n"
            ]
          },
          "metadata": {},
          "output_type": "display_data"
        },
        {
          "data": {
            "application/javascript": "'use strict';\n(function(root) {\n  function now() {\n    return new Date();\n  }\n\n  const force = true;\n\n  if (typeof root._bokeh_onload_callbacks === \"undefined\" || force === true) {\n    root._bokeh_onload_callbacks = [];\n    root._bokeh_is_loading = undefined;\n  }\n\nconst JS_MIME_TYPE = 'application/javascript';\n  const HTML_MIME_TYPE = 'text/html';\n  const EXEC_MIME_TYPE = 'application/vnd.bokehjs_exec.v0+json';\n  const CLASS_NAME = 'output_bokeh rendered_html';\n\n  /**\n   * Render data to the DOM node\n   */\n  function render(props, node) {\n    const script = document.createElement(\"script\");\n    node.appendChild(script);\n  }\n\n  /**\n   * Handle when an output is cleared or removed\n   */\n  function handleClearOutput(event, handle) {\n    function drop(id) {\n      const view = Bokeh.index.get_by_id(id)\n      if (view != null) {\n        view.model.document.clear()\n        Bokeh.index.delete(view)\n      }\n    }\n\n    const cell = handle.cell;\n\n    const id = cell.output_area._bokeh_element_id;\n    const server_id = cell.output_area._bokeh_server_id;\n\n    // Clean up Bokeh references\n    if (id != null) {\n      drop(id)\n    }\n\n    if (server_id !== undefined) {\n      // Clean up Bokeh references\n      const cmd_clean = \"from bokeh.io.state import curstate; print(curstate().uuid_to_server['\" + server_id + \"'].get_sessions()[0].document.roots[0]._id)\";\n      cell.notebook.kernel.execute(cmd_clean, {\n        iopub: {\n          output: function(msg) {\n            const id = msg.content.text.trim()\n            drop(id)\n          }\n        }\n      });\n      // Destroy server and session\n      const cmd_destroy = \"import bokeh.io.notebook as ion; ion.destroy_server('\" + server_id + \"')\";\n      cell.notebook.kernel.execute(cmd_destroy);\n    }\n  }\n\n  /**\n   * Handle when a new output is added\n   */\n  function handleAddOutput(event, handle) {\n    const output_area = handle.output_area;\n    const output = handle.output;\n\n    // limit handleAddOutput to display_data with EXEC_MIME_TYPE content only\n    if ((output.output_type != \"display_data\") || (!Object.prototype.hasOwnProperty.call(output.data, EXEC_MIME_TYPE))) {\n      return\n    }\n\n    const toinsert = output_area.element.find(\".\" + CLASS_NAME.split(' ')[0]);\n\n    if (output.metadata[EXEC_MIME_TYPE][\"id\"] !== undefined) {\n      toinsert[toinsert.length - 1].firstChild.textContent = output.data[JS_MIME_TYPE];\n      // store reference to embed id on output_area\n      output_area._bokeh_element_id = output.metadata[EXEC_MIME_TYPE][\"id\"];\n    }\n    if (output.metadata[EXEC_MIME_TYPE][\"server_id\"] !== undefined) {\n      const bk_div = document.createElement(\"div\");\n      bk_div.innerHTML = output.data[HTML_MIME_TYPE];\n      const script_attrs = bk_div.children[0].attributes;\n      for (let i = 0; i < script_attrs.length; i++) {\n        toinsert[toinsert.length - 1].firstChild.setAttribute(script_attrs[i].name, script_attrs[i].value);\n        toinsert[toinsert.length - 1].firstChild.textContent = bk_div.children[0].textContent\n      }\n      // store reference to server id on output_area\n      output_area._bokeh_server_id = output.metadata[EXEC_MIME_TYPE][\"server_id\"];\n    }\n  }\n\n  function register_renderer(events, OutputArea) {\n\n    function append_mime(data, metadata, element) {\n      // create a DOM node to render to\n      const toinsert = this.create_output_subarea(\n        metadata,\n        CLASS_NAME,\n        EXEC_MIME_TYPE\n      );\n      this.keyboard_manager.register_events(toinsert);\n      // Render to node\n      const props = {data: data, metadata: metadata[EXEC_MIME_TYPE]};\n      render(props, toinsert[toinsert.length - 1]);\n      element.append(toinsert);\n      return toinsert\n    }\n\n    /* Handle when an output is cleared or removed */\n    events.on('clear_output.CodeCell', handleClearOutput);\n    events.on('delete.Cell', handleClearOutput);\n\n    /* Handle when a new output is added */\n    events.on('output_added.OutputArea', handleAddOutput);\n\n    /**\n     * Register the mime type and append_mime function with output_area\n     */\n    OutputArea.prototype.register_mime_type(EXEC_MIME_TYPE, append_mime, {\n      /* Is output safe? */\n      safe: true,\n      /* Index of renderer in `output_area.display_order` */\n      index: 0\n    });\n  }\n\n  // register the mime type if in Jupyter Notebook environment and previously unregistered\n  if (root.Jupyter !== undefined) {\n    const events = require('base/js/events');\n    const OutputArea = require('notebook/js/outputarea').OutputArea;\n\n    if (OutputArea.prototype.mime_types().indexOf(EXEC_MIME_TYPE) == -1) {\n      register_renderer(events, OutputArea);\n    }\n  }\n  if (typeof (root._bokeh_timeout) === \"undefined\" || force === true) {\n    root._bokeh_timeout = Date.now() + 5000;\n    root._bokeh_failed_load = false;\n  }\n\n  const NB_LOAD_WARNING = {'data': {'text/html':\n     \"<div style='background-color: #fdd'>\\n\"+\n     \"<p>\\n\"+\n     \"BokehJS does not appear to have successfully loaded. If loading BokehJS from CDN, this \\n\"+\n     \"may be due to a slow or bad network connection. Possible fixes:\\n\"+\n     \"</p>\\n\"+\n     \"<ul>\\n\"+\n     \"<li>re-rerun `output_notebook()` to attempt to load from CDN again, or</li>\\n\"+\n     \"<li>use INLINE resources instead, as so:</li>\\n\"+\n     \"</ul>\\n\"+\n     \"<code>\\n\"+\n     \"from bokeh.resources import INLINE\\n\"+\n     \"output_notebook(resources=INLINE)\\n\"+\n     \"</code>\\n\"+\n     \"</div>\"}};\n\n  function display_loaded(error = null) {\n    const el = document.getElementById(\"d14b664c-912b-4726-9b55-d639f1348562\");\n    if (el != null) {\n      const html = (() => {\n        if (typeof root.Bokeh === \"undefined\") {\n          if (error == null) {\n            return \"BokehJS is loading ...\";\n          } else {\n            return \"BokehJS failed to load.\";\n          }\n        } else {\n          const prefix = `BokehJS ${root.Bokeh.version}`;\n          if (error == null) {\n            return `${prefix} successfully loaded.`;\n          } else {\n            return `${prefix} <b>encountered errors</b> while loading and may not function as expected.`;\n          }\n        }\n      })();\n      el.innerHTML = html;\n\n      if (error != null) {\n        const wrapper = document.createElement(\"div\");\n        wrapper.style.overflow = \"auto\";\n        wrapper.style.height = \"5em\";\n        wrapper.style.resize = \"vertical\";\n        const content = document.createElement(\"div\");\n        content.style.fontFamily = \"monospace\";\n        content.style.whiteSpace = \"pre-wrap\";\n        content.style.backgroundColor = \"rgb(255, 221, 221)\";\n        content.textContent = error.stack ?? error.toString();\n        wrapper.append(content);\n        el.append(wrapper);\n      }\n    } else if (Date.now() < root._bokeh_timeout) {\n      setTimeout(() => display_loaded(error), 100);\n    }\n  }\n\n  function run_callbacks() {\n    try {\n      root._bokeh_onload_callbacks.forEach(function(callback) {\n        if (callback != null)\n          callback();\n      });\n    } finally {\n      delete root._bokeh_onload_callbacks\n    }\n    console.debug(\"Bokeh: all callbacks have finished\");\n  }\n\n  function load_libs(css_urls, js_urls, callback) {\n    if (css_urls == null) css_urls = [];\n    if (js_urls == null) js_urls = [];\n\n    root._bokeh_onload_callbacks.push(callback);\n    if (root._bokeh_is_loading > 0) {\n      console.debug(\"Bokeh: BokehJS is being loaded, scheduling callback at\", now());\n      return null;\n    }\n    if (js_urls == null || js_urls.length === 0) {\n      run_callbacks();\n      return null;\n    }\n    console.debug(\"Bokeh: BokehJS not loaded, scheduling load and callback at\", now());\n    root._bokeh_is_loading = css_urls.length + js_urls.length;\n\n    function on_load() {\n      root._bokeh_is_loading--;\n      if (root._bokeh_is_loading === 0) {\n        console.debug(\"Bokeh: all BokehJS libraries/stylesheets loaded\");\n        run_callbacks()\n      }\n    }\n\n    function on_error(url) {\n      console.error(\"failed to load \" + url);\n    }\n\n    for (let i = 0; i < css_urls.length; i++) {\n      const url = css_urls[i];\n      const element = document.createElement(\"link\");\n      element.onload = on_load;\n      element.onerror = on_error.bind(null, url);\n      element.rel = \"stylesheet\";\n      element.type = \"text/css\";\n      element.href = url;\n      console.debug(\"Bokeh: injecting link tag for BokehJS stylesheet: \", url);\n      document.body.appendChild(element);\n    }\n\n    for (let i = 0; i < js_urls.length; i++) {\n      const url = js_urls[i];\n      const element = document.createElement('script');\n      element.onload = on_load;\n      element.onerror = on_error.bind(null, url);\n      element.async = false;\n      element.src = url;\n      console.debug(\"Bokeh: injecting script tag for BokehJS library: \", url);\n      document.head.appendChild(element);\n    }\n  };\n\n  function inject_raw_css(css) {\n    const element = document.createElement(\"style\");\n    element.appendChild(document.createTextNode(css));\n    document.body.appendChild(element);\n  }\n\n  const js_urls = [\"https://cdn.bokeh.org/bokeh/release/bokeh-3.7.0.min.js\", \"https://cdn.bokeh.org/bokeh/release/bokeh-gl-3.7.0.min.js\", \"https://cdn.bokeh.org/bokeh/release/bokeh-widgets-3.7.0.min.js\", \"https://cdn.bokeh.org/bokeh/release/bokeh-tables-3.7.0.min.js\", \"https://cdn.bokeh.org/bokeh/release/bokeh-mathjax-3.7.0.min.js\"];\n  const css_urls = [];\n\n  const inline_js = [    function(Bokeh) {\n      Bokeh.set_log_level(\"info\");\n    },\nfunction(Bokeh) {\n    }\n  ];\n\n  function run_inline_js() {\n    if (root.Bokeh !== undefined || force === true) {\n      try {\n            for (let i = 0; i < inline_js.length; i++) {\n      inline_js[i].call(root, root.Bokeh);\n    }\n\n      } catch (error) {display_loaded(error);throw error;\n      }if (force === true) {\n        display_loaded();\n      }} else if (Date.now() < root._bokeh_timeout) {\n      setTimeout(run_inline_js, 100);\n    } else if (!root._bokeh_failed_load) {\n      console.log(\"Bokeh: BokehJS failed to load within specified timeout.\");\n      root._bokeh_failed_load = true;\n    } else if (force !== true) {\n      const cell = $(document.getElementById(\"d14b664c-912b-4726-9b55-d639f1348562\")).parents('.cell').data().cell;\n      cell.output_area.append_execute_result(NB_LOAD_WARNING)\n    }\n  }\n\n  if (root._bokeh_is_loading === 0) {\n    console.debug(\"Bokeh: BokehJS loaded, going straight to plotting\");\n    run_inline_js();\n  } else {\n    load_libs(css_urls, js_urls, function() {\n      console.debug(\"Bokeh: BokehJS plotting callback run at\", now());\n      run_inline_js();\n    });\n  }\n}(window));",
            "application/vnd.bokehjs_load.v0+json": ""
          },
          "metadata": {},
          "output_type": "display_data"
        }
      ],
      "source": [
        "import bokeh.models as bm\n",
        "import bokeh.plotting as pl\n",
        "from bokeh.io import output_notebook\n",
        "\n",
        "output_notebook()\n",
        "\n",
        "\n",
        "def draw_vectors(\n",
        "    x,\n",
        "    y,\n",
        "    radius=10,\n",
        "    alpha=0.25,\n",
        "    color=\"blue\",\n",
        "    width=600,\n",
        "    height=400,\n",
        "    show=True,\n",
        "    **kwargs,\n",
        "):\n",
        "    \"\"\"draws an interactive plot for data points with auxilirary info on hover\"\"\"\n",
        "    if isinstance(color, str):\n",
        "        color = [color] * len(x)\n",
        "    data_source = bm.ColumnDataSource({\"x\": x, \"y\": y, \"color\": color, **kwargs})\n",
        "\n",
        "    fig = pl.figure(active_scroll=\"wheel_zoom\", width=width, height=height)\n",
        "    fig.scatter(\"x\", \"y\", size=radius, color=\"color\", alpha=alpha, source=data_source)\n",
        "\n",
        "    fig.add_tools(bm.HoverTool(tooltips=[(key, \"@\" + key) for key in kwargs.keys()]))\n",
        "    if show:\n",
        "        pl.show(fig)\n",
        "    return fig"
      ]
    },
    {
      "cell_type": "code",
      "execution_count": 37,
      "metadata": {
        "colab": {
          "base_uri": "https://localhost:8080/"
        },
        "id": "xKuLwospzCQj",
        "outputId": "aa77e38f-0bac-4c40-eb96-98ed851a762d"
      },
      "outputs": [
        {
          "name": "stderr",
          "output_type": "stream",
          "text": [
            "c:\\Users\\hxrt mx\\anaconda3\\envs\\attack\\Lib\\site-packages\\sklearn\\utils\\deprecation.py:151: FutureWarning: 'force_all_finite' was renamed to 'ensure_all_finite' in 1.6 and will be removed in 1.8.\n",
            "  warnings.warn(\n"
          ]
        }
      ],
      "source": [
        "embedding = umap.UMAP(n_neighbors=5).fit_transform(word_embeddings)"
      ]
    },
    {
      "cell_type": "code",
      "execution_count": 38,
      "metadata": {
        "colab": {
          "base_uri": "https://localhost:8080/",
          "height": 434
        },
        "id": "ZLMm-CFizCQj",
        "outputId": "a7e8c6d8-27ae-46ed-b157-c503995059d7"
      },
      "outputs": [
        {
          "data": {
            "text/html": [
              "\n",
              "  <div id=\"d8d2da57-266b-4560-9f0f-05a38a038551\" data-root-id=\"p1004\" style=\"display: contents;\"></div>\n"
            ]
          },
          "metadata": {},
          "output_type": "display_data"
        },
        {
          "data": {
            "application/javascript": "(function(root) {\n  function embed_document(root) {\n  const docs_json = {\"e9eaefae-a371-4960-8e56-259ed58df500\":{\"version\":\"3.7.0\",\"title\":\"Bokeh Application\",\"roots\":[{\"type\":\"object\",\"name\":\"Figure\",\"id\":\"p1004\",\"attributes\":{\"height\":400,\"x_range\":{\"type\":\"object\",\"name\":\"DataRange1d\",\"id\":\"p1005\"},\"y_range\":{\"type\":\"object\",\"name\":\"DataRange1d\",\"id\":\"p1006\"},\"x_scale\":{\"type\":\"object\",\"name\":\"LinearScale\",\"id\":\"p1013\"},\"y_scale\":{\"type\":\"object\",\"name\":\"LinearScale\",\"id\":\"p1014\"},\"title\":{\"type\":\"object\",\"name\":\"Title\",\"id\":\"p1011\"},\"renderers\":[{\"type\":\"object\",\"name\":\"GlyphRenderer\",\"id\":\"p1044\",\"attributes\":{\"data_source\":{\"type\":\"object\",\"name\":\"ColumnDataSource\",\"id\":\"p1001\",\"attributes\":{\"selected\":{\"type\":\"object\",\"name\":\"Selection\",\"id\":\"p1002\",\"attributes\":{\"indices\":[],\"line_indices\":[]}},\"selection_policy\":{\"type\":\"object\",\"name\":\"UnionRenderers\",\"id\":\"p1003\"},\"data\":{\"type\":\"map\",\"entries\":[[\"x\",{\"type\":\"ndarray\",\"array\":{\"type\":\"bytes\",\"data\":\"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\"},\"shape\":[5000],\"dtype\":\"float32\",\"order\":\"little\"}],[\"y\",{\"type\":\"ndarray\",\"array\":{\"type\":\"bytes\",\"data\":\"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\"},\"shape\":[5000],\"dtype\":\"float32\",\"order\":\"little\"}],[\"color\",[\"blue\",\"blue\",\"blue\",\"blue\",\"blue\",\"blue\",\"blue\",\"blue\",\"blue\",\"blue\",\"blue\",\"blue\",\"blue\",\"blue\",\"blue\",\"blue\",\"blue\",\"blue\",\"blue\",\"blue\",\"blue\",\"blue\",\"blue\",\"blue\",\"blue\",\"blue\",\"blue\",\"blue\",\"blue\",\"blue\",\"blue\",\"blue\",\"blue\",\"blue\",\"blue\",\"blue\",\"blue\",\"blue\",\"blue\",\"blue\",\"blue\",\"blue\",\"blue\",\"blue\",\"blue\",\"blue\",\"blue\",\"blue\",\"blue\",\"blue\",\"blue\",\"blue\",\"blue\",\"blue\",\"blue\",\"blue\",\"blue\",\"blue\",\"blue\",\"blue\",\"blue\",\"blue\",\"blue\",\"blue\",\"blue\",\"blue\",\"blue\",\"blue\",\"blue\",\"blue\",\"blue\",\"blue\",\"blue\",\"blue\",\"blue\",\"blue\",\"blue\",\"blue\",\"blue\",\"blue\",\"blue\",\"blue\",\"blue\",\"blue\",\"blue\",\"blue\",\"blue\",\"blue\",\"blue\",\"blue\",\"blue\",\"blue\",\"blue\",\"blue\",\"blue\",\"blue\",\"blue\",\"blue\",\"blue\",\"blue\",\"blue\",\"blue\",\"blue\",\"blue\",\"blue\",\"blue\",\"blue\",\"blue\",\"blue\",\"blue\",\"blue\",\"blue\",\"blue\",\"blue\",\"blue\",\"blue\",\"blue\",\"blue\",\"blue\",\"blue\",\"blue\",\"blue\",\"blue\",\"blue\",\"blue\",\"blue\",\"blue\",\"blue\",\"blue\",\"blue\",\"blue\",\"blue\",\"blue\",\"blue\",\"blue\",\"blue\",\"blue\",\"blue\",\"blue\",\"blue\",\"blue\",\"blue\",\"blue\",\"blue\",\"blue\",\"blue\",\"blue\",\"blue\",\"blue\",\"blue\",\"blue\",\"blue\",\"blue\",\"blue\",\"blue\",\"blue\",\"blue\",\"blue\",\"blue\",\"blue\",\"blue\",\"blue\",\"blue\",\"blue\",\"blue\",\"blue\",\"blue\",\"blue\",\"blue\",\"blue\",\"blue\",\"blue\",\"blue\",\"blue\",\"blue\",\"blue\",\"blue\",\"blue\",\"blue\",\"blue\",\"blue\",\"blue\",\"blue\",\"blue\",\"blue\",\"blue\",\"blue\",\"blue\",\"blue\",\"blue\",\"blue\",\"blue\",\"blue\",\"blue\",\"blue\",\"blue\",\"blue\",\"blue\",\"blue\",\"blue\",\"blue\",\"blue\",\"blue\",\"blue\",\"blue\",\"blue\",\"blue\",\"blue\",\"blue\",\"blue\",\"blue\",\"blue\",\"blue\",\"blue\",\"blue\",\"blue\",\"blue\",\"blue\",\"blue\",\"blue\",\"blue\",\"blue\",\"blue\",\"blue\",\"blue\",\"blue\",\"blue\",\"blue\",\"blue\",\"blue\",\"blue\",\"blue\",\"blue\",\"blue\",\"blue\",\"blue\",\"blue\",\"blue\",\"blue\",\"blue\",\"blue\",\"blue\",\"blue\",\"blue\",\"blue\",\"blue\",\"blue\",\"blue\",\"blue\",\"blue\",\"blue\",\"blue\",\"blue\",\"blue\",\"blue\",\"blue\",\"blue\",\"blue\",\"blue\",\"blue\",\"blue\",\"blue\",\"blue\",\"blue\",\"blue\",\"blue\",\"blue\",\"blue\",\"blue\",\"blue\",\"blue\",\"blue\",\"blue\",\"blue\",\"blue\",\"blue\",\"blue\",\"blue\",\"blue\",\"blue\",\"blue\",\"blue\",\"blue\",\"blue\",\"blue\",\"blue\",\"blue\",\"blue\",\"blue\",\"blue\",\"blue\",\"blue\",\"blue\",\"blue\",\"blue\",\"blue\",\"blue\",\"blue\",\"blue\",\"blue\",\"blue\",\"blue\",\"blue\",\"blue\",\"blue\",\"blue\",\"blue\",\"blue\",\"blue\",\"blue\",\"blue\",\"blue\",\"blue\",\"blue\",\"blue\",\"blue\",\"blue\",\"blue\",\"blue\",\"blue\",\"blue\",\"blue\",\"blue\",\"blue\",\"blue\",\"blue\",\"blue\",\"blue\",\"blue\",\"blue\",\"blue\",\"blue\",\"blue\",\"blue\",\"blue\",\"blue\",\"blue\",\"blue\",\"blue\",\"blue\",\"blue\",\"blue\",\"blue\",\"blue\",\"blue\",\"blue\",\"blue\",\"blue\",\"blue\",\"blue\",\"blue\",\"blue\",\"blue\",\"blue\",\"blue\",\"blue\",\"blue\",\"blue\",\"blue\",\"blue\",\"blue\",\"blue\",\"blue\",\"blue\",\"blue\",\"blue\",\"blue\",\"blue\",\"blue\",\"blue\",\"blue\",\"blue\",\"blue\",\"blue\",\"blue\",\"blue\",\"blue\",\"blue\",\"blue\",\"blue\",\"blue\",\"blue\",\"blue\",\"blue\",\"blue\",\"blue\",\"blue\",\"blue\",\"blue\",\"blue\",\"blue\",\"blue\",\"blue\",\"blue\",\"blue\",\"blue\",\"blue\",\"blue\",\"blue\",\"blue\",\"blue\",\"blue\",\"blue\",\"blue\",\"blue\",\"blue\",\"blue\",\"blue\",\"blue\",\"blue\",\"blue\",\"blue\",\"blue\",\"blue\",\"blue\",\"blue\",\"blue\",\"blue\",\"blue\",\"blue\",\"blue\",\"blue\",\"blue\",\"blue\",\"blue\",\"blue\",\"blue\",\"blue\",\"blue\",\"blue\",\"blue\",\"blue\",\"blue\",\"blue\",\"blue\",\"blue\",\"blue\",\"blue\",\"blue\",\"blue\",\"blue\",\"blue\",\"blue\",\"blue\",\"blue\",\"blue\",\"blue\",\"blue\",\"blue\",\"blue\",\"blue\",\"blue\",\"blue\",\"blue\",\"blue\",\"blue\",\"blue\",\"blue\",\"blue\",\"blue\",\"blue\",\"blue\",\"blue\",\"blue\",\"blue\",\"blue\",\"blue\",\"blue\",\"blue\",\"blue\",\"blue\",\"blue\",\"blue\",\"blue\",\"blue\",\"blue\",\"blue\",\"blue\",\"blue\",\"blue\",\"blue\",\"blue\",\"blue\",\"blue\",\"blue\",\"blue\",\"blue\",\"blue\",\"blue\",\"blue\",\"blue\",\"blue\",\"blue\",\"blue\",\"blue\",\"blue\",\"blue\",\"blue\",\"blue\",\"blue\",\"blue\",\"blue\",\"blue\",\"blue\",\"blue\",\"blue\",\"blue\",\"blue\",\"blue\",\"blue\",\"blue\",\"blue\",\"blue\",\"blue\",\"blue\",\"blue\",\"blue\",\"blue\",\"blue\",\"blue\",\"blue\",\"blue\",\"blue\",\"blue\",\"blue\",\"blue\",\"blue\",\"blue\",\"blue\",\"blue\",\"blue\",\"blue\",\"blue\",\"blue\",\"blue\",\"blue\",\"blue\",\"blue\",\"blue\",\"blue\",\"blue\",\"blue\",\"blue\",\"blue\",\"blue\",\"blue\",\"blue\",\"blue\",\"blue\",\"blue\",\"blue\",\"blue\",\"blue\",\"blue\",\"blue\",\"blue\",\"blue\",\"blue\",\"blue\",\"blue\",\"blue\",\"blue\",\"blue\",\"blue\",\"blue\",\"blue\",\"blue\",\"blue\",\"blue\",\"blue\",\"blue\",\"blue\",\"blue\",\"blue\",\"blue\",\"blue\",\"blue\",\"blue\",\"blue\",\"blue\",\"blue\",\"blue\",\"blue\",\"blue\",\"blue\",\"blue\",\"blue\",\"blue\",\"blue\",\"blue\",\"blue\",\"blue\",\"blue\",\"blue\",\"blue\",\"blue\",\"blue\",\"blue\",\"blue\",\"blue\",\"blue\",\"blue\",\"blue\",\"blue\",\"blue\",\"blue\",\"blue\",\"blue\",\"blue\",\"blue\",\"blue\",\"blue\",\"blue\",\"blue\",\"blue\",\"blue\",\"blue\",\"blue\",\"blue\",\"blue\",\"blue\",\"blue\",\"blue\",\"blue\",\"blue\",\"blue\",\"blue\",\"blue\",\"blue\",\"blue\",\"blue\",\"blue\",\"blue\",\"blue\",\"blue\",\"blue\",\"blue\",\"blue\",\"blue\",\"blue\",\"blue\",\"blue\",\"blue\",\"blue\",\"blue\",\"blue\",\"blue\",\"blue\",\"blue\",\"blue\",\"blue\",\"blue\",\"blue\",\"blue\",\"blue\",\"blue\",\"blue\",\"blue\",\"blue\",\"blue\",\"blue\",\"blue\",\"blue\",\"blue\",\"blue\",\"blue\",\"blue\",\"blue\",\"blue\",\"blue\",\"blue\",\"blue\",\"blue\",\"blue\",\"blue\",\"blue\",\"blue\",\"blue\",\"blue\",\"blue\",\"blue\",\"blue\",\"blue\",\"blue\",\"blue\",\"blue\",\"blue\",\"blue\",\"blue\",\"blue\",\"blue\",\"blue\",\"blue\",\"blue\",\"blue\",\"blue\",\"blue\",\"blue\",\"blue\",\"blue\",\"blue\",\"blue\",\"blue\",\"blue\",\"blue\",\"blue\",\"blue\",\"blue\",\"blue\",\"blue\",\"blue\",\"blue\",\"blue\",\"blue\",\"blue\",\"blue\",\"blue\",\"blue\",\"blue\",\"blue\",\"blue\",\"blue\",\"blue\",\"blue\",\"blue\",\"blue\",\"blue\",\"blue\",\"blue\",\"blue\",\"blue\",\"blue\",\"blue\",\"blue\",\"blue\",\"blue\",\"blue\",\"blue\",\"blue\",\"blue\",\"blue\",\"blue\",\"blue\",\"blue\",\"blue\",\"blue\",\"blue\",\"blue\",\"blue\",\"blue\",\"blue\",\"blue\",\"blue\",\"blue\",\"blue\",\"blue\",\"blue\",\"blue\",\"blue\",\"blue\",\"blue\",\"blue\",\"blue\",\"blue\",\"blue\",\"blue\",\"blue\",\"blue\",\"blue\",\"blue\",\"blue\",\"blue\",\"blue\",\"blue\",\"blue\",\"blue\",\"blue\",\"blue\",\"blue\",\"blue\",\"blue\",\"blue\",\"blue\",\"blue\",\"blue\",\"blue\",\"blue\",\"blue\",\"blue\",\"blue\",\"blue\",\"blue\",\"blue\",\"blue\",\"blue\",\"blue\",\"blue\",\"blue\",\"blue\",\"blue\",\"blue\",\"blue\",\"blue\",\"blue\",\"blue\",\"blue\",\"blue\",\"blue\",\"blue\",\"blue\",\"blue\",\"blue\",\"blue\",\"blue\",\"blue\",\"blue\",\"blue\",\"blue\",\"blue\",\"blue\",\"blue\",\"blue\",\"blue\",\"blue\",\"blue\",\"blue\",\"blue\",\"blue\",\"blue\",\"blue\",\"blue\",\"blue\",\"blue\",\"blue\",\"blue\",\"blue\",\"blue\",\"blue\",\"blue\",\"blue\",\"blue\",\"blue\",\"blue\",\"blue\",\"blue\",\"blue\",\"blue\",\"blue\",\"blue\",\"blue\",\"blue\",\"blue\",\"blue\",\"blue\",\"blue\",\"blue\",\"blue\",\"blue\",\"blue\",\"blue\",\"blue\",\"blue\",\"blue\",\"blue\",\"blue\",\"blue\",\"blue\",\"blue\",\"blue\",\"blue\",\"blue\",\"blue\",\"blue\",\"blue\",\"blue\",\"blue\",\"blue\",\"blue\",\"blue\",\"blue\",\"blue\",\"blue\",\"blue\",\"blue\",\"blue\",\"blue\",\"blue\",\"blue\",\"blue\",\"blue\",\"blue\",\"blue\",\"blue\",\"blue\",\"blue\",\"blue\",\"blue\",\"blue\",\"blue\",\"blue\",\"blue\",\"blue\",\"blue\",\"blue\",\"blue\",\"blue\",\"blue\",\"blue\",\"blue\",\"blue\",\"blue\",\"blue\",\"blue\",\"blue\",\"blue\",\"blue\",\"blue\",\"blue\",\"blue\",\"blue\",\"blue\",\"blue\",\"blue\",\"blue\",\"blue\",\"blue\",\"blue\",\"blue\",\"blue\",\"blue\",\"blue\",\"blue\",\"blue\",\"blue\",\"blue\",\"blue\",\"blue\",\"blue\",\"blue\",\"blue\",\"blue\",\"blue\",\"blue\",\"blue\",\"blue\",\"blue\",\"blue\",\"blue\",\"blue\",\"blue\",\"blue\",\"blue\",\"blue\",\"blue\",\"blue\",\"blue\",\"blue\",\"blue\",\"blue\",\"blue\",\"blue\",\"blue\",\"blue\",\"blue\",\"blue\",\"blue\",\"blue\",\"blue\",\"blue\",\"blue\",\"blue\",\"blue\",\"blue\",\"blue\",\"blue\",\"blue\",\"blue\",\"blue\",\"blue\",\"blue\",\"blue\",\"blue\",\"blue\",\"blue\",\"blue\",\"blue\",\"blue\",\"blue\",\"blue\",\"blue\",\"blue\",\"blue\",\"blue\",\"blue\",\"blue\",\"blue\",\"blue\",\"blue\",\"blue\",\"blue\",\"blue\",\"blue\",\"blue\",\"blue\",\"blue\",\"blue\",\"blue\",\"blue\",\"blue\",\"blue\",\"blue\",\"blue\",\"blue\",\"blue\",\"blue\",\"blue\",\"blue\",\"blue\",\"blue\",\"blue\",\"blue\",\"blue\",\"blue\",\"blue\",\"blue\",\"blue\",\"blue\",\"blue\",\"blue\",\"blue\",\"blue\",\"blue\",\"blue\",\"blue\",\"blue\",\"blue\",\"blue\",\"blue\",\"blue\",\"blue\",\"blue\",\"blue\",\"blue\",\"blue\",\"blue\",\"blue\",\"blue\",\"blue\",\"blue\",\"blue\",\"blue\",\"blue\",\"blue\",\"blue\",\"blue\",\"blue\",\"blue\",\"blue\",\"blue\",\"blue\",\"blue\",\"blue\",\"blue\",\"blue\",\"blue\",\"blue\",\"blue\",\"blue\",\"blue\",\"blue\",\"blue\",\"blue\",\"blue\",\"blue\",\"blue\",\"blue\",\"blue\",\"blue\",\"blue\",\"blue\",\"blue\",\"blue\",\"blue\",\"blue\",\"blue\",\"blue\",\"blue\",\"blue\",\"blue\",\"blue\",\"blue\",\"blue\",\"blue\",\"blue\",\"blue\",\"blue\",\"blue\",\"blue\",\"blue\",\"blue\",\"blue\",\"blue\",\"blue\",\"blue\",\"blue\",\"blue\",\"blue\",\"blue\",\"blue\",\"blue\",\"blue\",\"blue\",\"blue\",\"blue\",\"blue\",\"blue\",\"blue\",\"blue\",\"blue\",\"blue\",\"blue\",\"blue\",\"blue\",\"blue\",\"blue\",\"blue\",\"blue\",\"blue\",\"blue\",\"blue\",\"blue\",\"blue\",\"blue\",\"blue\",\"blue\",\"blue\",\"blue\",\"blue\",\"blue\",\"blue\",\"blue\",\"blue\",\"blue\",\"blue\",\"blue\",\"blue\",\"blue\",\"blue\",\"blue\",\"blue\",\"blue\",\"blue\",\"blue\",\"blue\",\"blue\",\"blue\",\"blue\",\"blue\",\"blue\",\"blue\",\"blue\",\"blue\",\"blue\",\"blue\",\"blue\",\"blue\",\"blue\",\"blue\",\"blue\",\"blue\",\"blue\",\"blue\",\"blue\",\"blue\",\"blue\",\"blue\",\"blue\",\"blue\",\"blue\",\"blue\",\"blue\",\"blue\",\"blue\",\"blue\",\"blue\",\"blue\",\"blue\",\"blue\",\"blue\",\"blue\",\"blue\",\"blue\",\"blue\",\"blue\",\"blue\",\"blue\",\"blue\",\"blue\",\"blue\",\"blue\",\"blue\",\"blue\",\"blue\",\"blue\",\"blue\",\"blue\",\"blue\",\"blue\",\"blue\",\"blue\",\"blue\",\"blue\",\"blue\",\"blue\",\"blue\",\"blue\",\"blue\",\"blue\",\"blue\",\"blue\",\"blue\",\"blue\",\"blue\",\"blue\",\"blue\",\"blue\",\"blue\",\"blue\",\"blue\",\"blue\",\"blue\",\"blue\",\"blue\",\"blue\",\"blue\",\"blue\",\"blue\",\"blue\",\"blue\",\"blue\",\"blue\",\"blue\",\"blue\",\"blue\",\"blue\",\"blue\",\"blue\",\"blue\",\"blue\",\"blue\",\"blue\",\"blue\",\"blue\",\"blue\",\"blue\",\"blue\",\"blue\",\"blue\",\"blue\",\"blue\",\"blue\",\"blue\",\"blue\",\"blue\",\"blue\",\"blue\",\"blue\",\"blue\",\"blue\",\"blue\",\"blue\",\"blue\",\"blue\",\"blue\",\"blue\",\"blue\",\"blue\",\"blue\",\"blue\",\"blue\",\"blue\",\"blue\",\"blue\",\"blue\",\"blue\",\"blue\",\"blue\",\"blue\",\"blue\",\"blue\",\"blue\",\"blue\",\"blue\",\"blue\",\"blue\",\"blue\",\"blue\",\"blue\",\"blue\",\"blue\",\"blue\",\"blue\",\"blue\",\"blue\",\"blue\",\"blue\",\"blue\",\"blue\",\"blue\",\"blue\",\"blue\",\"blue\",\"blue\",\"blue\",\"blue\",\"blue\",\"blue\",\"blue\",\"blue\",\"blue\",\"blue\",\"blue\",\"blue\",\"blue\",\"blue\",\"blue\",\"blue\",\"blue\",\"blue\",\"blue\",\"blue\",\"blue\",\"blue\",\"blue\",\"blue\",\"blue\",\"blue\",\"blue\",\"blue\",\"blue\",\"blue\",\"blue\",\"blue\",\"blue\",\"blue\",\"blue\",\"blue\",\"blue\",\"blue\",\"blue\",\"blue\",\"blue\",\"blue\",\"blue\",\"blue\",\"blue\",\"blue\",\"blue\",\"blue\",\"blue\",\"blue\",\"blue\",\"blue\",\"blue\",\"blue\",\"blue\",\"blue\",\"blue\",\"blue\",\"blue\",\"blue\",\"blue\",\"blue\",\"blue\",\"blue\",\"blue\",\"blue\",\"blue\",\"blue\",\"blue\",\"blue\",\"blue\",\"blue\",\"blue\",\"blue\",\"blue\",\"blue\",\"blue\",\"blue\",\"blue\",\"blue\",\"blue\",\"blue\",\"blue\",\"blue\",\"blue\",\"blue\",\"blue\",\"blue\",\"blue\",\"blue\",\"blue\",\"blue\",\"blue\",\"blue\",\"blue\",\"blue\",\"blue\",\"blue\",\"blue\",\"blue\",\"blue\",\"blue\",\"blue\",\"blue\",\"blue\",\"blue\",\"blue\",\"blue\",\"blue\",\"blue\",\"blue\",\"blue\",\"blue\",\"blue\",\"blue\",\"blue\",\"blue\",\"blue\",\"blue\",\"blue\",\"blue\",\"blue\",\"blue\",\"blue\",\"blue\",\"blue\",\"blue\",\"blue\",\"blue\",\"blue\",\"blue\",\"blue\",\"blue\",\"blue\",\"blue\",\"blue\",\"blue\",\"blue\",\"blue\",\"blue\",\"blue\",\"blue\",\"blue\",\"blue\",\"blue\",\"blue\",\"blue\",\"blue\",\"blue\",\"blue\",\"blue\",\"blue\",\"blue\",\"blue\",\"blue\",\"blue\",\"blue\",\"blue\",\"blue\",\"blue\",\"blue\",\"blue\",\"blue\",\"blue\",\"blue\",\"blue\",\"blue\",\"blue\",\"blue\",\"blue\",\"blue\",\"blue\",\"blue\",\"blue\",\"blue\",\"blue\",\"blue\",\"blue\",\"blue\",\"blue\",\"blue\",\"blue\",\"blue\",\"blue\",\"blue\",\"blue\",\"blue\",\"blue\",\"blue\",\"blue\",\"blue\",\"blue\",\"blue\",\"blue\",\"blue\",\"blue\",\"blue\",\"blue\",\"blue\",\"blue\",\"blue\",\"blue\",\"blue\",\"blue\",\"blue\",\"blue\",\"blue\",\"blue\",\"blue\",\"blue\",\"blue\",\"blue\",\"blue\",\"blue\",\"blue\",\"blue\",\"blue\",\"blue\",\"blue\",\"blue\",\"blue\",\"blue\",\"blue\",\"blue\",\"blue\",\"blue\",\"blue\",\"blue\",\"blue\",\"blue\",\"blue\",\"blue\",\"blue\",\"blue\",\"blue\",\"blue\",\"blue\",\"blue\",\"blue\",\"blue\",\"blue\",\"blue\",\"blue\",\"blue\",\"blue\",\"blue\",\"blue\",\"blue\",\"blue\",\"blue\",\"blue\",\"blue\",\"blue\",\"blue\",\"blue\",\"blue\",\"blue\",\"blue\",\"blue\",\"blue\",\"blue\",\"blue\",\"blue\",\"blue\",\"blue\",\"blue\",\"blue\",\"blue\",\"blue\",\"blue\",\"blue\",\"blue\",\"blue\",\"blue\",\"blue\",\"blue\",\"blue\",\"blue\",\"blue\",\"blue\",\"blue\",\"blue\",\"blue\",\"blue\",\"blue\",\"blue\",\"blue\",\"blue\",\"blue\",\"blue\",\"blue\",\"blue\",\"blue\",\"blue\",\"blue\",\"blue\",\"blue\",\"blue\",\"blue\",\"blue\",\"blue\",\"blue\",\"blue\",\"blue\",\"blue\",\"blue\",\"blue\",\"blue\",\"blue\",\"blue\",\"blue\",\"blue\",\"blue\",\"blue\",\"blue\",\"blue\",\"blue\",\"blue\",\"blue\",\"blue\",\"blue\",\"blue\",\"blue\",\"blue\",\"blue\",\"blue\",\"blue\",\"blue\",\"blue\",\"blue\",\"blue\",\"blue\",\"blue\",\"blue\",\"blue\",\"blue\",\"blue\",\"blue\",\"blue\",\"blue\",\"blue\",\"blue\",\"blue\",\"blue\",\"blue\",\"blue\",\"blue\",\"blue\",\"blue\",\"blue\",\"blue\",\"blue\",\"blue\",\"blue\",\"blue\",\"blue\",\"blue\",\"blue\",\"blue\",\"blue\",\"blue\",\"blue\",\"blue\",\"blue\",\"blue\",\"blue\",\"blue\",\"blue\",\"blue\",\"blue\",\"blue\",\"blue\",\"blue\",\"blue\",\"blue\",\"blue\",\"blue\",\"blue\",\"blue\",\"blue\",\"blue\",\"blue\",\"blue\",\"blue\",\"blue\",\"blue\",\"blue\",\"blue\",\"blue\",\"blue\",\"blue\",\"blue\",\"blue\",\"blue\",\"blue\",\"blue\",\"blue\",\"blue\",\"blue\",\"blue\",\"blue\",\"blue\",\"blue\",\"blue\",\"blue\",\"blue\",\"blue\",\"blue\",\"blue\",\"blue\",\"blue\",\"blue\",\"blue\",\"blue\",\"blue\",\"blue\",\"blue\",\"blue\",\"blue\",\"blue\",\"blue\",\"blue\",\"blue\",\"blue\",\"blue\",\"blue\",\"blue\",\"blue\",\"blue\",\"blue\",\"blue\",\"blue\",\"blue\",\"blue\",\"blue\",\"blue\",\"blue\",\"blue\",\"blue\",\"blue\",\"blue\",\"blue\",\"blue\",\"blue\",\"blue\",\"blue\",\"blue\",\"blue\",\"blue\",\"blue\",\"blue\",\"blue\",\"blue\",\"blue\",\"blue\",\"blue\",\"blue\",\"blue\",\"blue\",\"blue\",\"blue\",\"blue\",\"blue\",\"blue\",\"blue\",\"blue\",\"blue\",\"blue\",\"blue\",\"blue\",\"blue\",\"blue\",\"blue\",\"blue\",\"blue\",\"blue\",\"blue\",\"blue\",\"blue\",\"blue\",\"blue\",\"blue\",\"blue\",\"blue\",\"blue\",\"blue\",\"blue\",\"blue\",\"blue\",\"blue\",\"blue\",\"blue\",\"blue\",\"blue\",\"blue\",\"blue\",\"blue\",\"blue\",\"blue\",\"blue\",\"blue\",\"blue\",\"blue\",\"blue\",\"blue\",\"blue\",\"blue\",\"blue\",\"blue\",\"blue\",\"blue\",\"blue\",\"blue\",\"blue\",\"blue\",\"blue\",\"blue\",\"blue\",\"blue\",\"blue\",\"blue\",\"blue\",\"blue\",\"blue\",\"blue\",\"blue\",\"blue\",\"blue\",\"blue\",\"blue\",\"blue\",\"blue\",\"blue\",\"blue\",\"blue\",\"blue\",\"blue\",\"blue\",\"blue\",\"blue\",\"blue\",\"blue\",\"blue\",\"blue\",\"blue\",\"blue\",\"blue\",\"blue\",\"blue\",\"blue\",\"blue\",\"blue\",\"blue\",\"blue\",\"blue\",\"blue\",\"blue\",\"blue\",\"blue\",\"blue\",\"blue\",\"blue\",\"blue\",\"blue\",\"blue\",\"blue\",\"blue\",\"blue\",\"blue\",\"blue\",\"blue\",\"blue\",\"blue\",\"blue\",\"blue\",\"blue\",\"blue\",\"blue\",\"blue\",\"blue\",\"blue\",\"blue\",\"blue\",\"blue\",\"blue\",\"blue\",\"blue\",\"blue\",\"blue\",\"blue\",\"blue\",\"blue\",\"blue\",\"blue\",\"blue\",\"blue\",\"blue\",\"blue\",\"blue\",\"blue\",\"blue\",\"blue\",\"blue\",\"blue\",\"blue\",\"blue\",\"blue\",\"blue\",\"blue\",\"blue\",\"blue\",\"blue\",\"blue\",\"blue\",\"blue\",\"blue\",\"blue\",\"blue\",\"blue\",\"blue\",\"blue\",\"blue\",\"blue\",\"blue\",\"blue\",\"blue\",\"blue\",\"blue\",\"blue\",\"blue\",\"blue\",\"blue\",\"blue\",\"blue\",\"blue\",\"blue\",\"blue\",\"blue\",\"blue\",\"blue\",\"blue\",\"blue\",\"blue\",\"blue\",\"blue\",\"blue\",\"blue\",\"blue\",\"blue\",\"blue\",\"blue\",\"blue\",\"blue\",\"blue\",\"blue\",\"blue\",\"blue\",\"blue\",\"blue\",\"blue\",\"blue\",\"blue\",\"blue\",\"blue\",\"blue\",\"blue\",\"blue\",\"blue\",\"blue\",\"blue\",\"blue\",\"blue\",\"blue\",\"blue\",\"blue\",\"blue\",\"blue\",\"blue\",\"blue\",\"blue\",\"blue\",\"blue\",\"blue\",\"blue\",\"blue\",\"blue\",\"blue\",\"blue\",\"blue\",\"blue\",\"blue\",\"blue\",\"blue\",\"blue\",\"blue\",\"blue\",\"blue\",\"blue\",\"blue\",\"blue\",\"blue\",\"blue\",\"blue\",\"blue\",\"blue\",\"blue\",\"blue\",\"blue\",\"blue\",\"blue\",\"blue\",\"blue\",\"blue\",\"blue\",\"blue\",\"blue\",\"blue\",\"blue\",\"blue\",\"blue\",\"blue\",\"blue\",\"blue\",\"blue\",\"blue\",\"blue\",\"blue\",\"blue\",\"blue\",\"blue\",\"blue\",\"blue\",\"blue\",\"blue\",\"blue\",\"blue\",\"blue\",\"blue\",\"blue\",\"blue\",\"blue\",\"blue\",\"blue\",\"blue\",\"blue\",\"blue\",\"blue\",\"blue\",\"blue\",\"blue\",\"blue\",\"blue\",\"blue\",\"blue\",\"blue\",\"blue\",\"blue\",\"blue\",\"blue\",\"blue\",\"blue\",\"blue\",\"blue\",\"blue\",\"blue\",\"blue\",\"blue\",\"blue\",\"blue\",\"blue\",\"blue\",\"blue\",\"blue\",\"blue\",\"blue\",\"blue\",\"blue\",\"blue\",\"blue\",\"blue\",\"blue\",\"blue\",\"blue\",\"blue\",\"blue\",\"blue\",\"blue\",\"blue\",\"blue\",\"blue\",\"blue\",\"blue\",\"blue\",\"blue\",\"blue\",\"blue\",\"blue\",\"blue\",\"blue\",\"blue\",\"blue\",\"blue\",\"blue\",\"blue\",\"blue\",\"blue\",\"blue\",\"blue\",\"blue\",\"blue\",\"blue\",\"blue\",\"blue\",\"blue\",\"blue\",\"blue\",\"blue\",\"blue\",\"blue\",\"blue\",\"blue\",\"blue\",\"blue\",\"blue\",\"blue\",\"blue\",\"blue\",\"blue\",\"blue\",\"blue\",\"blue\",\"blue\",\"blue\",\"blue\",\"blue\",\"blue\",\"blue\",\"blue\",\"blue\",\"blue\",\"blue\",\"blue\",\"blue\",\"blue\",\"blue\",\"blue\",\"blue\",\"blue\",\"blue\",\"blue\",\"blue\",\"blue\",\"blue\",\"blue\",\"blue\",\"blue\",\"blue\",\"blue\",\"blue\",\"blue\",\"blue\",\"blue\",\"blue\",\"blue\",\"blue\",\"blue\",\"blue\",\"blue\",\"blue\",\"blue\",\"blue\",\"blue\",\"blue\",\"blue\",\"blue\",\"blue\",\"blue\",\"blue\",\"blue\",\"blue\",\"blue\",\"blue\",\"blue\",\"blue\",\"blue\",\"blue\",\"blue\",\"blue\",\"blue\",\"blue\",\"blue\",\"blue\",\"blue\",\"blue\",\"blue\",\"blue\",\"blue\",\"blue\",\"blue\",\"blue\",\"blue\",\"blue\",\"blue\",\"blue\",\"blue\",\"blue\",\"blue\",\"blue\",\"blue\",\"blue\",\"blue\",\"blue\",\"blue\",\"blue\",\"blue\",\"blue\",\"blue\",\"blue\",\"blue\",\"blue\",\"blue\",\"blue\",\"blue\",\"blue\",\"blue\",\"blue\",\"blue\",\"blue\",\"blue\",\"blue\",\"blue\",\"blue\",\"blue\",\"blue\",\"blue\",\"blue\",\"blue\",\"blue\",\"blue\",\"blue\",\"blue\",\"blue\",\"blue\",\"blue\",\"blue\",\"blue\",\"blue\",\"blue\",\"blue\",\"blue\",\"blue\",\"blue\",\"blue\",\"blue\",\"blue\",\"blue\",\"blue\",\"blue\",\"blue\",\"blue\",\"blue\",\"blue\",\"blue\",\"blue\",\"blue\",\"blue\",\"blue\",\"blue\",\"blue\",\"blue\",\"blue\",\"blue\",\"blue\",\"blue\",\"blue\",\"blue\",\"blue\",\"blue\",\"blue\",\"blue\",\"blue\",\"blue\",\"blue\",\"blue\",\"blue\",\"blue\",\"blue\",\"blue\",\"blue\",\"blue\",\"blue\",\"blue\",\"blue\",\"blue\",\"blue\",\"blue\",\"blue\",\"blue\",\"blue\",\"blue\",\"blue\",\"blue\",\"blue\",\"blue\",\"blue\",\"blue\",\"blue\",\"blue\",\"blue\",\"blue\",\"blue\",\"blue\",\"blue\",\"blue\",\"blue\",\"blue\",\"blue\",\"blue\",\"blue\",\"blue\",\"blue\",\"blue\",\"blue\",\"blue\",\"blue\",\"blue\",\"blue\",\"blue\",\"blue\",\"blue\",\"blue\",\"blue\",\"blue\",\"blue\",\"blue\",\"blue\",\"blue\",\"blue\",\"blue\",\"blue\",\"blue\",\"blue\",\"blue\",\"blue\",\"blue\",\"blue\",\"blue\",\"blue\",\"blue\",\"blue\",\"blue\",\"blue\",\"blue\",\"blue\",\"blue\",\"blue\",\"blue\",\"blue\",\"blue\",\"blue\",\"blue\",\"blue\",\"blue\",\"blue\",\"blue\",\"blue\",\"blue\",\"blue\",\"blue\",\"blue\",\"blue\",\"blue\",\"blue\",\"blue\",\"blue\",\"blue\",\"blue\",\"blue\",\"blue\",\"blue\",\"blue\",\"blue\",\"blue\",\"blue\",\"blue\",\"blue\",\"blue\",\"blue\",\"blue\",\"blue\",\"blue\",\"blue\",\"blue\",\"blue\",\"blue\",\"blue\",\"blue\",\"blue\",\"blue\",\"blue\",\"blue\",\"blue\",\"blue\",\"blue\",\"blue\",\"blue\",\"blue\",\"blue\",\"blue\",\"blue\",\"blue\",\"blue\",\"blue\",\"blue\",\"blue\",\"blue\",\"blue\",\"blue\",\"blue\",\"blue\",\"blue\",\"blue\",\"blue\",\"blue\",\"blue\",\"blue\",\"blue\",\"blue\",\"blue\",\"blue\",\"blue\",\"blue\",\"blue\",\"blue\",\"blue\",\"blue\",\"blue\",\"blue\",\"blue\",\"blue\",\"blue\",\"blue\",\"blue\",\"blue\",\"blue\",\"blue\",\"blue\",\"blue\",\"blue\",\"blue\",\"blue\",\"blue\",\"blue\",\"blue\",\"blue\",\"blue\",\"blue\",\"blue\",\"blue\",\"blue\",\"blue\",\"blue\",\"blue\",\"blue\",\"blue\",\"blue\",\"blue\",\"blue\",\"blue\",\"blue\",\"blue\",\"blue\",\"blue\",\"blue\",\"blue\",\"blue\",\"blue\",\"blue\",\"blue\",\"blue\",\"blue\",\"blue\",\"blue\",\"blue\",\"blue\",\"blue\",\"blue\",\"blue\",\"blue\",\"blue\",\"blue\",\"blue\",\"blue\",\"blue\",\"blue\",\"blue\",\"blue\",\"blue\",\"blue\",\"blue\",\"blue\",\"blue\",\"blue\",\"blue\",\"blue\",\"blue\",\"blue\",\"blue\",\"blue\",\"blue\",\"blue\",\"blue\",\"blue\",\"blue\",\"blue\",\"blue\",\"blue\",\"blue\",\"blue\",\"blue\",\"blue\",\"blue\",\"blue\",\"blue\",\"blue\",\"blue\",\"blue\",\"blue\",\"blue\",\"blue\",\"blue\",\"blue\",\"blue\",\"blue\",\"blue\",\"blue\",\"blue\",\"blue\",\"blue\",\"blue\",\"blue\",\"blue\",\"blue\",\"blue\",\"blue\",\"blue\",\"blue\",\"blue\",\"blue\",\"blue\",\"blue\",\"blue\",\"blue\",\"blue\",\"blue\",\"blue\",\"blue\",\"blue\",\"blue\",\"blue\",\"blue\",\"blue\",\"blue\",\"blue\",\"blue\",\"blue\",\"blue\",\"blue\",\"blue\",\"blue\",\"blue\",\"blue\",\"blue\",\"blue\",\"blue\",\"blue\",\"blue\",\"blue\",\"blue\",\"blue\",\"blue\",\"blue\",\"blue\",\"blue\",\"blue\",\"blue\",\"blue\",\"blue\",\"blue\",\"blue\",\"blue\",\"blue\",\"blue\",\"blue\",\"blue\",\"blue\",\"blue\",\"blue\",\"blue\",\"blue\",\"blue\",\"blue\",\"blue\",\"blue\",\"blue\",\"blue\",\"blue\",\"blue\",\"blue\",\"blue\",\"blue\",\"blue\",\"blue\",\"blue\",\"blue\",\"blue\",\"blue\",\"blue\",\"blue\",\"blue\",\"blue\",\"blue\",\"blue\",\"blue\",\"blue\",\"blue\",\"blue\",\"blue\",\"blue\",\"blue\",\"blue\",\"blue\",\"blue\",\"blue\",\"blue\",\"blue\",\"blue\",\"blue\",\"blue\",\"blue\",\"blue\",\"blue\",\"blue\",\"blue\",\"blue\",\"blue\",\"blue\",\"blue\",\"blue\",\"blue\",\"blue\",\"blue\",\"blue\",\"blue\",\"blue\",\"blue\",\"blue\",\"blue\",\"blue\",\"blue\",\"blue\",\"blue\",\"blue\",\"blue\",\"blue\",\"blue\",\"blue\",\"blue\",\"blue\",\"blue\",\"blue\",\"blue\",\"blue\",\"blue\",\"blue\",\"blue\",\"blue\",\"blue\",\"blue\",\"blue\",\"blue\",\"blue\",\"blue\",\"blue\",\"blue\",\"blue\",\"blue\",\"blue\",\"blue\",\"blue\",\"blue\",\"blue\",\"blue\",\"blue\",\"blue\",\"blue\",\"blue\",\"blue\",\"blue\",\"blue\",\"blue\",\"blue\",\"blue\",\"blue\",\"blue\",\"blue\",\"blue\",\"blue\",\"blue\",\"blue\",\"blue\",\"blue\",\"blue\",\"blue\",\"blue\",\"blue\",\"blue\",\"blue\",\"blue\",\"blue\",\"blue\",\"blue\",\"blue\",\"blue\",\"blue\",\"blue\",\"blue\",\"blue\",\"blue\",\"blue\",\"blue\",\"blue\",\"blue\",\"blue\",\"blue\",\"blue\",\"blue\",\"blue\",\"blue\",\"blue\",\"blue\",\"blue\",\"blue\",\"blue\",\"blue\",\"blue\",\"blue\",\"blue\",\"blue\",\"blue\",\"blue\",\"blue\",\"blue\",\"blue\",\"blue\",\"blue\",\"blue\",\"blue\",\"blue\",\"blue\",\"blue\",\"blue\",\"blue\",\"blue\",\"blue\",\"blue\",\"blue\",\"blue\",\"blue\",\"blue\",\"blue\",\"blue\",\"blue\",\"blue\",\"blue\",\"blue\",\"blue\",\"blue\",\"blue\",\"blue\",\"blue\",\"blue\",\"blue\",\"blue\",\"blue\",\"blue\",\"blue\",\"blue\",\"blue\",\"blue\",\"blue\",\"blue\",\"blue\",\"blue\",\"blue\",\"blue\",\"blue\",\"blue\",\"blue\",\"blue\",\"blue\",\"blue\",\"blue\",\"blue\",\"blue\",\"blue\",\"blue\",\"blue\",\"blue\",\"blue\",\"blue\",\"blue\",\"blue\",\"blue\",\"blue\",\"blue\",\"blue\",\"blue\",\"blue\",\"blue\",\"blue\",\"blue\",\"blue\",\"blue\",\"blue\",\"blue\",\"blue\",\"blue\",\"blue\",\"blue\",\"blue\",\"blue\",\"blue\",\"blue\",\"blue\",\"blue\",\"blue\",\"blue\",\"blue\",\"blue\",\"blue\",\"blue\",\"blue\",\"blue\",\"blue\",\"blue\",\"blue\",\"blue\",\"blue\",\"blue\",\"blue\",\"blue\",\"blue\",\"blue\",\"blue\",\"blue\",\"blue\",\"blue\",\"blue\",\"blue\",\"blue\",\"blue\",\"blue\",\"blue\",\"blue\",\"blue\",\"blue\",\"blue\",\"blue\",\"blue\",\"blue\",\"blue\",\"blue\",\"blue\",\"blue\",\"blue\",\"blue\",\"blue\",\"blue\",\"blue\",\"blue\",\"blue\",\"blue\",\"blue\",\"blue\",\"blue\",\"blue\",\"blue\",\"blue\",\"blue\",\"blue\",\"blue\",\"blue\",\"blue\",\"blue\",\"blue\",\"blue\",\"blue\",\"blue\",\"blue\",\"blue\",\"blue\",\"blue\",\"blue\",\"blue\",\"blue\",\"blue\",\"blue\",\"blue\",\"blue\",\"blue\",\"blue\",\"blue\",\"blue\",\"blue\",\"blue\",\"blue\",\"blue\",\"blue\",\"blue\",\"blue\",\"blue\",\"blue\",\"blue\",\"blue\",\"blue\",\"blue\",\"blue\",\"blue\",\"blue\",\"blue\",\"blue\",\"blue\",\"blue\",\"blue\",\"blue\",\"blue\",\"blue\",\"blue\",\"blue\",\"blue\",\"blue\",\"blue\",\"blue\",\"blue\",\"blue\",\"blue\",\"blue\",\"blue\",\"blue\",\"blue\",\"blue\",\"blue\",\"blue\",\"blue\",\"blue\",\"blue\",\"blue\",\"blue\",\"blue\",\"blue\",\"blue\",\"blue\",\"blue\",\"blue\",\"blue\",\"blue\",\"blue\",\"blue\",\"blue\",\"blue\",\"blue\",\"blue\",\"blue\",\"blue\",\"blue\",\"blue\",\"blue\",\"blue\",\"blue\",\"blue\",\"blue\",\"blue\",\"blue\",\"blue\",\"blue\",\"blue\",\"blue\",\"blue\",\"blue\",\"blue\",\"blue\",\"blue\",\"blue\",\"blue\",\"blue\",\"blue\",\"blue\",\"blue\",\"blue\",\"blue\",\"blue\",\"blue\",\"blue\",\"blue\",\"blue\",\"blue\",\"blue\",\"blue\",\"blue\",\"blue\",\"blue\",\"blue\",\"blue\",\"blue\",\"blue\",\"blue\",\"blue\",\"blue\",\"blue\",\"blue\",\"blue\",\"blue\",\"blue\",\"blue\",\"blue\",\"blue\",\"blue\",\"blue\",\"blue\",\"blue\",\"blue\",\"blue\",\"blue\",\"blue\",\"blue\",\"blue\",\"blue\",\"blue\",\"blue\",\"blue\",\"blue\",\"blue\",\"blue\",\"blue\",\"blue\",\"blue\",\"blue\",\"blue\",\"blue\",\"blue\",\"blue\",\"blue\",\"blue\",\"blue\",\"blue\",\"blue\",\"blue\",\"blue\",\"blue\",\"blue\",\"blue\",\"blue\",\"blue\",\"blue\",\"blue\",\"blue\",\"blue\",\"blue\",\"blue\",\"blue\",\"blue\",\"blue\",\"blue\",\"blue\",\"blue\",\"blue\",\"blue\",\"blue\",\"blue\",\"blue\",\"blue\",\"blue\",\"blue\",\"blue\",\"blue\",\"blue\",\"blue\",\"blue\",\"blue\",\"blue\",\"blue\",\"blue\",\"blue\",\"blue\",\"blue\",\"blue\",\"blue\",\"blue\",\"blue\",\"blue\",\"blue\",\"blue\",\"blue\",\"blue\",\"blue\",\"blue\",\"blue\",\"blue\",\"blue\",\"blue\",\"blue\",\"blue\",\"blue\",\"blue\",\"blue\",\"blue\",\"blue\",\"blue\",\"blue\",\"blue\",\"blue\",\"blue\",\"blue\",\"blue\",\"blue\",\"blue\",\"blue\",\"blue\",\"blue\",\"blue\",\"blue\",\"blue\",\"blue\",\"blue\",\"blue\",\"blue\",\"blue\",\"blue\",\"blue\",\"blue\",\"blue\",\"blue\",\"blue\",\"blue\",\"blue\",\"blue\",\"blue\",\"blue\",\"blue\",\"blue\",\"blue\",\"blue\",\"blue\",\"blue\",\"blue\",\"blue\",\"blue\",\"blue\",\"blue\",\"blue\",\"blue\",\"blue\",\"blue\",\"blue\",\"blue\",\"blue\",\"blue\",\"blue\",\"blue\",\"blue\",\"blue\",\"blue\",\"blue\",\"blue\",\"blue\",\"blue\",\"blue\",\"blue\",\"blue\",\"blue\",\"blue\",\"blue\",\"blue\",\"blue\",\"blue\",\"blue\",\"blue\",\"blue\",\"blue\",\"blue\",\"blue\",\"blue\",\"blue\",\"blue\",\"blue\",\"blue\",\"blue\",\"blue\",\"blue\",\"blue\",\"blue\",\"blue\",\"blue\",\"blue\",\"blue\",\"blue\",\"blue\",\"blue\",\"blue\",\"blue\",\"blue\",\"blue\",\"blue\",\"blue\",\"blue\",\"blue\",\"blue\",\"blue\",\"blue\",\"blue\",\"blue\",\"blue\",\"blue\",\"blue\",\"blue\",\"blue\",\"blue\",\"blue\",\"blue\",\"blue\",\"blue\",\"blue\",\"blue\",\"blue\",\"blue\",\"blue\",\"blue\",\"blue\",\"blue\",\"blue\",\"blue\",\"blue\",\"blue\",\"blue\",\"blue\",\"blue\",\"blue\",\"blue\",\"blue\",\"blue\",\"blue\",\"blue\",\"blue\",\"blue\",\"blue\",\"blue\",\"blue\",\"blue\",\"blue\",\"blue\",\"blue\",\"blue\",\"blue\",\"blue\",\"blue\",\"blue\",\"blue\",\"blue\",\"blue\",\"blue\",\"blue\",\"blue\",\"blue\",\"blue\",\"blue\",\"blue\",\"blue\",\"blue\",\"blue\",\"blue\",\"blue\",\"blue\",\"blue\",\"blue\",\"blue\",\"blue\",\"blue\",\"blue\",\"blue\",\"blue\",\"blue\",\"blue\",\"blue\",\"blue\",\"blue\",\"blue\",\"blue\",\"blue\",\"blue\",\"blue\",\"blue\",\"blue\",\"blue\",\"blue\",\"blue\",\"blue\",\"blue\",\"blue\",\"blue\",\"blue\",\"blue\",\"blue\",\"blue\",\"blue\",\"blue\",\"blue\",\"blue\",\"blue\",\"blue\",\"blue\",\"blue\",\"blue\",\"blue\",\"blue\",\"blue\",\"blue\",\"blue\",\"blue\",\"blue\",\"blue\",\"blue\",\"blue\",\"blue\",\"blue\",\"blue\",\"blue\",\"blue\",\"blue\",\"blue\",\"blue\",\"blue\",\"blue\",\"blue\",\"blue\",\"blue\",\"blue\",\"blue\",\"blue\",\"blue\",\"blue\",\"blue\",\"blue\",\"blue\",\"blue\",\"blue\",\"blue\",\"blue\",\"blue\",\"blue\",\"blue\",\"blue\",\"blue\",\"blue\",\"blue\",\"blue\",\"blue\",\"blue\",\"blue\",\"blue\",\"blue\",\"blue\",\"blue\",\"blue\",\"blue\",\"blue\",\"blue\",\"blue\",\"blue\",\"blue\",\"blue\",\"blue\",\"blue\",\"blue\",\"blue\",\"blue\",\"blue\",\"blue\",\"blue\",\"blue\",\"blue\",\"blue\",\"blue\",\"blue\",\"blue\",\"blue\",\"blue\",\"blue\",\"blue\",\"blue\",\"blue\",\"blue\",\"blue\",\"blue\",\"blue\",\"blue\",\"blue\",\"blue\",\"blue\",\"blue\",\"blue\",\"blue\",\"blue\",\"blue\",\"blue\",\"blue\",\"blue\",\"blue\",\"blue\",\"blue\",\"blue\",\"blue\",\"blue\",\"blue\",\"blue\",\"blue\",\"blue\",\"blue\",\"blue\",\"blue\",\"blue\",\"blue\",\"blue\",\"blue\",\"blue\",\"blue\",\"blue\",\"blue\",\"blue\",\"blue\",\"blue\",\"blue\",\"blue\",\"blue\",\"blue\",\"blue\",\"blue\",\"blue\",\"blue\",\"blue\",\"blue\",\"blue\",\"blue\",\"blue\",\"blue\",\"blue\",\"blue\",\"blue\",\"blue\",\"blue\",\"blue\",\"blue\",\"blue\",\"blue\",\"blue\",\"blue\",\"blue\",\"blue\",\"blue\",\"blue\",\"blue\",\"blue\",\"blue\",\"blue\",\"blue\",\"blue\",\"blue\",\"blue\",\"blue\",\"blue\",\"blue\",\"blue\",\"blue\",\"blue\",\"blue\",\"blue\",\"blue\",\"blue\",\"blue\",\"blue\",\"blue\",\"blue\",\"blue\",\"blue\",\"blue\",\"blue\",\"blue\",\"blue\",\"blue\",\"blue\",\"blue\",\"blue\",\"blue\",\"blue\",\"blue\",\"blue\",\"blue\",\"blue\",\"blue\",\"blue\",\"blue\",\"blue\",\"blue\",\"blue\",\"blue\",\"blue\",\"blue\",\"blue\",\"blue\",\"blue\",\"blue\",\"blue\",\"blue\",\"blue\",\"blue\",\"blue\",\"blue\",\"blue\",\"blue\",\"blue\",\"blue\",\"blue\",\"blue\",\"blue\",\"blue\",\"blue\",\"blue\",\"blue\",\"blue\",\"blue\",\"blue\",\"blue\",\"blue\",\"blue\",\"blue\",\"blue\",\"blue\",\"blue\",\"blue\",\"blue\",\"blue\",\"blue\",\"blue\",\"blue\",\"blue\",\"blue\",\"blue\",\"blue\",\"blue\",\"blue\",\"blue\",\"blue\",\"blue\",\"blue\",\"blue\",\"blue\",\"blue\",\"blue\",\"blue\",\"blue\",\"blue\",\"blue\",\"blue\",\"blue\",\"blue\",\"blue\",\"blue\",\"blue\",\"blue\",\"blue\",\"blue\",\"blue\",\"blue\",\"blue\",\"blue\",\"blue\",\"blue\",\"blue\",\"blue\",\"blue\",\"blue\",\"blue\",\"blue\",\"blue\",\"blue\",\"blue\",\"blue\",\"blue\",\"blue\",\"blue\",\"blue\",\"blue\",\"blue\",\"blue\",\"blue\",\"blue\",\"blue\",\"blue\",\"blue\",\"blue\",\"blue\",\"blue\",\"blue\",\"blue\",\"blue\",\"blue\",\"blue\",\"blue\",\"blue\",\"blue\",\"blue\",\"blue\",\"blue\",\"blue\",\"blue\",\"blue\",\"blue\",\"blue\",\"blue\",\"blue\",\"blue\",\"blue\",\"blue\",\"blue\",\"blue\",\"blue\",\"blue\",\"blue\",\"blue\",\"blue\",\"blue\",\"blue\",\"blue\",\"blue\",\"blue\",\"blue\",\"blue\",\"blue\",\"blue\",\"blue\",\"blue\",\"blue\",\"blue\",\"blue\",\"blue\",\"blue\",\"blue\",\"blue\",\"blue\",\"blue\",\"blue\",\"blue\",\"blue\",\"blue\",\"blue\",\"blue\",\"blue\",\"blue\",\"blue\",\"blue\",\"blue\",\"blue\",\"blue\",\"blue\",\"blue\",\"blue\",\"blue\",\"blue\",\"blue\",\"blue\",\"blue\",\"blue\",\"blue\",\"blue\",\"blue\",\"blue\",\"blue\",\"blue\",\"blue\",\"blue\",\"blue\",\"blue\",\"blue\",\"blue\",\"blue\",\"blue\",\"blue\",\"blue\",\"blue\",\"blue\",\"blue\",\"blue\",\"blue\",\"blue\",\"blue\",\"blue\",\"blue\",\"blue\",\"blue\",\"blue\",\"blue\",\"blue\",\"blue\",\"blue\",\"blue\",\"blue\",\"blue\",\"blue\",\"blue\",\"blue\",\"blue\",\"blue\",\"blue\",\"blue\",\"blue\",\"blue\",\"blue\",\"blue\",\"blue\",\"blue\",\"blue\",\"blue\",\"blue\",\"blue\",\"blue\",\"blue\",\"blue\",\"blue\",\"blue\",\"blue\",\"blue\",\"blue\",\"blue\",\"blue\",\"blue\",\"blue\",\"blue\",\"blue\",\"blue\",\"blue\",\"blue\",\"blue\",\"blue\",\"blue\",\"blue\",\"blue\",\"blue\",\"blue\",\"blue\",\"blue\",\"blue\",\"blue\",\"blue\",\"blue\",\"blue\",\"blue\",\"blue\",\"blue\",\"blue\",\"blue\",\"blue\",\"blue\",\"blue\",\"blue\",\"blue\",\"blue\",\"blue\",\"blue\",\"blue\",\"blue\",\"blue\",\"blue\",\"blue\",\"blue\",\"blue\",\"blue\",\"blue\",\"blue\",\"blue\",\"blue\",\"blue\",\"blue\",\"blue\",\"blue\",\"blue\",\"blue\",\"blue\",\"blue\",\"blue\",\"blue\",\"blue\",\"blue\",\"blue\",\"blue\",\"blue\",\"blue\",\"blue\",\"blue\",\"blue\",\"blue\",\"blue\",\"blue\",\"blue\",\"blue\",\"blue\",\"blue\",\"blue\",\"blue\",\"blue\",\"blue\",\"blue\",\"blue\",\"blue\",\"blue\",\"blue\",\"blue\",\"blue\",\"blue\",\"blue\",\"blue\",\"blue\",\"blue\",\"blue\",\"blue\",\"blue\",\"blue\",\"blue\",\"blue\",\"blue\",\"blue\",\"blue\",\"blue\",\"blue\",\"blue\",\"blue\",\"blue\",\"blue\",\"blue\",\"blue\",\"blue\",\"blue\",\"blue\",\"blue\",\"blue\",\"blue\",\"blue\",\"blue\",\"blue\",\"blue\",\"blue\",\"blue\",\"blue\",\"blue\",\"blue\",\"blue\",\"blue\",\"blue\",\"blue\",\"blue\",\"blue\",\"blue\",\"blue\",\"blue\",\"blue\",\"blue\",\"blue\",\"blue\",\"blue\",\"blue\",\"blue\",\"blue\",\"blue\",\"blue\",\"blue\",\"blue\",\"blue\",\"blue\",\"blue\",\"blue\",\"blue\",\"blue\",\"blue\",\"blue\",\"blue\",\"blue\",\"blue\",\"blue\",\"blue\",\"blue\",\"blue\",\"blue\",\"blue\",\"blue\",\"blue\",\"blue\",\"blue\",\"blue\",\"blue\",\"blue\",\"blue\",\"blue\",\"blue\",\"blue\",\"blue\",\"blue\",\"blue\",\"blue\",\"blue\",\"blue\",\"blue\",\"blue\",\"blue\",\"blue\",\"blue\",\"blue\",\"blue\",\"blue\",\"blue\",\"blue\",\"blue\",\"blue\",\"blue\",\"blue\",\"blue\",\"blue\",\"blue\",\"blue\",\"blue\",\"blue\",\"blue\",\"blue\",\"blue\",\"blue\",\"blue\",\"blue\",\"blue\",\"blue\",\"blue\",\"blue\",\"blue\",\"blue\",\"blue\",\"blue\",\"blue\",\"blue\",\"blue\",\"blue\",\"blue\",\"blue\",\"blue\",\"blue\",\"blue\",\"blue\",\"blue\",\"blue\",\"blue\",\"blue\",\"blue\",\"blue\",\"blue\",\"blue\",\"blue\",\"blue\",\"blue\",\"blue\",\"blue\",\"blue\",\"blue\",\"blue\",\"blue\",\"blue\",\"blue\",\"blue\",\"blue\",\"blue\",\"blue\",\"blue\",\"blue\",\"blue\",\"blue\",\"blue\",\"blue\",\"blue\",\"blue\",\"blue\",\"blue\",\"blue\",\"blue\",\"blue\",\"blue\",\"blue\",\"blue\",\"blue\",\"blue\",\"blue\",\"blue\",\"blue\",\"blue\",\"blue\",\"blue\",\"blue\",\"blue\",\"blue\",\"blue\",\"blue\",\"blue\",\"blue\",\"blue\",\"blue\",\"blue\",\"blue\",\"blue\",\"blue\",\"blue\",\"blue\",\"blue\",\"blue\",\"blue\",\"blue\",\"blue\",\"blue\",\"blue\",\"blue\",\"blue\",\"blue\",\"blue\",\"blue\",\"blue\",\"blue\",\"blue\",\"blue\",\"blue\",\"blue\",\"blue\",\"blue\",\"blue\",\"blue\",\"blue\",\"blue\",\"blue\",\"blue\",\"blue\",\"blue\",\"blue\",\"blue\",\"blue\",\"blue\",\"blue\",\"blue\",\"blue\",\"blue\",\"blue\",\"blue\",\"blue\",\"blue\",\"blue\",\"blue\",\"blue\",\"blue\",\"blue\",\"blue\",\"blue\",\"blue\",\"blue\",\"blue\",\"blue\",\"blue\",\"blue\",\"blue\",\"blue\",\"blue\",\"blue\",\"blue\",\"blue\",\"blue\",\"blue\",\"blue\",\"blue\",\"blue\",\"blue\",\"blue\",\"blue\",\"blue\",\"blue\",\"blue\",\"blue\",\"blue\",\"blue\",\"blue\",\"blue\",\"blue\",\"blue\",\"blue\",\"blue\",\"blue\",\"blue\",\"blue\",\"blue\",\"blue\",\"blue\",\"blue\",\"blue\",\"blue\",\"blue\",\"blue\",\"blue\",\"blue\",\"blue\",\"blue\",\"blue\",\"blue\",\"blue\",\"blue\",\"blue\",\"blue\",\"blue\",\"blue\",\"blue\",\"blue\",\"blue\",\"blue\",\"blue\",\"blue\",\"blue\",\"blue\",\"blue\",\"blue\",\"blue\",\"blue\",\"blue\",\"blue\",\"blue\",\"blue\",\"blue\",\"blue\",\"blue\",\"blue\",\"blue\",\"blue\",\"blue\",\"blue\",\"blue\",\"blue\",\"blue\",\"blue\",\"blue\",\"blue\",\"blue\",\"blue\",\"blue\",\"blue\",\"blue\",\"blue\",\"blue\",\"blue\",\"blue\",\"blue\",\"blue\",\"blue\",\"blue\",\"blue\",\"blue\",\"blue\",\"blue\",\"blue\",\"blue\",\"blue\",\"blue\",\"blue\",\"blue\",\"blue\",\"blue\",\"blue\",\"blue\",\"blue\",\"blue\",\"blue\",\"blue\",\"blue\",\"blue\",\"blue\",\"blue\",\"blue\",\"blue\",\"blue\",\"blue\",\"blue\",\"blue\",\"blue\",\"blue\",\"blue\",\"blue\",\"blue\",\"blue\",\"blue\",\"blue\",\"blue\",\"blue\",\"blue\",\"blue\",\"blue\",\"blue\",\"blue\",\"blue\",\"blue\",\"blue\",\"blue\",\"blue\",\"blue\",\"blue\",\"blue\",\"blue\",\"blue\",\"blue\",\"blue\",\"blue\",\"blue\",\"blue\",\"blue\",\"blue\",\"blue\",\"blue\",\"blue\",\"blue\",\"blue\",\"blue\",\"blue\",\"blue\",\"blue\",\"blue\",\"blue\",\"blue\",\"blue\",\"blue\",\"blue\",\"blue\",\"blue\",\"blue\",\"blue\",\"blue\",\"blue\",\"blue\",\"blue\",\"blue\",\"blue\",\"blue\",\"blue\",\"blue\",\"blue\",\"blue\",\"blue\",\"blue\",\"blue\",\"blue\",\"blue\",\"blue\",\"blue\",\"blue\",\"blue\",\"blue\",\"blue\",\"blue\",\"blue\",\"blue\",\"blue\",\"blue\",\"blue\",\"blue\",\"blue\",\"blue\",\"blue\",\"blue\",\"blue\",\"blue\",\"blue\",\"blue\",\"blue\",\"blue\",\"blue\",\"blue\",\"blue\",\"blue\",\"blue\",\"blue\",\"blue\",\"blue\",\"blue\",\"blue\",\"blue\",\"blue\",\"blue\",\"blue\",\"blue\",\"blue\",\"blue\",\"blue\",\"blue\",\"blue\",\"blue\",\"blue\",\"blue\",\"blue\",\"blue\",\"blue\",\"blue\",\"blue\",\"blue\",\"blue\",\"blue\",\"blue\",\"blue\",\"blue\",\"blue\",\"blue\",\"blue\",\"blue\",\"blue\",\"blue\",\"blue\",\"blue\",\"blue\",\"blue\",\"blue\",\"blue\",\"blue\",\"blue\",\"blue\",\"blue\",\"blue\",\"blue\",\"blue\",\"blue\",\"blue\",\"blue\",\"blue\",\"blue\",\"blue\",\"blue\",\"blue\",\"blue\",\"blue\",\"blue\",\"blue\",\"blue\",\"blue\",\"blue\",\"blue\",\"blue\",\"blue\",\"blue\",\"blue\",\"blue\",\"blue\",\"blue\",\"blue\",\"blue\",\"blue\",\"blue\",\"blue\",\"blue\",\"blue\",\"blue\",\"blue\",\"blue\",\"blue\",\"blue\",\"blue\",\"blue\",\"blue\",\"blue\",\"blue\",\"blue\",\"blue\",\"blue\",\"blue\",\"blue\",\"blue\",\"blue\",\"blue\",\"blue\",\"blue\",\"blue\",\"blue\",\"blue\",\"blue\",\"blue\",\"blue\",\"blue\",\"blue\",\"blue\",\"blue\",\"blue\",\"blue\",\"blue\",\"blue\",\"blue\",\"blue\",\"blue\",\"blue\",\"blue\",\"blue\",\"blue\",\"blue\",\"blue\",\"blue\",\"blue\",\"blue\",\"blue\",\"blue\",\"blue\",\"blue\",\"blue\",\"blue\",\"blue\",\"blue\",\"blue\",\"blue\",\"blue\",\"blue\",\"blue\",\"blue\",\"blue\",\"blue\",\"blue\",\"blue\",\"blue\",\"blue\",\"blue\",\"blue\",\"blue\",\"blue\",\"blue\",\"blue\",\"blue\",\"blue\",\"blue\",\"blue\",\"blue\",\"blue\",\"blue\",\"blue\",\"blue\",\"blue\",\"blue\",\"blue\",\"blue\",\"blue\",\"blue\",\"blue\",\"blue\",\"blue\",\"blue\",\"blue\",\"blue\",\"blue\",\"blue\",\"blue\",\"blue\",\"blue\",\"blue\",\"blue\",\"blue\",\"blue\",\"blue\",\"blue\",\"blue\",\"blue\",\"blue\",\"blue\",\"blue\",\"blue\",\"blue\",\"blue\",\"blue\",\"blue\",\"blue\",\"blue\",\"blue\",\"blue\",\"blue\",\"blue\",\"blue\",\"blue\",\"blue\",\"blue\",\"blue\",\"blue\",\"blue\",\"blue\",\"blue\",\"blue\",\"blue\",\"blue\",\"blue\",\"blue\",\"blue\",\"blue\",\"blue\",\"blue\",\"blue\",\"blue\",\"blue\",\"blue\",\"blue\",\"blue\",\"blue\",\"blue\",\"blue\",\"blue\",\"blue\",\"blue\",\"blue\",\"blue\",\"blue\",\"blue\",\"blue\",\"blue\",\"blue\",\"blue\",\"blue\",\"blue\",\"blue\",\"blue\",\"blue\",\"blue\",\"blue\",\"blue\",\"blue\",\"blue\",\"blue\",\"blue\",\"blue\",\"blue\",\"blue\",\"blue\",\"blue\",\"blue\",\"blue\",\"blue\",\"blue\",\"blue\",\"blue\",\"blue\",\"blue\",\"blue\",\"blue\",\"blue\",\"blue\",\"blue\",\"blue\",\"blue\",\"blue\",\"blue\",\"blue\",\"blue\",\"blue\",\"blue\",\"blue\",\"blue\",\"blue\",\"blue\",\"blue\",\"blue\",\"blue\",\"blue\",\"blue\",\"blue\",\"blue\",\"blue\",\"blue\",\"blue\",\"blue\",\"blue\",\"blue\",\"blue\",\"blue\",\"blue\",\"blue\",\"blue\",\"blue\",\"blue\",\"blue\",\"blue\",\"blue\",\"blue\",\"blue\",\"blue\",\"blue\",\"blue\",\"blue\",\"blue\",\"blue\",\"blue\",\"blue\",\"blue\",\"blue\",\"blue\",\"blue\",\"blue\",\"blue\",\"blue\",\"blue\",\"blue\",\"blue\",\"blue\",\"blue\",\"blue\",\"blue\",\"blue\",\"blue\",\"blue\",\"blue\",\"blue\",\"blue\",\"blue\",\"blue\",\"blue\",\"blue\",\"blue\",\"blue\",\"blue\",\"blue\",\"blue\",\"blue\",\"blue\",\"blue\",\"blue\",\"blue\",\"blue\",\"blue\",\"blue\",\"blue\",\"blue\",\"blue\",\"blue\",\"blue\",\"blue\",\"blue\",\"blue\",\"blue\",\"blue\",\"blue\",\"blue\",\"blue\",\"blue\",\"blue\",\"blue\",\"blue\",\"blue\",\"blue\",\"blue\",\"blue\",\"blue\",\"blue\",\"blue\",\"blue\",\"blue\",\"blue\",\"blue\",\"blue\",\"blue\",\"blue\",\"blue\",\"blue\",\"blue\",\"blue\",\"blue\",\"blue\",\"blue\",\"blue\",\"blue\",\"blue\",\"blue\",\"blue\",\"blue\",\"blue\",\"blue\",\"blue\",\"blue\",\"blue\",\"blue\",\"blue\",\"blue\",\"blue\",\"blue\",\"blue\",\"blue\",\"blue\",\"blue\",\"blue\",\"blue\",\"blue\",\"blue\",\"blue\",\"blue\",\"blue\",\"blue\",\"blue\",\"blue\",\"blue\",\"blue\",\"blue\",\"blue\",\"blue\",\"blue\",\"blue\",\"blue\",\"blue\",\"blue\",\"blue\",\"blue\",\"blue\",\"blue\",\"blue\",\"blue\",\"blue\",\"blue\",\"blue\",\"blue\",\"blue\",\"blue\",\"blue\",\"blue\",\"blue\",\"blue\",\"blue\",\"blue\",\"blue\",\"blue\",\"blue\",\"blue\",\"blue\",\"blue\",\"blue\",\"blue\",\"blue\",\"blue\",\"blue\",\"blue\",\"blue\",\"blue\",\"blue\",\"blue\",\"blue\",\"blue\",\"blue\",\"blue\",\"blue\",\"blue\",\"blue\",\"blue\",\"blue\",\"blue\",\"blue\",\"blue\",\"blue\",\"blue\",\"blue\",\"blue\",\"blue\",\"blue\",\"blue\",\"blue\",\"blue\",\"blue\",\"blue\",\"blue\",\"blue\",\"blue\",\"blue\",\"blue\",\"blue\",\"blue\",\"blue\",\"blue\",\"blue\",\"blue\",\"blue\",\"blue\",\"blue\",\"blue\",\"blue\",\"blue\",\"blue\",\"blue\",\"blue\",\"blue\",\"blue\",\"blue\",\"blue\",\"blue\",\"blue\",\"blue\",\"blue\",\"blue\",\"blue\",\"blue\",\"blue\",\"blue\",\"blue\",\"blue\",\"blue\",\"blue\",\"blue\",\"blue\",\"blue\",\"blue\",\"blue\",\"blue\",\"blue\",\"blue\",\"blue\",\"blue\",\"blue\",\"blue\",\"blue\",\"blue\",\"blue\",\"blue\",\"blue\",\"blue\",\"blue\",\"blue\",\"blue\",\"blue\",\"blue\",\"blue\",\"blue\",\"blue\",\"blue\",\"blue\",\"blue\",\"blue\",\"blue\",\"blue\",\"blue\",\"blue\",\"blue\",\"blue\",\"blue\",\"blue\",\"blue\",\"blue\",\"blue\",\"blue\",\"blue\",\"blue\",\"blue\",\"blue\",\"blue\",\"blue\",\"blue\",\"blue\",\"blue\",\"blue\",\"blue\",\"blue\",\"blue\",\"blue\",\"blue\",\"blue\",\"blue\",\"blue\",\"blue\",\"blue\",\"blue\",\"blue\",\"blue\",\"blue\",\"blue\",\"blue\",\"blue\",\"blue\",\"blue\",\"blue\",\"blue\",\"blue\",\"blue\",\"blue\",\"blue\",\"blue\",\"blue\",\"blue\",\"blue\",\"blue\",\"blue\",\"blue\",\"blue\",\"blue\",\"blue\",\"blue\",\"blue\",\"blue\",\"blue\",\"blue\",\"blue\",\"blue\",\"blue\",\"blue\",\"blue\",\"blue\",\"blue\",\"blue\",\"blue\",\"blue\",\"blue\",\"blue\",\"blue\",\"blue\",\"blue\",\"blue\",\"blue\",\"blue\",\"blue\",\"blue\",\"blue\",\"blue\",\"blue\",\"blue\",\"blue\",\"blue\",\"blue\",\"blue\",\"blue\",\"blue\",\"blue\",\"blue\",\"blue\",\"blue\",\"blue\",\"blue\",\"blue\",\"blue\",\"blue\",\"blue\",\"blue\",\"blue\",\"blue\",\"blue\",\"blue\",\"blue\",\"blue\",\"blue\",\"blue\",\"blue\",\"blue\",\"blue\",\"blue\",\"blue\",\"blue\",\"blue\",\"blue\",\"blue\",\"blue\",\"blue\",\"blue\",\"blue\",\"blue\",\"blue\",\"blue\",\"blue\",\"blue\",\"blue\",\"blue\",\"blue\",\"blue\",\"blue\",\"blue\",\"blue\",\"blue\",\"blue\",\"blue\",\"blue\",\"blue\",\"blue\",\"blue\",\"blue\",\"blue\",\"blue\"]],[\"token\",[\"verified\",\"2gb\",\"illinois\",\"jazz\",\"checking\",\"telescope\",\"seasons\",\"astrologer\",\"contribution\",\"homemade\",\"heroes\",\"warcraft\",\"kumar\",\"tester\",\"politically\",\"conquer\",\"columbia\",\"quiet\",\"repeat\",\"kapil\",\"involve\",\"mckinsey\",\"switched\",\"att\",\"instance\",\"innocent\",\"portuguese\",\"subscribers\",\"cabinet\",\"terror\",\"85\",\"rotation\",\"shirts\",\"drawn\",\"bi\",\"aspergers\",\"inspiration\",\"beats\",\"\\u00a3\",\"approximately\",\"asset\",\"empathy\",\"rooting\",\"ia\",\"dandruff\",\"slab\",\"operator\",\"horrible\",\"dominant\",\"ocd\",\"spacetime\",\"blow\",\"installing\",\"learnt\",\"separation\",\"institution\",\"temples\",\"hons\",\"pound\",\"removing\",\"unemployment\",\"greenlit\",\"audit\",\"supplement\",\"roller\",\"dota\",\"tiny\",\"equally\",\"braces\",\"aggressive\",\"corn\",\"camps\",\"additional\",\"consent\",\"granted\",\"welfare\",\"myths\",\"stations\",\"timeline\",\"psychologist\",\"nagpur\",\"herself\",\"cooper\",\"exgirlfriend\",\"intercourse\",\"flip\",\"hurts\",\"lpa\",\"nerve\",\"tvs\",\"halloween\",\"screenshot\",\"biomedical\",\"covered\",\"milky\",\"onsite\",\"aside\",\"meaningful\",\"stretch\",\"joker\",\"encounter\",\"tone\",\"founders\",\"talked\",\"respectively\",\"downloads\",\"cocaine\",\"toxic\",\"sword\",\"fuck\",\"trainer\",\"partition\",\"boxing\",\"grid\",\"practicing\",\"menu\",\"cms\",\"indore\",\"ate\",\"volunteer\",\"misconceptions\",\"pics\",\"flies\",\"instantly\",\"trans\",\"friday\",\"sociopaths\",\"ctc\",\"hoax\",\"detailed\",\"sizes\",\"rejection\",\"limitations\",\"bharat\",\"kissing\",\"renewable\",\"oriented\",\"countrys\",\"dumps\",\"spiders\",\"technological\",\"advertisement\",\"headache\",\"zodiac\",\"accommodation\",\"venus\",\"calcium\",\"passenger\",\"falls\",\"overnight\",\"pickup\",\"gary\",\"transportation\",\"odds\",\"jupiter\",\"purchasing\",\"fluently\",\"flu\",\"photons\",\"conductor\",\"ohio\",\"balaji\",\"mcdonalds\",\"betting\",\"irrational\",\"sachin\",\"deactivate\",\"estimate\",\"hairs\",\"fluent\",\"errors\",\"remaining\",\"marriages\",\"medieval\",\"charles\",\"spider\",\"oxford\",\"gita\",\"races\",\"liquor\",\"poland\",\"lease\",\"co2\",\"selenium\",\"attempts\",\"crystal\",\"manaphy\",\"knight\",\"collapsed\",\"wheels\",\"behaviour\",\"bitcoins\",\"parliament\",\"himher\",\"handsome\",\"thousands\",\"caring\",\"kings\",\"lucky\",\"workplace\",\"condom\",\"intuitive\",\"chronic\",\"eyesight\",\"simulation\",\"prank\",\"quickest\",\"concert\",\"popularity\",\"connections\",\"disorders\",\"scripting\",\"appearance\",\"js\",\"depth\",\"cheque\",\"longterm\",\"documentaries\",\"dioxide\",\"bright\",\"info\",\"diseases\",\"appeal\",\"snap\",\"smoked\",\"singers\",\"boil\",\"probably\",\"temperatures\",\"appearing\",\"olive\",\"ntse\",\"telecom\",\"brief\",\"discrimination\",\"ethnic\",\"cache\",\"passionate\",\"shoulder\",\"assault\",\"marshmallow\",\"momentum\",\"yr\",\"migrate\",\"retire\",\"cet\",\"canvas\",\"vietnamese\",\"institutions\",\"meter\",\"roots\",\"integer\",\"imported\",\"ants\",\"lyft\",\"piercing\",\"il\",\"poop\",\"organisms\",\"ve\",\"entropy\",\"calm\",\"saddest\",\"toward\",\"myth\",\"sight\",\"filling\",\"hdmi\",\"satisfied\",\"transactions\",\"pharmacy\",\"nursing\",\"correlation\",\"regression\",\"awake\",\"md\",\"nri\",\"recommendations\",\"bin\",\"finland\",\"multi\",\"voted\",\"discovery\",\"edward\",\"touching\",\"immigrant\",\"geometry\",\"indicate\",\"ourselves\",\"texting\",\"seek\",\"expecting\",\"dj\",\"brake\",\"helicopter\",\"blonde\",\"triple\",\"ladies\",\"vivekananda\",\"switching\",\"prostitution\",\"banana\",\"magazines\",\"shippuden\",\"lucknow\",\"2019\",\"failing\",\"elizabeth\",\"irish\",\"ebook\",\"temporary\",\"governor\",\"wasting\",\"weekends\",\"cpt\",\"wax\",\"labor\",\"instruments\",\"instrumentation\",\"hates\",\"hip\",\"arnab\",\"bubble\",\"employers\",\"aadhaar\",\"boyfriends\",\"jake\",\"explained\",\"yesterday\",\"beta\",\"extrovert\",\"andhra\",\"micromax\",\"vertical\",\"lay\",\"nonprofit\",\"dubbed\",\"typing\",\"automotive\",\"thomas\",\"procedures\",\"priority\",\"funded\",\"arabs\",\"siblings\",\"guinea\",\"missile\",\"luck\",\"strategic\",\"defend\",\"module\",\"tuition\",\"acids\",\"controller\",\"committee\",\"housing\",\"integral\",\"peaceful\",\"refugees\",\"prescription\",\"interns\",\"supported\",\"womans\",\"dentist\",\"wives\",\"village\",\"affecting\",\"lte\",\"beaches\",\"austin\",\"substance\",\"engagement\",\"trainee\",\"measures\",\"trailer\",\"purchased\",\"15000\",\"uttar\",\"glue\",\"dtu\",\"medal\",\"photon\",\"engg\",\"violin\",\"column\",\"somehow\",\"rotate\",\"3000\",\"virat\",\"forgotten\",\"fingers\",\"slim\",\"arrest\",\"covalent\",\"ncert\",\"kernel\",\"da\",\"alarm\",\"ngo\",\"4gb\",\"productivity\",\"planned\",\"district\",\"berlin\",\"lists\",\"leads\",\"slang\",\"defence\",\"aspiring\",\"56\",\"enemy\",\"farming\",\"muller\",\"pays\",\"liver\",\"membrane\",\"secretly\",\"plug\",\"gum\",\"eclipse\",\"chewing\",\"labs\",\"zombie\",\"authority\",\"males\",\"argentina\",\"tasks\",\"fell\",\"nails\",\"palestine\",\"tanks\",\"identical\",\"deck\",\"qualification\",\"leadership\",\"kohli\",\"pronunciation\",\"hello\",\"violent\",\"sabha\",\"respiration\",\"transform\",\"warranty\",\"faculty\",\"adolf\",\"expenses\",\"jersey\",\"mercury\",\"whiskey\",\"tackle\",\"tweet\",\"blame\",\"cruise\",\"mahindra\",\"discharge\",\"reduced\",\"vodka\",\"mahatma\",\"bass\",\"compete\",\"stains\",\"pill\",\"swim\",\"ali\",\"gf\",\"ford\",\"prince\",\"sweat\",\"performing\",\"limits\",\"leonardo\",\"cow\",\"resolve\",\"matters\",\"pharmaceutical\",\"ray\",\"remotely\",\"pf\",\"clinical\",\"bpo\",\"homeless\",\"husbands\",\"rising\",\"newtons\",\"outcome\",\"derivative\",\"alpha\",\"grown\",\"capitalism\",\"astronaut\",\"hybrid\",\"palm\",\"teens\",\"hits\",\"airplanes\",\"none\",\"admin\",\"applicable\",\"amcat\",\"spam\",\"neutrality\",\"pixel\",\"festival\",\"faces\",\"molar\",\"snakes\",\"sip\",\"kik\",\"farm\",\"ltd\",\"votes\",\"publishing\",\"comfort\",\"frontend\",\"spin\",\"diagnosed\",\"buildings\",\"\\u00b0\",\"cashless\",\"addictive\",\"extinct\",\"ugc\",\"coke\",\"llb\",\"phrases\",\"struggle\",\"drives\",\"fiber\",\"grocery\",\"achieved\",\"penny\",\"bath\",\"allies\",\"uninstall\",\"ny\",\"appears\",\"effort\",\"satellites\",\"confirmed\",\"loneliness\",\"illuminati\",\"uri\",\"lucid\",\"preferably\",\"neither\",\"\\u221a\",\"pacific\",\"americas\",\"bs\",\"graduated\",\"bills\",\"tube\",\"germans\",\"assume\",\"cleared\",\"mate\",\"divide\",\"versions\",\"fallen\",\"journey\",\"anthem\",\"certificates\",\"looked\",\"sponsor\",\"useless\",\"dependent\",\"invite\",\"guru\",\"keyword\",\"aipmt\",\"clone\",\"kgs\",\"chip\",\"origins\",\"wide\",\"motivational\",\"elite\",\"wanna\",\"unity\",\"cough\",\"connecting\",\"mystery\",\"kim\",\"syrian\",\"voldemort\",\"responsibilities\",\"molecules\",\"boobs\",\"holidays\",\"tutorial\",\"circumstances\",\"fiitjee\",\"islands\",\"bypass\",\"slowly\",\"mixture\",\"aluminum\",\"salesforce\",\"twin\",\"iot\",\"remedy\",\"sheets\",\"pole\",\"hated\",\"females\",\"protected\",\"irs\",\"insecure\",\"entering\",\"neuroscience\",\"offices\",\"delta\",\"suggestion\",\"snapdeal\",\"backstory\",\"periodic\",\"cancelled\",\"mans\",\"complicated\",\"bitsat\",\"pleasure\",\"loop\",\"dropbox\",\"selfish\",\"nude\",\"20000\",\"voter\",\"variables\",\"victory\",\"closest\",\"compensation\",\"extended\",\"locations\",\"cracked\",\"perks\",\"ended\",\"exit\",\"awareness\",\"pakistanis\",\"ebooks\",\"bull\",\"unblock\",\"100000\",\"entrepreneurship\",\"infrastructure\",\"scotland\",\"guest\",\"attacked\",\"hurting\",\"lion\",\"reject\",\"purposes\",\"knife\",\"thai\",\"ipl\",\"knee\",\"accepting\",\"spent\",\"punjabi\",\"tab\",\"quoras\",\"caffeine\",\"athletes\",\"ink\",\"cooked\",\"improving\",\"invaded\",\"allah\",\"thermodynamics\",\"mortgage\",\"firsttime\",\"achievements\",\"issued\",\"breath\",\"award\",\"llc\",\"legends\",\"mood\",\"influenced\",\"proteins\",\"holy\",\"performed\",\"pee\",\"blocks\",\"molecule\",\"interests\",\"imei\",\"requires\",\"cisco\",\"moves\",\"marrying\",\"mca\",\"perfectly\",\"iisc\",\"corporation\",\"shiva\",\"viruses\",\"difficulty\",\"50000\",\"volte\",\"shampoo\",\"secular\",\"transplant\",\"ghz\",\"ahead\",\"crew\",\"interact\",\"depend\",\"hawaii\",\"hiv\",\"evening\",\"vegetable\",\"revenge\",\"suppose\",\"busy\",\"label\",\"rogue\",\"rational\",\"hillstation\",\"brains\",\"urdu\",\"imagine\",\"salaries\",\"survey\",\"g4\",\"butt\",\"manufacturers\",\"saas\",\"residency\",\"recommendation\",\"purple\",\"fault\",\"aadhar\",\"aging\",\"bhopal\",\"conducted\",\"loses\",\"infection\",\"forest\",\"impacts\",\"collection\",\"fridge\",\"diamond\",\"mis\",\"recorded\",\"march\",\"conditioner\",\"signature\",\"listed\",\"branches\",\"manchester\",\"wanting\",\"perception\",\"absolutely\",\"servers\",\"soluble\",\"swami\",\"lumia\",\"directors\",\"52\",\"2008\",\"gaining\",\"stereotypes\",\"homes\",\"vegas\",\"jam\",\"behave\",\"relatively\",\"forum\",\"ib\",\"earphones\",\"facilities\",\"april\",\"finally\",\"tail\",\"capacitor\",\"tiger\",\"deaf\",\"deliver\",\"django\",\"expand\",\"skip\",\"nearly\",\"maybe\",\"task\",\"gateway\",\"strangest\",\"abstract\",\"adding\",\"suck\",\"tim\",\"printed\",\"sigma\",\"immigrate\",\"decline\",\"arrested\",\"95\",\"narcissistic\",\"freelancing\",\"patterns\",\"expired\",\"casual\",\"tablets\",\"patients\",\"lean\",\"pieces\",\"laymans\",\"whatever\",\"polish\",\"lemon\",\"abortion\",\"i3\",\"theorem\",\"h\",\"compulsory\",\"helped\",\"sons\",\"feminism\",\"compiler\",\"tested\",\"enhance\",\"adhd\",\"manhattan\",\"iii\",\"nail\",\"eee\",\"deals\",\"excellent\",\"ipo\",\"folder\",\"sand\",\"continuous\",\"capable\",\"libraries\",\"aggregate\",\"64\",\"bsnl\",\"profiles\",\"spirit\",\"pulled\",\"owns\",\"deloitte\",\"therapist\",\"acts\",\"millions\",\"authors\",\"marathi\",\"dvd\",\"coconut\",\"swiss\",\"interaction\",\"ncr\",\"kannada\",\"smallest\",\"advisable\",\"smartest\",\"sorry\",\"normally\",\"ends\",\"rome\",\"spectrum\",\"cousin\",\"75\",\"suzuki\",\"nights\",\"cap\",\"enable\",\"counselling\",\"proxy\",\"margin\",\"shops\",\"hackers\",\"tatkal\",\"opened\",\"cinema\",\"consumption\",\"coal\",\"silent\",\"choosing\",\"introduction\",\"electromagnetic\",\"hcl\",\"complaint\",\"puppies\",\"vc\",\"symbols\",\"lenses\",\"username\",\"arrow\",\"adopted\",\"affects\",\"sudden\",\"pcm\",\"gel\",\"affair\",\"pinterest\",\"statements\",\"supplements\",\"justified\",\"turns\",\"santa\",\"shoe\",\"trek\",\"headphone\",\"girlfriends\",\"verizon\",\"rocket\",\"conference\",\"ego\",\"srm\",\"afghanistan\",\"nucleus\",\"generated\",\"chinas\",\"ww1\",\"consultancy\",\"socially\",\"allen\",\"berkeley\",\"missed\",\"crying\",\"introduced\",\"ps3\",\"flour\",\"brought\",\"elder\",\"minecraft\",\"9th\",\"freelancer\",\"circles\",\"scars\",\"entertainment\",\"turbine\",\"deeply\",\"rom\",\"evolved\",\"nato\",\"strengths\",\"ide\",\"tweets\",\"scholarships\",\"mentor\",\"collect\",\"hdfc\",\"mandarin\",\"solo\",\"terrible\",\"influential\",\"professionals\",\"65\",\"recognition\",\"nvidia\",\"cia\",\"designs\",\"10k\",\"creation\",\"tom\",\"rated\",\"introverts\",\"boiling\",\"communism\",\"treaty\",\"whereas\",\"thanks\",\"cigarette\",\"bengaluru\",\"oneplus\",\"reserve\",\"advertise\",\"nits\",\"helping\",\"bruce\",\"mp3\",\"severe\",\"proposal\",\"cultures\",\"tap\",\"animated\",\"planes\",\"hall\",\"cognitive\",\"supports\",\"keys\",\"gotten\",\"feedback\",\"recording\",\"proceed\",\"membership\",\"console\",\"overseas\",\"hows\",\"william\",\"billionaires\",\"updated\",\"pre\",\"organizations\",\"messi\",\"unexpected\",\"nitrogen\",\"hungry\",\"nigeria\",\"sync\",\"arduino\",\"gross\",\"outer\",\"searching\",\"workers\",\"outlook\",\"europeans\",\"founder\",\"lectures\",\"legitimate\",\"camp\",\"ordinary\",\"investments\",\"bone\",\"raising\",\"quite\",\"ages\",\"joint\",\"johnson\",\"destination\",\"concerned\",\"belief\",\"refrigerator\",\"implications\",\"manga\",\"mandatory\",\"obamas\",\"lawyers\",\"bedroom\",\"icon\",\"qualifications\",\"qa\",\"bikes\",\"boston\",\"holding\",\"session\",\"appointment\",\"weaknesses\",\"iphones\",\"motorcycle\",\"schizophrenia\",\"5th\",\"intellectual\",\"eaten\",\"attending\",\"medals\",\"adsense\",\"nda\",\"6th\",\"kali\",\"georgia\",\"wechat\",\"earlier\",\"drone\",\"truck\",\"horse\",\"merchant\",\"torque\",\"seed\",\"backend\",\"holmes\",\"graduating\",\"400\",\"bones\",\"sufficient\",\"participate\",\"rifle\",\"shock\",\"downloaded\",\"earthquake\",\"breasts\",\"secretary\",\"insert\",\"damaged\",\"massive\",\"standing\",\"remainder\",\"programme\",\"holocaust\",\"totally\",\"belt\",\"affairs\",\"nokia\",\"mechanism\",\"pin\",\"scan\",\"fought\",\"superpower\",\"poetry\",\"signals\",\"educated\",\"scariest\",\"trains\",\"closer\",\"weapon\",\"icici\",\"serial\",\"bicycle\",\"terminal\",\"finished\",\"stolen\",\"inspiring\",\"cuisine\",\"spark\",\"sounds\",\"pricing\",\"click\",\"underwear\",\"kidney\",\"bengal\",\"invention\",\"discount\",\"chase\",\"evaluate\",\"distributed\",\"themes\",\"amd\",\"stem\",\"st\",\"genre\",\"vegetables\",\"council\",\"bihar\",\"thick\",\"mouse\",\"worry\",\"newly\",\"updates\",\"candy\",\"prepaid\",\"wet\",\"rap\",\"motors\",\"implemented\",\"theoretical\",\"fabric\",\"mexican\",\"portfolio\",\"technique\",\"icse\",\"expansion\",\"evolutionary\",\"justify\",\"trick\",\"attached\",\"lightning\",\"pitch\",\"armed\",\"einstein\",\"conversion\",\"iitjee\",\"declared\",\"admit\",\"acquisition\",\"innovation\",\"runs\",\"wwe\",\"trial\",\"memories\",\"refuse\",\"netherlands\",\"committed\",\"fraud\",\"jailbreak\",\"settle\",\"badly\",\"approved\",\"eligibility\",\"trend\",\"increases\",\"comic\",\"quorans\",\"cellular\",\"matches\",\"receiving\",\"bmw\",\"vlsi\",\"signed\",\"lakes\",\"350\",\"communications\",\"pork\",\"joined\",\"anyway\",\"differentiate\",\"actresses\",\"29\",\"ethics\",\"premier\",\"hearing\",\"vehicles\",\"drama\",\"instant\",\"lips\",\"dates\",\"july\",\"holiday\",\"coach\",\"malayalam\",\"superior\",\"soviet\",\"plate\",\"throw\",\"worship\",\"bars\",\"sharma\",\"mothers\",\"integrated\",\"clubs\",\"bug\",\"melbourne\",\"co\",\"bisexual\",\"regions\",\"lesson\",\"heads\",\"reader\",\"snake\",\"qualify\",\"paul\",\"causing\",\"disappear\",\"era\",\"lets\",\"qualified\",\"spiritual\",\"wolf\",\"requirement\",\"journalism\",\"studied\",\"lowest\",\"vader\",\"coursera\",\"stark\",\"configuration\",\"verbal\",\"undergrad\",\"dimensions\",\"transition\",\"efficiently\",\"interstellar\",\"locked\",\"summary\",\"chandigarh\",\"ghosts\",\"included\",\"operate\",\"dimension\",\"mount\",\"noticed\",\"rating\",\"somewhere\",\"martin\",\"bra\",\"bird\",\"zuckerberg\",\"sensor\",\"audience\",\"dirty\",\"starbucks\",\"permission\",\"residential\",\"wholesale\",\"assets\",\"clearly\",\"km\",\"invade\",\"ipcc\",\"fb\",\"shell\",\"shave\",\"loud\",\"tip\",\"seeds\",\"sets\",\"polar\",\"although\",\"june\",\"judaism\",\"anti\",\"instrument\",\"seven\",\"shooting\",\"j\",\"portal\",\"tower\",\"github\",\"linked\",\"admitted\",\"punishment\",\"mid\",\"micro\",\"cured\",\"lifestyle\",\"nor\",\"upset\",\"challenge\",\"soap\",\"standards\",\"integration\",\"lottery\",\"lab\",\"williams\",\"odd\",\"soil\",\"sensitive\",\"route\",\"tattoos\",\"coin\",\"declare\",\"frame\",\"differential\",\"bowl\",\"softwares\",\"notifications\",\"maintenance\",\"inner\",\"apples\",\"converted\",\"recruiter\",\"bombay\",\"command\",\"posting\",\"controlled\",\"balls\",\"personally\",\"poker\",\"extract\",\"hired\",\"bugs\",\"providers\",\"loans\",\"calculator\",\"attractions\",\"torrents\",\"keywords\",\"profession\",\"blogging\",\"transport\",\"sue\",\"anonymously\",\"compounds\",\"robot\",\"buddhism\",\"sweet\",\"defense\",\"nobody\",\"uc\",\"defined\",\"division\",\"bags\",\"epic\",\"unhealthy\",\"craziest\",\"urban\",\"combination\",\"pair\",\"laugh\",\"cv\",\"usd\",\"launched\",\"usps\",\"visited\",\"nexus\",\"regularly\",\"brothers\",\"broker\",\"concentrate\",\"agreement\",\"nervous\",\"frozen\",\"detail\",\"sir\",\"situations\",\"borderline\",\"angularjs\",\"abusive\",\"tourism\",\"relate\",\"august\",\"communist\",\"accountant\",\"dumb\",\"arab\",\"b2b\",\"du\",\"thermal\",\"asians\",\"threat\",\"karma\",\"passive\",\"homosexuality\",\"putting\",\"quantitative\",\"relativity\",\"sanskrit\",\"opinions\",\"verify\",\"bear\",\"roll\",\"expanding\",\"teenage\",\"jeans\",\"providing\",\"shared\",\"extreme\",\"mi\",\"vr\",\"progress\",\"greece\",\"cpu\",\"ips\",\"merge\",\"reputation\",\"loving\",\"salman\",\"iss\",\"warm\",\"dental\",\"extension\",\"attraction\",\"fictional\",\"journal\",\"login\",\"secondary\",\"recognize\",\"southern\",\"ph\",\"lunch\",\"wallet\",\"ronaldo\",\"larger\",\"actions\",\"fathers\",\"adopt\",\"claims\",\"bottom\",\"therapy\",\"patient\",\"described\",\"virginity\",\"functional\",\"ionic\",\"chartered\",\"discover\",\"55\",\"21st\",\"biased\",\"mad\",\"northern\",\"onto\",\"liberals\",\"premium\",\"neutral\",\"detect\",\"diagram\",\"sperm\",\"ga\",\"bleach\",\"spread\",\"contributions\",\"activate\",\"prior\",\"safest\",\"holder\",\"360\",\"aim\",\"rental\",\"families\",\"everybody\",\"shut\",\"payments\",\"150\",\"cube\",\"vegan\",\"newspaper\",\"beef\",\"houses\",\"preferred\",\"simultaneously\",\"marked\",\"reactions\",\"emergency\",\"protection\",\"cab\",\"forex\",\"norway\",\"immigrants\",\"googles\",\"ssb\",\"wing\",\"yrs\",\"ensure\",\"spy\",\"reasoning\",\"strange\",\"forgive\",\"turkish\",\"tag\",\"ranking\",\"platforms\",\"fox\",\"existed\",\"walmart\",\"lazy\",\"ears\",\"clock\",\"beam\",\"rare\",\"bush\",\"2011\",\"stops\",\"batteries\",\"certified\",\"naked\",\"worldwide\",\"staying\",\"lifetime\",\"ted\",\"lake\",\"wealthy\",\"transit\",\"stephen\",\"rural\",\"versa\",\"pets\",\"commonly\",\"adults\",\"ultimate\",\"genius\",\"vinegar\",\"allows\",\"aid\",\"retirement\",\"airtel\",\"sciences\",\"mountain\",\"drinks\",\"tour\",\"wind\",\"seattle\",\"disabled\",\"bodies\",\"lesbian\",\"governments\",\"kinetic\",\"tumblr\",\"absolute\",\"author\",\"toilet\",\"whey\",\"sleepy\",\"molecular\",\"watches\",\"inventions\",\"rain\",\"34\",\"angular\",\"o\",\"dish\",\"however\",\"agents\",\"abs\",\"switzerland\",\"transformer\",\"clearing\",\"consciousness\",\"broadband\",\"uae\",\"automatic\",\"opposed\",\"geography\",\"astronauts\",\"decisions\",\"cement\",\"induction\",\"luxury\",\"upvotes\",\"politicians\",\"posted\",\"toefl\",\"kitchen\",\"noise\",\"radius\",\"dye\",\"miles\",\"risks\",\"scientifically\",\"mnc\",\"propose\",\"prepared\",\"iiit\",\"mention\",\"equipment\",\"darth\",\"january\",\"surname\",\"raised\",\"attitude\",\"gta\",\"david\",\"hike\",\"awkward\",\"proven\",\"productive\",\"lg\",\"filled\",\"atmosphere\",\"lee\",\"irctc\",\"addicted\",\"dynamic\",\"employment\",\"weekend\",\"replacement\",\"singing\",\"owners\",\"bipolar\",\"tomorrow\",\"poems\",\"default\",\"kvpy\",\"sauce\",\"competitors\",\"russians\",\"sample\",\"crimes\",\"hang\",\"inspired\",\"furniture\",\"throughout\",\"presence\",\"efficiency\",\"leg\",\"biological\",\"pilani\",\"conversations\",\"inspirational\",\"bachelor\",\"centers\",\"withdraw\",\"fundamental\",\"comparison\",\"november\",\"fifa\",\"penalty\",\"algebra\",\"joke\",\"htc\",\"pilots\",\"collapse\",\"texts\",\"vocabulary\",\"moved\",\"sc\",\"smile\",\"october\",\"dot\",\"genetic\",\"architect\",\"url\",\"51\",\"sore\",\"uniform\",\"re\",\"rails\",\"smaller\",\"marine\",\"terrorists\",\"nazi\",\"breast\",\"politician\",\"subtitles\",\"chosen\",\"egypt\",\"thin\",\"packages\",\"editor\",\"bands\",\"mythology\",\"reasonable\",\"permit\",\"acceptable\",\"seriously\",\"iraq\",\"fever\",\"visitor\",\"honest\",\"friction\",\"offering\",\"smarter\",\"ahmedabad\",\"replaced\",\"resolution\",\"burning\",\"bridge\",\"catholic\",\"calendar\",\"resident\",\"policies\",\"forced\",\"leading\",\"arm\",\"deserve\",\"context\",\"coolest\",\"arranged\",\"arizona\",\"comics\",\"harm\",\"democrats\",\"jail\",\"breed\",\"anywhere\",\"psu\",\"christ\",\"violence\",\"agriculture\",\"objective\",\"moments\",\"infinity\",\"supporting\",\"critical\",\"trees\",\"beyond\",\"bag\",\"vitamin\",\"assembly\",\"solved\",\"array\",\"perspective\",\"pas\",\"wwii\",\"skinny\",\"contains\",\"lift\",\"cleaning\",\"peter\",\"aap\",\"pimples\",\"initial\",\"lesserknown\",\"sights\",\"principles\",\"realize\",\"millionaire\",\"faux\",\"orbit\",\"desire\",\"hi\",\"prophet\",\"suits\",\"careers\",\"thinks\",\"quantity\",\"spots\",\"wage\",\"asleep\",\"sociology\",\"guard\",\"units\",\"structural\",\"operation\",\"pants\",\"w\",\"bulk\",\"possibly\",\"drunk\",\"fired\",\"accident\",\"inch\",\"bottle\",\"aerospace\",\"narcissist\",\"ux\",\"angeles\",\"wood\",\"index\",\"safely\",\"robotics\",\"edition\",\"metals\",\"practices\",\"scheme\",\"interior\",\"diabetes\",\"nobel\",\"youth\",\"lived\",\"september\",\"chief\",\"proposed\",\"assuming\",\"sin\",\"counter\",\"disable\",\"introduce\",\"restore\",\"swimming\",\"intern\",\"answering\",\"mentioned\",\"crash\",\"laser\",\"teenagers\",\"presentation\",\"quran\",\"classified\",\"demonetisation\",\"communicate\",\"cotton\",\"autism\",\"anger\",\"environmental\",\"stable\",\"7th\",\"bread\",\"invited\",\"wisdom\",\"wrote\",\"widely\",\"minor\",\"formal\",\"dreaming\",\"managers\",\"escape\",\"pollution\",\"taiwan\",\"verification\",\"los\",\"figures\",\"26\",\"illness\",\"sides\",\"compatible\",\"pack\",\"conspiracy\",\"hedge\",\"flights\",\"dropped\",\"former\",\"suffer\",\"aware\",\"designers\",\"mahabharata\",\"evolve\",\"weigh\",\"dies\",\"fruits\",\"cc\",\"butter\",\"sharing\",\"atoms\",\"tongue\",\"transaction\",\"poverty\",\"suffering\",\"presidents\",\"resistance\",\"adam\",\"civilization\",\"mining\",\"toronto\",\"stick\",\"increased\",\"wild\",\"freelance\",\"removal\",\"aws\",\"rio\",\"principle\",\"asus\",\"cute\",\"consumer\",\"pool\",\"variable\",\"tutorials\",\"advance\",\"keeping\",\"visible\",\"cognizant\",\"equations\",\"rooms\",\"krishna\",\"printer\",\"tooth\",\"mentally\",\"realistic\",\"automobile\",\"cake\",\"tie\",\"beach\",\"ghost\",\"comfortable\",\"mysql\",\"oral\",\"closed\",\"helps\",\"maharashtra\",\"admissions\",\"i5\",\"partners\",\"axis\",\"beliefs\",\"neck\",\"clans\",\"hidden\",\"cyber\",\"voting\",\"bacteria\",\"layer\",\"chhattisgarh\",\"5000\",\"sitting\",\"murder\",\"argument\",\"f\",\"privacy\",\"syndrome\",\"2010\",\"bite\",\"vacation\",\"isro\",\"trouble\",\"records\",\"answered\",\"digit\",\"defeat\",\"childhood\",\"5s\",\"gates\",\"f1\",\"town\",\"anal\",\"copper\",\"talks\",\"affiliate\",\"sociopath\",\"installed\",\"static\",\"copyright\",\"animation\",\"donate\",\"stranger\",\"bcom\",\"destroyed\",\"gujarat\",\"foundation\",\"prize\",\"components\",\"foreigner\",\"arms\",\"unlimited\",\"needing\",\"settings\",\"item\",\"eve\",\"competition\",\"landing\",\"beard\",\"patent\",\"ending\",\"2020\",\"incident\",\"petroleum\",\"florida\",\"particularly\",\"ups\",\"generator\",\"leather\",\"heal\",\"experiment\",\"28\",\"passing\",\"talent\",\"remote\",\"300\",\"published\",\"impossible\",\"steam\",\"80\",\"washing\",\"guilty\",\"punjab\",\"70\",\"album\",\"bullet\",\"paris\",\"interface\",\"agencies\",\"mission\",\"digits\",\"modis\",\"recruitment\",\"manipal\",\"telling\",\"meal\",\"orange\",\"stone\",\"links\",\"ab\",\"upper\",\"cameras\",\"p\",\"combat\",\"passion\",\"shower\",\"thailand\",\"beings\",\"grad\",\"27\",\"finger\",\"jump\",\"lights\",\"ui\",\"bba\",\"sweden\",\"arrive\",\"4th\",\"amendment\",\"window\",\"satellite\",\"al\",\"matlab\",\"jokes\",\"muhammad\",\"expression\",\"booking\",\"dinner\",\"skype\",\"lots\",\"2018\",\"teen\",\"finish\",\"dslr\",\"mens\",\"proud\",\"entrepreneurs\",\"ukraine\",\"coins\",\"scenario\",\"transmission\",\"ignore\",\"pride\",\"contribute\",\"grand\",\"curve\",\"false\",\"operations\",\"breakup\",\"eventually\",\"acquire\",\"commission\",\"lies\",\"spoken\",\"pills\",\"masturbating\",\"jackson\",\"airbnb\",\"delivered\",\"disk\",\"radiation\",\"plays\",\"marvel\",\"particle\",\"breakfast\",\"smartphones\",\"relevant\",\"quota\",\"refund\",\"inches\",\"telugu\",\"angel\",\"eastern\",\"inflation\",\"predict\",\"annoying\",\"obc\",\"tough\",\"conduct\",\"originate\",\"notification\",\"backup\",\"harder\",\"richest\",\"pronounce\",\"sri\",\"wheel\",\"wasnt\",\"oldest\",\"sheet\",\"soda\",\"20s\",\"wipro\",\"awesome\",\"facial\",\"z\",\"noida\",\"confident\",\"fbi\",\"corrupt\",\"succeed\",\"reddit\",\"associate\",\"input\",\"guns\",\"rahul\",\"baking\",\"description\",\"musical\",\"apache\",\"nowadays\",\"fluid\",\"capacity\",\"loose\",\"freshman\",\"cfa\",\"optional\",\"theres\",\"ps4\",\"trends\",\"jon\",\"richard\",\"legit\",\"nodejs\",\"document\",\"sexually\",\"particles\",\"singer\",\"printing\",\"captain\",\"valuable\",\"several\",\"aiims\",\"boot\",\"sit\",\"zone\",\"billionaire\",\"floor\",\"gravitational\",\"export\",\"motivation\",\"golden\",\"transgender\",\"healthcare\",\"heaven\",\"81\",\"leaves\",\"listening\",\"overall\",\"press\",\"dishes\",\"railways\",\"warming\",\"enfield\",\"extent\",\"acceleration\",\"afford\",\"bonds\",\"border\",\"registration\",\"cast\",\"hope\",\"shipping\",\"karnataka\",\"specifically\",\"opportunity\",\"arabia\",\"pump\",\"pg\",\"carrier\",\"plot\",\"kingdom\",\"contract\",\"painful\",\"kindle\",\"boring\",\"essential\",\"disney\",\"charger\",\"seconds\",\"measured\",\"honda\",\"ba\",\"makeup\",\"\\u2013\",\"mini\",\"annual\",\"traits\",\"retrieve\",\"willing\",\"swift\",\"consume\",\"hindus\",\"psychopath\",\"tells\",\"solving\",\"conditions\",\"artists\",\"spotify\",\"bomb\",\"integrate\",\"stuck\",\"nikon\",\"gadgets\",\"womens\",\"judge\",\"republicans\",\"vacuum\",\"felt\",\"putin\",\"tennis\",\"concentration\",\"fans\",\"constantly\",\"matrix\",\"secrets\",\"spot\",\"soft\",\"stored\",\"neural\",\"submit\",\"scores\",\"ola\",\"wire\",\"gdp\",\"jaipur\",\"typically\",\"airline\",\"roles\",\"cheaper\",\"machines\",\"shift\",\"impress\",\"basics\",\"32\",\"conservative\",\"birds\",\"tend\",\"duty\",\"setup\",\"rude\",\"pink\",\"church\",\"mine\",\"jack\",\"sending\",\"cooking\",\"versus\",\"expert\",\"olympic\",\"biotechnology\",\"gurgaon\",\"worked\",\"codes\",\"successfully\",\"hardware\",\"faith\",\"pr\",\"television\",\"compound\",\"vit\",\"universal\",\"thank\",\"grammatically\",\"chicago\",\"ivy\",\"worried\",\"enterprise\",\"sodium\",\"railway\",\"remedies\",\"racism\",\"tracking\",\"psychological\",\"apartment\",\"magazine\",\"martial\",\"beauty\",\"waiting\",\"attacks\",\"horror\",\"fantasy\",\"ma\",\"select\",\"increasing\",\"metro\",\"opt\",\"map\",\"watched\",\"gear\",\"icloud\",\"james\",\"comedy\",\"lollipop\",\"ireland\",\"upcoming\",\"italian\",\"oven\",\"emotionally\",\"decided\",\"lakh\",\"grey\",\"kept\",\"produced\",\"mouth\",\"manual\",\"dhoni\",\"fill\",\"throat\",\"shoot\",\"liked\",\"innovative\",\"immediately\",\"lonely\",\"fighting\",\"max\",\"accidentally\",\"schedule\",\"orgasm\",\"rape\",\"ride\",\"muscles\",\"graduates\",\"taller\",\"boost\",\"lakhs\",\"microwave\",\"electrons\",\"upon\",\"attract\",\"ap\",\"abuse\",\"earths\",\"forever\",\"underrated\",\"facing\",\"terrorist\",\"alien\",\"celebrity\",\"frequently\",\"vpn\",\"wales\",\"powder\",\"superman\",\"mixed\",\"caught\",\"goods\",\"beginning\",\"starts\",\"atomic\",\"associated\",\"triangle\",\"parties\",\"banning\",\"k\",\"honey\",\"monitor\",\"graph\",\"leaders\",\"embedded\",\"juice\",\"split\",\"lady\",\"sequence\",\"911\",\"harassment\",\"nepal\",\"pop\",\"habit\",\"setting\",\"edge\",\"ww2\",\"gps\",\"federal\",\"charged\",\"lying\",\"empty\",\"whenever\",\"airplane\",\"jet\",\"destroy\",\"ies\",\"wouldnt\",\"quick\",\"decrease\",\"robert\",\"pradesh\",\"professors\",\"massage\",\"held\",\"spending\",\"markets\",\"objects\",\"chart\",\"mechanics\",\"silver\",\"usage\",\"basketball\",\"gen\",\"periods\",\"identity\",\"individuals\",\"css\",\"soul\",\"ipod\",\"chest\",\"understanding\",\"coast\",\"classic\",\"spain\",\"babies\",\"sd\",\"hostel\",\"shirt\",\"further\",\"logical\",\"franchise\",\"obtain\",\"foreigners\",\"fully\",\"region\",\"designed\",\"cheated\",\"beneficial\",\"shes\",\"accent\",\"couldnt\",\"queen\",\"sick\",\"blowing\",\"properly\",\"stronger\",\"returns\",\"condition\",\"musk\",\"ugly\",\"teams\",\"filter\",\"snow\",\"glasses\",\"employer\",\"solid\",\"followed\",\"embarrassing\",\"auto\",\"meeting\",\"belong\",\"strike\",\"internships\",\"bachelors\",\"administration\",\"temple\",\"wealth\",\"retail\",\"speakers\",\"electoral\",\"headphones\",\"streaming\",\"mirror\",\"diesel\",\"republic\",\"antivirus\",\"customers\",\"atm\",\"vagina\",\"cigarettes\",\"aptitude\",\"lewis\",\"saudi\",\"puppy\",\"recovery\",\"jimmy\",\"obsessed\",\"domestic\",\"pen\",\"batch\",\"de\",\"drawing\",\"ai\",\"medium\",\"simply\",\"photoshop\",\"sms\",\"turning\",\"nadu\",\"appropriate\",\"adobe\",\"substitute\",\"fruit\",\"recipes\",\"fighter\",\"saving\",\"greater\",\"cheat\",\"routine\",\"push\",\"sherlock\",\"arguments\",\"sony\",\"import\",\"soldiers\",\"charges\",\"emotions\",\"ibm\",\"un\",\"innovations\",\"itunes\",\"consultant\",\"iims\",\"relations\",\"psychopaths\",\"existing\",\"angle\",\"clash\",\"bus\",\"australian\",\"crazy\",\"pull\",\"theories\",\"savings\",\"suit\",\"contrast\",\"calculus\",\"pi\",\"credits\",\"bluetooth\",\"himself\",\"traveling\",\"criminal\",\"xiaomi\",\"zealand\",\"seats\",\"electron\",\"script\",\"11th\",\"lessons\",\"programmers\",\"december\",\"flag\",\"singh\",\"arabic\",\"sale\",\"nfl\",\"grammar\",\"killing\",\"virgin\",\"differently\",\"poem\",\"provided\",\"automation\",\"shy\",\"translation\",\"mathematical\",\"45\",\"celebrities\",\"spring\",\"downloading\",\"dr\",\"organization\",\"majority\",\"clients\",\"hd\",\"motivate\",\"thats\",\"thesis\",\"door\",\"weakest\",\"saw\",\"canon\",\"younger\",\"costs\",\"river\",\"rings\",\"factory\",\"decent\",\"clintons\",\"holes\",\"desert\",\"divorce\",\"sold\",\"cheese\",\"atom\",\"taught\",\"minute\",\"ocean\",\"crisis\",\"represent\",\"surgical\",\"parent\",\"brexit\",\"possibility\",\"longest\",\"edit\",\"scholarship\",\"motivated\",\"chocolate\",\"faced\",\"90\",\"parallel\",\"foot\",\"examination\",\"friendly\",\"kinds\",\"wins\",\"islamic\",\"degrees\",\"registered\",\"distribution\",\"junior\",\"gave\",\"sing\",\"articles\",\"hadoop\",\"saved\",\"hero\",\"ear\",\"asks\",\"improved\",\"teenager\",\"forms\",\"wash\",\"provides\",\"washington\",\"strikes\",\"binary\",\"syria\",\"indonesia\",\"powers\",\"highly\",\"heshe\",\"happiness\",\"director\",\"citizenship\",\"knew\",\"humanity\",\"translate\",\"nba\",\"permanently\",\"soccer\",\"todays\",\"challenges\",\"barack\",\"title\",\"latin\",\"fitness\",\"genuine\",\"investor\",\"dislike\",\"scenes\",\"hacker\",\"bangladesh\",\"ebay\",\"earning\",\"dell\",\"paytm\",\"spouse\",\"bored\",\"roman\",\"official\",\"dragon\",\"park\",\"except\",\"habits\",\"quote\",\"astrology\",\"congress\",\"automatically\",\"island\",\"religions\",\"christianity\",\"supreme\",\"owner\",\"hell\",\"wikipedia\",\"cancel\",\"industries\",\"actress\",\"client\",\"visual\",\"michael\",\"remain\",\"ability\",\"concrete\",\"conflict\",\"string\",\"linear\",\"supposed\",\"engines\",\"2012\",\"\\u2018\",\"lesser\",\"traditional\",\"episodes\",\"goals\",\"tata\",\"opening\",\"target\",\"weak\",\"anonymous\",\"bjp\",\"resource\",\"concepts\",\"ruby\",\"friendship\",\"nyc\",\"pretty\",\"implement\",\"painting\",\"ill\",\"agency\",\"reverse\",\"confused\",\"italy\",\"response\",\"yellow\",\"dance\",\"contain\",\"vice\",\"editing\",\"acting\",\"weirdest\",\"feels\",\"govt\",\"accounting\",\"rise\",\"wise\",\"leaving\",\"lens\",\"artist\",\"arvind\",\"pattern\",\"scared\",\"attention\",\"airlines\",\"sky\",\"malaysia\",\"port\",\"attempt\",\"element\",\"classical\",\"shown\",\"safety\",\"including\",\"tablet\",\"la\",\"terrorism\",\"commit\",\"maps\",\"african\",\"viewed\",\"calling\",\"6s\",\"agent\",\"output\",\"justice\",\"don\",\"addiction\",\"lock\",\"vegetarian\",\"britain\",\"percent\",\"meditation\",\"ibps\",\"monthly\",\"writers\",\"forward\",\"stuff\",\"mr\",\"ready\",\"forgot\",\"flying\",\"recommended\",\"fields\",\"blind\",\"l\",\"hinduism\",\"desktop\",\"host\",\"tattoo\",\"maintain\",\"boards\",\"helpful\",\"semester\",\"load\",\"tier\",\"agree\",\"factor\",\"elon\",\"freshers\",\"sql\",\"cases\",\"exact\",\"confidence\",\"behavior\",\"hacked\",\"quotes\",\"hydrogen\",\"pakistani\",\"masturbate\",\"divided\",\"skill\",\"fine\",\"falling\",\"chess\",\"charging\",\"pages\",\"vector\",\"supporters\",\"waste\",\"sanders\",\"affordable\",\"unlock\",\"techniques\",\"wine\",\"keyboard\",\"cm\",\"wireless\",\"lawyer\",\"egg\",\"cope\",\"mindblowing\",\"recipe\",\"corruption\",\"scored\",\"secure\",\"teaching\",\"opposite\",\"educational\",\"bernie\",\"y\",\"library\",\"models\",\"kid\",\"stack\",\"separate\",\"19\",\"extremely\",\"properties\",\"cable\",\"magic\",\"removed\",\"computing\",\"hospital\",\"beer\",\"christians\",\"twice\",\"kg\",\"consulting\",\"whose\",\"serious\",\"petrol\",\"travelling\",\"revolution\",\"custom\",\"structures\",\"guide\",\"celebrate\",\"lenovo\",\"turned\",\"ielts\",\"grades\",\"fuel\",\"relative\",\"oracle\",\"academy\",\"lack\",\"passed\",\"relation\",\"values\",\"movement\",\"strategies\",\"eu\",\"emotional\",\"legs\",\"pokemon\",\"3g\",\"iran\",\"mostly\",\"jewish\",\"offered\",\"log\",\"hasnt\",\"explanation\",\"signal\",\"stores\",\"syllabus\",\"bits\",\"yoga\",\"weapons\",\"gods\",\"10000\",\"delivery\",\"gb\",\"sum\",\"letters\",\"venture\",\"selection\",\"winning\",\"35\",\"comment\",\"consequences\",\"sport\",\"items\",\"seems\",\"ring\",\"jealous\",\"laptops\",\"criteria\",\"fresh\",\"reference\",\"bitcoin\",\"infinite\",\"perform\",\"brazil\",\"density\",\"plans\",\"hosting\",\"clothing\",\"hong\",\"dying\",\"heavy\",\"steve\",\"gone\",\"damage\",\"missing\",\"ethical\",\"republican\",\"contacts\",\"activity\",\"electronic\",\"qualities\",\"piano\",\"hisher\",\"repair\",\"posts\",\"disease\",\"winter\",\"ten\",\"publish\",\"paint\",\"physically\",\"executive\",\"deposit\",\"elements\",\"xbox\",\"ceo\",\"visitors\",\"discovered\",\"tickets\",\"literature\",\"primary\",\"naturally\",\"senior\",\"u\",\"hardest\",\"debate\",\"frequency\",\"vietnam\",\"cry\",\"assistant\",\"gifts\",\"practical\",\"funny\",\"valid\",\"liberal\",\"refer\",\"beat\",\"shape\",\"institutes\",\"msc\",\"internal\",\"located\",\"significant\",\"scientists\",\"g\",\"ship\",\"proper\",\"independence\",\"added\",\"hes\",\"catch\",\"urine\",\"effectively\",\"named\",\"responsible\",\"strength\",\"whos\",\"immigration\",\"vehicle\",\"tesla\",\"kong\",\"meth\",\"england\",\"huge\",\"pizza\",\"rejected\",\"george\",\"fan\",\"salt\",\"browser\",\"sat\",\"loved\",\"fees\",\"walking\",\"symbol\",\"equity\",\"ubuntu\",\"alternatives\",\"theme\",\"virus\",\"manufacturing\",\"cutoff\",\"pure\",\"22\",\"introvert\",\"unable\",\"greek\",\"rice\",\"gst\",\"happening\",\"centre\",\"kiss\",\"prison\",\"bigger\",\"font\",\"construction\",\"exercises\",\"keeps\",\"gmat\",\"offers\",\"cross\",\"nasa\",\"unit\",\"advertising\",\"cup\",\"fixed\",\"limited\",\"billion\",\"subjects\",\"arts\",\"worlds\",\"stupid\",\"breaking\",\"funding\",\"tank\",\"generate\",\"efficient\",\"exists\",\"atheist\",\"entrepreneur\",\"direction\",\"broken\",\"offline\",\"firms\",\"station\",\"magnetic\",\"include\",\"aliens\",\"tinder\",\"logo\",\"photography\",\"worse\",\"besides\",\"path\",\"somebody\",\"interviews\",\"persons\",\"figure\",\"placed\",\"nation\",\"knows\",\"unmarried\",\"hp\",\"profitable\",\"tricks\",\"boss\",\"reply\",\"scam\",\"circle\",\"processor\",\"debt\",\"growing\",\"royal\",\"fiction\",\"department\",\"mistake\",\"weird\",\"graphics\",\"external\",\"article\",\"volume\",\"scratch\",\"chain\",\"protect\",\"storage\",\"texas\",\"liquid\",\"circuit\",\"graphic\",\"tired\",\"weather\",\"oxygen\",\"velocity\",\"dad\",\"band\",\"teachers\",\"drugs\",\"complex\",\"studio\",\"accenture\",\"leader\",\"levels\",\"goal\",\"logic\",\"acne\",\"plastic\",\"motion\",\"button\",\"peoples\",\"vision\",\"gap\",\"dollar\",\"computers\",\"stomach\",\"sources\",\"constant\",\"draw\",\"dress\",\"calculated\",\"sort\",\"3rd\",\"club\",\"channels\",\"creating\",\"candidates\",\"kejriwal\",\"broke\",\"sentences\",\"format\",\"emails\",\"raw\",\"stanford\",\"completed\",\"documents\",\"pan\",\"showing\",\"enter\",\"unknown\",\"bought\",\"router\",\"claim\",\"six\",\"technologies\",\"\\u20b9\",\"flipkart\",\"infosys\",\"mutual\",\"angry\",\"iits\",\"affected\",\"prices\",\"shares\",\"naruto\",\"processing\",\"finding\",\"democratic\",\"evolution\",\"harmful\",\"dual\",\"virtual\",\"member\",\"wave\",\"actual\",\"extra\",\"radio\",\"citizens\",\"e\",\"hr\",\"previous\",\"stopped\",\"walk\",\"redmi\",\"speaker\",\"torrent\",\"smoke\",\"mistakes\",\"flash\",\"iron\",\"entire\",\"individual\",\"express\",\"flow\",\"mode\",\"aircraft\",\"section\",\"planets\",\"10th\",\"respond\",\"easier\",\"evil\",\"percentile\",\"seeing\",\"calories\",\"upgrade\",\"professor\",\"v\",\"launch\",\"staff\",\"till\",\"silicon\",\"entry\",\"constitution\",\"century\",\"notice\",\"ie\",\"atheists\",\"tests\",\"21\",\"became\",\"kerala\",\"truly\",\"count\",\"essay\",\"papers\",\"accurate\",\"colors\",\"respect\",\"ideal\",\"rock\",\"reliance\",\"peace\",\"masturbation\",\"audio\",\"random\",\"independent\",\"colour\",\"hotels\",\"presidency\",\"generation\",\"paypal\",\"shot\",\"central\",\"released\",\"occur\",\"display\",\"industrial\",\"particular\",\"risk\",\"eg\",\"belly\",\"pet\",\"similarities\",\"organic\",\"marijuana\",\"networks\",\"aspects\",\"flat\",\"d\",\"comments\",\"nose\",\"identify\",\"rbi\",\"improvement\",\"directly\",\"framework\",\"suggestions\",\"designing\",\"brands\",\"religious\",\"influence\",\"novels\",\"statistics\",\"historical\",\"ground\",\"commerce\",\"pregnancy\",\"romantic\",\"failure\",\"wearing\",\"john\",\"apart\",\"bay\",\"symptoms\",\"200\",\"couple\",\"60\",\"canadian\",\"lie\",\"print\",\"carry\",\"gender\",\"experienced\",\"pounds\",\"reservation\",\"either\",\"stage\",\"artificial\",\"fit\",\"blogs\",\"developing\",\"environment\",\"learned\",\"copy\",\"phase\",\"bond\",\"democracy\",\"cgpa\",\"operating\",\"surface\",\"officers\",\"h1b\",\"ip\",\"workout\",\"fee\",\"elected\",\"hands\",\"largest\",\"sad\",\"shouldnt\",\"seat\",\"sister\",\"developers\",\"despite\",\"scene\",\"po\",\"diploma\",\"request\",\"empire\",\"ratio\",\"considering\",\"academic\",\"tree\",\"register\",\"advantage\",\"eligible\",\"nit\",\"shop\",\"intel\",\"funniest\",\"alternative\",\"fail\",\"ads\",\"nature\",\"miss\",\"involved\",\"overrated\",\"attend\",\"freedom\",\"dna\",\"beginners\",\"raise\",\"dry\",\"failed\",\"legally\",\"batman\",\"upload\",\"carbon\",\"regret\",\"applied\",\"points\",\"investors\",\"pick\",\"equivalent\",\"connected\",\"christmas\",\"lyrics\",\"nations\",\"caused\",\"bsc\",\"1st\",\"action\",\"activities\",\"biology\",\"hide\",\"asia\",\"takes\",\"require\",\"alive\",\"mom\",\"cycle\",\"generally\",\"campaign\",\"fair\",\"wake\",\"bit\",\"rules\",\"olympics\",\"racist\",\"areas\",\"eggs\",\"feature\",\"sap\",\"taxes\",\"ad\",\"shall\",\"theyre\",\"species\",\"pilot\",\"firm\",\"fish\",\"define\",\"doctors\",\"piece\",\"itself\",\"bang\",\"solutions\",\"iim\",\"2013\",\"wanted\",\"length\",\"burn\",\"waves\",\"bar\",\"gives\",\"forces\",\"christian\",\"anybody\",\"relationships\",\"nice\",\"wedding\",\"various\",\"brother\",\"films\",\"cream\",\"suddenly\",\"philippines\",\"fashion\",\"truth\",\"gpa\",\"cgl\",\"tall\",\"goa\",\"hacking\",\"statement\",\"reset\",\"materials\",\"played\",\"match\",\"usb\",\"novel\",\"unusual\",\"knowing\",\"selected\",\"valley\",\"chrome\",\"couples\",\"becomes\",\"died\",\"cheating\",\"community\",\"groups\",\"category\",\"pursuing\",\"writer\",\"mexico\",\"anymore\",\"sugar\",\"climate\",\"brown\",\"players\",\"ii\",\"reviews\",\"took\",\"led\",\"connection\",\"begin\",\"html\",\"changing\",\"received\",\"plants\",\"debit\",\"record\",\"revenue\",\"mars\",\"strongest\",\"members\",\"formed\",\"union\",\"thought\",\"existence\",\"kashmir\",\"gandhi\",\"pdf\",\"banned\",\"0\",\"plane\",\"treated\",\"electricity\",\"scale\",\"basis\",\"moral\",\"images\",\"methods\",\"certification\",\"voltage\",\"style\",\"base\",\"excel\",\"amazing\",\"regarding\",\"result\",\"rates\",\"hold\",\"indias\",\"airport\",\"businesses\",\"feet\",\"built\",\"linkedin\",\"signs\",\"above\",\"networking\",\"r\",\"shopping\",\"looks\",\"went\",\"placements\",\"bed\",\"experiences\",\"daughter\",\"tourist\",\"employee\",\"caste\",\"wait\",\"direct\",\"especially\",\"feed\",\"continue\",\"expected\",\"algorithm\",\"depressed\",\"shoes\",\"soon\",\"supply\",\"stress\",\"24\",\"inr\",\"foods\",\"rent\",\"architecture\",\"ban\",\"entrance\",\"actors\",\"messenger\",\"unique\",\"kolkata\",\"funds\",\"rupee\",\"promote\",\"rupees\",\"jews\",\"23\",\"cook\",\"cultural\",\"accepted\",\"hear\",\"glass\",\"road\",\"joining\",\"measure\",\"havent\",\"metal\",\"resume\",\"afraid\",\"turkey\",\"meat\",\"goes\",\"installation\",\"netflix\",\"benefit\",\"demand\",\"release\",\"produce\",\"report\",\"cover\",\"changes\",\"double\",\"2nd\",\"reaction\",\"killed\",\"steel\",\"requirements\",\"france\",\"exchange\",\"ac\",\"quantum\",\"reliable\",\"box\",\"results\",\"lives\",\"treatment\",\"4g\",\"ece\",\"probability\",\"sleeping\",\"philosophy\",\"handle\",\"forget\",\"driver\",\"demonetization\",\"algorithms\",\"trade\",\"rule\",\"muscle\",\"calls\",\"tried\",\"mental\",\"sure\",\"quit\",\"navy\",\"achieve\",\"francisco\",\"location\",\"until\",\"sense\",\"anxiety\",\"wordpress\",\"focus\",\"fact\",\"production\",\"conversation\",\"motor\",\"five\",\"attracted\",\"hit\",\"analyst\",\"moto\",\"isis\",\"chicken\",\"sector\",\"permanent\",\"along\",\"king\",\"slow\",\"candidate\",\"minutes\",\"purchase\",\"gun\",\"selling\",\"usually\",\"\\u2026\",\"fly\",\"round\",\"panel\",\"error\",\"stocks\",\"api\",\"remember\",\"africa\",\"paying\",\"hitler\",\"3d\",\"regular\",\"losing\",\"mail\",\"yahoo\",\"cheapest\",\"older\",\"concept\",\"characters\",\"definition\",\"lines\",\"pm\",\"cloud\",\"cats\",\"russian\",\"ipad\",\"korean\",\"proof\",\"battle\",\"stars\",\"stream\",\"recent\",\"typical\",\"performance\",\"harvard\",\"restaurant\",\"origin\",\"listen\",\"smell\",\"decide\",\"serve\",\"undergraduate\",\"profit\",\"situation\",\"surgery\",\"asking\",\"plant\",\"link\",\"square\",\"completing\",\"four\",\"trust\",\"payment\",\"gym\",\"andor\",\"worklife\",\"guitar\",\"elections\",\"half\",\"investing\",\"scientist\",\"street\",\"needs\",\"native\",\"thoughts\",\"reality\",\"40\",\"medicine\",\"race\",\"choice\",\"longer\",\"came\",\"applying\",\"hiring\",\"west\",\"weed\",\"hacks\",\"step\",\"sea\",\"crime\",\"devices\",\"event\",\"citizen\",\"14\",\"17\",\"ticket\",\"fund\",\"equation\",\"suicide\",\"whom\",\"met\",\"almost\",\"designer\",\"local\",\"departments\",\"khan\",\"customer\",\"banking\",\"javascript\",\"trip\",\"issue\",\"react\",\"cannot\",\"dubai\",\"wall\",\"touch\",\"parts\",\"loves\",\"clothes\",\"straight\",\"sexual\",\"active\",\"inpatient\",\"dreams\",\"protein\",\"table\",\"exercise\",\"lord\",\"mtech\",\"creative\",\"ball\",\"speaking\",\"son\",\"receive\",\"dollars\",\"domain\",\"prospects\",\"hour\",\"graduation\",\"commercial\",\"themselves\",\"factors\",\"jesus\",\"programmer\",\"recommend\",\"replace\",\"chat\",\"placement\",\"episode\",\"fastest\",\"restaurants\",\"object\",\"drivers\",\"gaming\",\"mark\",\"taste\",\"seem\",\"perfect\",\"potential\",\"trumps\",\"appear\",\"rights\",\"equal\",\"rest\",\"package\",\"meant\",\"drop\",\"cool\",\"material\",\"potter\",\"events\",\"convince\",\"completely\",\"n\",\"zero\",\"significance\",\"lower\",\"feelings\",\"followers\",\"evidence\",\"certain\",\"later\",\"original\",\"bible\",\"disorder\",\"testing\",\"via\",\"stand\",\"actor\",\"characteristics\",\"cities\",\"reach\",\"ago\",\"mbbs\",\"speech\",\"electric\",\"approach\",\"scientific\",\"root\",\"analytics\",\"below\",\"grade\",\"mains\",\"topic\",\"fun\",\"ancient\",\"adult\",\"standard\",\"ice\",\"everyday\",\"population\",\"invented\",\"european\",\"intelligent\",\"11\",\"subject\",\"rehab\",\"background\",\"giving\",\"platform\",\"flight\",\"thrones\",\"maths\",\"dc\",\"teeth\",\"mit\",\"weeks\",\"east\",\"means\",\"programs\",\"beginner\",\"heat\",\"third\",\"tea\",\"range\",\"london\",\"maximum\",\"enjoy\",\"2000\",\"cells\",\"quickly\",\"here\",\"expensive\",\"phrase\",\"partner\",\"league\",\"anime\",\"latest\",\"specific\",\"whether\",\"functions\",\"os\",\"fire\",\"saying\",\"secret\",\"13\",\"planet\",\"hole\",\"super\",\"teacher\",\"strong\",\"accounts\",\"minister\",\"database\",\"economic\",\"channel\",\"estate\",\"ram\",\"switch\",\"asian\",\"smoking\",\"branch\",\"israel\",\"18\",\"features\",\"success\",\"lead\",\"total\",\"key\",\"master\",\"ok\",\"favourite\",\"psychology\",\"pok\\u00e9mon\",\"nothing\",\"clean\",\"25\",\"politics\",\"drinking\",\"sometimes\",\"recently\",\"korea\",\"sent\",\"poor\",\"hindu\",\"hollywood\",\"survive\",\"cure\",\"property\",\"return\",\"narendra\",\"budget\",\"sports\",\"limit\",\"arent\",\"boys\",\"driving\",\"whole\",\"cash\",\"smartphone\",\"php\",\"developed\",\"ssc\",\"hot\",\"attractive\",\"tool\",\"physical\",\"ecommerce\",\"sbi\",\"morning\",\"animal\",\"multiple\",\"loan\",\"acid\",\"fresher\",\"spanish\",\"moving\",\"decision\",\"county\",\"determined\",\"becoming\",\"seo\",\"summer\",\"manage\",\"server\",\"competitive\",\"milk\",\"importance\",\"banks\",\"cheap\",\"powerful\",\"issues\",\"penis\",\"according\",\"analysis\",\"bike\",\"position\",\"western\",\"advanced\",\"campus\",\"highest\",\"front\",\"court\",\"status\",\"gravity\",\"positions\",\"comes\",\"steps\",\"complete\",\"electronics\",\"won\",\"hurt\",\"certificate\",\"temperature\",\"player\",\"someones\",\"communication\",\"million\",\"talking\",\"preparing\",\"finance\",\"cancer\",\"9\",\"harry\",\"accept\",\"2014\",\"plus\",\"born\",\"tcs\",\"license\",\"bring\",\"teach\",\"practice\",\"trading\",\"m\",\"might\",\"opportunities\",\"global\",\"wish\",\"outside\",\"attack\",\"procedure\",\"needed\",\"update\",\"coffee\",\"provider\",\"rather\",\"16\",\"allow\",\"tamil\",\"mix\",\"connect\",\"room\",\"watching\",\"deep\",\"york\",\"image\",\"birth\",\"sign\",\"birthday\",\"playing\",\"wars\",\"grads\",\"hire\",\"phones\",\"cbse\",\"details\",\"clear\",\"cricket\",\"dangerous\",\"track\",\"corporate\",\"voice\",\"upsc\",\"content\",\"okay\",\"san\",\"heart\",\"far\",\"heard\",\"prove\",\"positive\",\"moment\",\"sales\",\"opinion\",\"engineers\",\"block\",\"diet\",\"coding\",\"core\",\"baby\",\"father\",\"little\",\"large\",\"blocked\",\"distance\",\"land\",\"simple\",\"husband\",\"told\",\"traffic\",\"prevent\",\"pictures\",\"planning\",\"fear\",\"classes\",\"towards\",\"technical\",\"building\",\"trying\",\"photo\",\"early\",\"uses\",\"sydney\",\"startups\",\"act\",\"id\",\"describe\",\"12th\",\"may\",\"formula\",\"gets\",\"present\",\"wont\",\"cut\",\"treat\",\"mathematics\",\"visiting\",\"eye\",\"policy\",\"close\",\"cse\",\"suitable\",\"version\",\"tools\",\"head\",\"minimum\",\"chennai\",\"easily\",\"method\",\"intelligence\",\"gre\",\"mother\",\"doctor\",\"macbook\",\"deleted\",\"gas\",\"suggest\",\"cards\",\"files\",\"loss\",\"art\",\"easiest\",\"late\",\"among\",\"together\",\"depression\",\"higher\",\"alone\",\"economics\",\"dead\",\"growth\",\"insurance\",\"gold\",\"necessary\",\"neet\",\"blog\",\"example\",\"memory\",\"crack\",\"consider\",\"works\",\"currency\",\"recruit\",\"pursue\",\"strategy\",\"young\",\"cs\",\"projects\",\"50\",\"manager\",\"abroad\",\"schools\",\"illegal\",\"inside\",\"stories\",\"hand\",\"t\",\"greatest\",\"personality\",\"galaxy\",\"device\",\"views\",\"user\",\"chemistry\",\"cars\",\"iq\",\"prefer\",\"picture\",\"nuclear\",\"middle\",\"applications\",\"gmail\",\"laws\",\"final\",\"capital\",\"kids\",\"society\",\"fake\",\"bill\",\"save\",\"though\",\"likely\",\"determine\",\"shows\",\"character\",\"snapchat\",\"youre\",\"eyes\",\"islam\",\"marry\",\"brand\",\"yet\",\"impact\",\"speak\",\"within\",\"rich\",\"resources\",\"net\",\"non\",\"pressure\",\"changed\",\"allowed\",\"obama\",\"cold\",\"running\",\"feeling\",\"jio\",\"football\",\"gift\",\"written\",\"buying\",\"mac\",\"spend\",\"prime\",\"blue\",\"train\",\"studies\",\"negative\",\"thinking\",\"solution\",\"sun\",\"least\",\"following\",\"install\",\"else\",\"muslims\",\"camera\",\"vote\",\"linux\",\"expect\",\"german\",\"recover\",\"starting\",\"crush\",\"coming\",\"muslim\",\"modern\",\"battery\",\"provide\",\"access\",\"presidential\",\"interest\",\"dating\",\"pro\",\"likes\",\"french\",\"singapore\",\"useful\",\"already\",\"professional\",\"percentage\",\"drink\",\"created\",\"board\",\"passport\",\"structure\",\"case\",\"height\",\"microsoft\",\"break\",\"screen\",\"names\",\"chance\",\"special\",\"30\",\"skin\",\"natural\",\"color\",\"interested\",\"amount\",\"pain\",\"healthy\",\"hack\",\"messages\",\"ias\",\"gay\",\"disadvantages\",\"pass\",\"moon\",\"systems\",\"hindi\",\"financial\",\"taken\",\"yes\",\"sim\",\"pregnant\",\"faster\",\"animals\",\"internship\",\"let\",\"photos\",\"balance\",\"sound\",\"due\",\"knowledge\",\"charge\",\"message\",\"officer\",\"solar\",\"military\",\"meet\",\"option\",\"reading\",\"across\",\"overcome\",\"everyone\",\"everything\",\"wife\",\"reduce\",\"chances\",\"samsung\",\"income\",\"bollywood\",\"season\",\"europe\",\"boy\",\"currently\",\"ex\",\"smart\",\"california\",\"engine\",\"paid\",\"army\",\"contact\",\"address\",\"wants\",\"ones\",\"gain\",\"reasons\",\"avoid\",\"please\",\"note\",\"known\",\"pune\",\"film\",\"national\",\"once\",\"users\",\"porn\",\"scope\",\"twitter\",\"drug\",\"rank\",\"japan\",\"fight\",\"transfer\",\"political\",\"green\",\"news\",\"self\",\"uber\",\"basic\",\"british\",\"religion\",\"hyderabad\",\"topics\",\"explain\",\"phd\",\"eating\",\"letter\",\"calculate\",\"ive\",\"tech\",\"personal\",\"japanese\",\"check\",\"hotel\",\"wifi\",\"beautiful\",\"difficult\",\"paper\",\"languages\",\"investment\",\"develop\",\"north\",\"electrical\",\"ios\",\"alcohol\",\"exactly\",\"profile\",\"past\",\"exams\",\"ca\",\"convert\",\"vs\",\"understand\",\"care\",\"dream\",\"try\",\"americans\",\"lost\",\"chemical\",\"source\",\"b\",\"admission\",\"easy\",\"must\",\"three\",\"effect\",\"view\",\"options\",\"page\",\"away\",\"red\",\"said\",\"line\",\"short\",\"happy\",\"security\",\"dark\",\"preparation\",\"second\",\"fat\",\"matter\",\"few\",\"since\",\"role\",\"pc\",\"office\",\"team\",\"delete\",\"cell\",\"election\",\"economy\",\"term\",\"dogs\",\"text\",\"female\",\"effective\",\"brain\",\"share\",\"digital\",\"btech\",\"russia\",\"\\u201c\",\"party\",\"numbers\",\"20\",\"store\",\"male\",\"mass\",\"turn\",\"left\",\"married\",\"rs\",\"taking\",\"those\",\"password\",\"follow\",\"advice\",\"isnt\",\"15\",\"types\",\"network\",\"\\u201d\",\"week\",\"purpose\",\"related\",\"fix\",\"started\",\"courses\",\"masters\",\"grow\",\"8\",\"fast\",\"leave\",\"100\",\"often\",\"found\",\"pros\",\"marriage\",\"cons\",\"quality\",\"words\",\"kill\",\"price\",\"near\",\"modi\",\"enough\",\"search\",\"python\",\"x\",\"blood\",\"math\",\"yourself\",\"drive\",\"size\",\"star\",\"graduate\",\"majors\",\"500\",\"model\",\"studying\",\"general\",\"oil\",\"colleges\",\"area\",\"developer\",\"germany\",\"industry\",\"full\",\"training\",\"says\",\"period\",\"videos\",\"universe\",\"fall\",\"daily\",\"information\",\"foreign\",\"credit\",\"force\",\"12\",\"youve\",\"south\",\"offer\",\"set\",\"add\",\"send\",\"australia\",\"center\",\"1000\",\"famous\",\"2015\",\"lot\",\"function\",\"tax\",\"correct\",\"solve\",\"advantages\",\"coaching\",\"institute\",\"effects\",\"guys\",\"again\",\"group\",\"hours\",\"side\",\"sentence\",\"low\",\"similar\",\"plan\",\"children\",\"answers\",\"talk\",\"marks\",\"ideas\",\"theory\",\"death\",\"compared\",\"night\",\"remove\",\"dog\",\"anything\",\"single\",\"successful\",\"gate\",\"indians\",\"put\",\"problems\",\"move\",\"writing\",\"point\",\"invest\",\"asked\",\"biggest\",\"others\",\"stock\",\"notes\",\"story\",\"machine\",\"private\",\"sell\",\"seen\",\"required\",\"field\",\"file\",\"rate\",\"humans\",\"application\",\"face\",\"sites\",\"mind\",\"facts\",\"mumbai\",\"post\",\"stay\",\"child\",\"terms\",\"products\",\"control\",\"legal\",\"police\",\"didnt\",\"level\",\"worst\",\"hate\",\"visit\",\"called\",\"amazon\",\"causes\",\"health\",\"form\",\"physics\",\"iit\",\"skills\",\"times\",\"medical\",\"based\",\"list\",\"websites\",\"die\",\"part\",\"less\",\"benefits\",\"apple\",\"instead\",\"these\",\"boyfriend\",\"sleep\",\"canada\",\"reason\",\"education\",\"cause\",\"jee\",\"value\",\"today\",\"media\",\"public\",\"happened\",\"product\",\"research\",\"main\",\"behind\",\"international\",\"project\",\"uk\",\"differ\",\"7\",\"places\",\"wear\",\"order\",\"date\",\"etc\",\"small\",\"songs\",\"apps\",\"email\",\"given\",\"wrong\",\"site\",\"normal\",\"culture\",\"also\",\"civil\",\"city\",\"available\",\"house\",\"exist\",\"startup\",\"services\",\"ms\",\"both\",\"down\",\"2017\",\"run\",\"cat\",\"well\",\"space\",\"join\",\"deal\",\"games\",\"visa\",\"rid\",\"air\",\"speed\",\"popular\",\"problem\",\"support\",\"current\",\"pakistan\",\"choose\",\"build\",\"idea\",\"america\",\"whatsapp\",\"affect\",\"law\",\"technology\",\"call\",\"6\",\"universities\",\"family\",\"marketing\",\"major\",\"actually\",\"favorite\",\"light\",\"bangalore\",\"woman\",\"because\",\"type\",\"program\",\"looking\",\"living\",\"open\",\"believe\",\"month\",\"able\",\"management\",\"travel\",\"degree\",\"show\",\"interesting\",\"score\",\"months\",\"series\",\"chinese\",\"development\",\"end\",\"code\",\"design\",\"per\",\"employees\",\"review\",\"clinton\",\"common\",\"kind\",\"internet\",\"song\",\"download\",\"course\",\"parents\",\"jobs\",\"such\",\"increase\",\"java\",\"god\",\"another\",\"united\",\"girlfriend\",\"mechanical\",\"always\",\"next\",\"never\",\"around\",\"tips\",\"mba\",\"myself\",\"hillary\",\"apply\",\"answer\",\"something\",\"considered\",\"making\",\"differences\",\"market\",\"compare\",\"great\",\"keep\",\"test\",\"s\",\"win\",\"against\",\"states\",\"earn\",\"youtube\",\"worth\",\"delhi\",\"energy\",\"laptop\",\"american\",\"lose\",\"each\",\"hard\",\"makes\",\"age\",\"ask\",\"safe\",\"body\",\"power\",\"salary\",\"4\",\"watch\",\"white\",\"windows\",\"instagram\",\"history\",\"pay\",\"every\",\"last\",\"create\",\"relationship\",\"music\",\"too\",\"meaning\",\"state\",\"average\",\"earth\",\"got\",\"process\",\"class\",\"tv\",\"eat\",\"done\",\"happens\",\"days\",\"big\",\"off\",\"improve\",\"future\",\"place\",\"man\",\"human\",\"government\",\"play\",\"countries\",\"food\",\"service\",\"students\",\"weight\",\"game\",\"engineer\",\"write\",\"very\",\"interview\",\"web\",\"tell\",\"social\",\"girls\",\"video\",\"look\",\"having\",\"guy\",\"home\",\"hair\",\"usa\",\"doesnt\",\"word\",\"bank\",\"friend\",\"true\",\"experience\",\"career\",\"president\",\"question\",\"own\",\"china\",\"come\",\"under\",\"working\",\"him\",\"doing\",\"donald\",\"friends\",\"right\",\"5\",\"cost\",\"mobile\",\"even\",\"movies\",\"then\",\"c\",\"\\u2019\",\"exam\",\"men\",\"learning\",\"card\",\"war\",\"read\",\"programming\",\"black\",\"anyone\",\"high\",\"10\",\"companies\",\"car\",\"getting\",\"give\",\"important\",\"questions\",\"cant\",\"iphone\",\"website\",\"top\",\"water\",\"prepare\",\"during\",\"real\",\"say\",\"system\",\"name\",\"through\",\"two\",\"1\",\"our\",\"study\",\"3\",\"university\",\"made\",\"back\",\"happen\",\"stop\",\"student\",\"sex\",\"bad\",\"language\",\"going\",\"same\",\"before\",\"software\",\"school\",\"live\",\"country\",\"android\",\"science\",\"help\",\"she\",\"see\",\"thing\",\"women\",\"over\",\"data\",\"examples\",\"computer\",\"had\",\"ways\",\"change\",\"while\",\"book\",\"english\",\"account\",\"still\",\"movie\",\"books\",\"2016\",\"facebook\",\"free\",\"number\",\"college\",\"app\",\"2\",\"just\",\"now\",\"no\",\"trump\",\"company\",\"only\",\"old\",\"been\",\"google\",\"phone\",\"long\",\"different\",\"girl\",\"his\",\"her\",\"years\",\"really\",\"them\",\"using\",\"business\",\"need\",\"being\",\"buy\",\"day\",\"person\",\"things\",\"possible\",\"could\",\"were\",\"its\",\"love\",\"engineering\",\"im\",\"used\",\"online\",\"go\",\"year\",\"he\",\"into\",\"feel\",\"dont\",\"first\",\"up\"]]]}}},\"view\":{\"type\":\"object\",\"name\":\"CDSView\",\"id\":\"p1045\",\"attributes\":{\"filter\":{\"type\":\"object\",\"name\":\"AllIndices\",\"id\":\"p1046\"}}},\"glyph\":{\"type\":\"object\",\"name\":\"Scatter\",\"id\":\"p1041\",\"attributes\":{\"x\":{\"type\":\"field\",\"field\":\"x\"},\"y\":{\"type\":\"field\",\"field\":\"y\"},\"size\":{\"type\":\"value\",\"value\":10},\"line_color\":{\"type\":\"field\",\"field\":\"color\"},\"line_alpha\":{\"type\":\"value\",\"value\":0.25},\"fill_color\":{\"type\":\"field\",\"field\":\"color\"},\"fill_alpha\":{\"type\":\"value\",\"value\":0.25},\"hatch_color\":{\"type\":\"field\",\"field\":\"color\"},\"hatch_alpha\":{\"type\":\"value\",\"value\":0.25}}},\"nonselection_glyph\":{\"type\":\"object\",\"name\":\"Scatter\",\"id\":\"p1042\",\"attributes\":{\"x\":{\"type\":\"field\",\"field\":\"x\"},\"y\":{\"type\":\"field\",\"field\":\"y\"},\"size\":{\"type\":\"value\",\"value\":10},\"line_color\":{\"type\":\"field\",\"field\":\"color\"},\"line_alpha\":{\"type\":\"value\",\"value\":0.1},\"fill_color\":{\"type\":\"field\",\"field\":\"color\"},\"fill_alpha\":{\"type\":\"value\",\"value\":0.1},\"hatch_color\":{\"type\":\"field\",\"field\":\"color\"},\"hatch_alpha\":{\"type\":\"value\",\"value\":0.1}}},\"muted_glyph\":{\"type\":\"object\",\"name\":\"Scatter\",\"id\":\"p1043\",\"attributes\":{\"x\":{\"type\":\"field\",\"field\":\"x\"},\"y\":{\"type\":\"field\",\"field\":\"y\"},\"size\":{\"type\":\"value\",\"value\":10},\"line_color\":{\"type\":\"field\",\"field\":\"color\"},\"line_alpha\":{\"type\":\"value\",\"value\":0.2},\"fill_color\":{\"type\":\"field\",\"field\":\"color\"},\"fill_alpha\":{\"type\":\"value\",\"value\":0.2},\"hatch_color\":{\"type\":\"field\",\"field\":\"color\"},\"hatch_alpha\":{\"type\":\"value\",\"value\":0.2}}}}}],\"toolbar\":{\"type\":\"object\",\"name\":\"Toolbar\",\"id\":\"p1012\",\"attributes\":{\"tools\":[{\"type\":\"object\",\"name\":\"PanTool\",\"id\":\"p1025\"},{\"type\":\"object\",\"name\":\"WheelZoomTool\",\"id\":\"p1026\",\"attributes\":{\"renderers\":\"auto\"}},{\"type\":\"object\",\"name\":\"BoxZoomTool\",\"id\":\"p1027\",\"attributes\":{\"dimensions\":\"both\",\"overlay\":{\"type\":\"object\",\"name\":\"BoxAnnotation\",\"id\":\"p1028\",\"attributes\":{\"syncable\":false,\"line_color\":\"black\",\"line_alpha\":1.0,\"line_width\":2,\"line_dash\":[4,4],\"fill_color\":\"lightgrey\",\"fill_alpha\":0.5,\"level\":\"overlay\",\"visible\":false,\"left\":{\"type\":\"number\",\"value\":\"nan\"},\"right\":{\"type\":\"number\",\"value\":\"nan\"},\"top\":{\"type\":\"number\",\"value\":\"nan\"},\"bottom\":{\"type\":\"number\",\"value\":\"nan\"},\"left_units\":\"canvas\",\"right_units\":\"canvas\",\"top_units\":\"canvas\",\"bottom_units\":\"canvas\",\"handles\":{\"type\":\"object\",\"name\":\"BoxInteractionHandles\",\"id\":\"p1034\",\"attributes\":{\"all\":{\"type\":\"object\",\"name\":\"AreaVisuals\",\"id\":\"p1033\",\"attributes\":{\"fill_color\":\"white\",\"hover_fill_color\":\"lightgray\"}}}}}}}},{\"type\":\"object\",\"name\":\"SaveTool\",\"id\":\"p1035\"},{\"type\":\"object\",\"name\":\"ResetTool\",\"id\":\"p1036\"},{\"type\":\"object\",\"name\":\"HelpTool\",\"id\":\"p1037\"},{\"type\":\"object\",\"name\":\"HoverTool\",\"id\":\"p1047\",\"attributes\":{\"renderers\":\"auto\",\"tooltips\":[[\"token\",\"@token\"]]}}],\"active_scroll\":{\"id\":\"p1026\"}}},\"left\":[{\"type\":\"object\",\"name\":\"LinearAxis\",\"id\":\"p1020\",\"attributes\":{\"ticker\":{\"type\":\"object\",\"name\":\"BasicTicker\",\"id\":\"p1021\",\"attributes\":{\"mantissas\":[1,2,5]}},\"formatter\":{\"type\":\"object\",\"name\":\"BasicTickFormatter\",\"id\":\"p1022\"},\"major_label_policy\":{\"type\":\"object\",\"name\":\"AllLabels\",\"id\":\"p1023\"}}}],\"below\":[{\"type\":\"object\",\"name\":\"LinearAxis\",\"id\":\"p1015\",\"attributes\":{\"ticker\":{\"type\":\"object\",\"name\":\"BasicTicker\",\"id\":\"p1016\",\"attributes\":{\"mantissas\":[1,2,5]}},\"formatter\":{\"type\":\"object\",\"name\":\"BasicTickFormatter\",\"id\":\"p1017\"},\"major_label_policy\":{\"type\":\"object\",\"name\":\"AllLabels\",\"id\":\"p1018\"}}}],\"center\":[{\"type\":\"object\",\"name\":\"Grid\",\"id\":\"p1019\",\"attributes\":{\"axis\":{\"id\":\"p1015\"}}},{\"type\":\"object\",\"name\":\"Grid\",\"id\":\"p1024\",\"attributes\":{\"dimension\":1,\"axis\":{\"id\":\"p1020\"}}}]}}]}};\n  const render_items = [{\"docid\":\"e9eaefae-a371-4960-8e56-259ed58df500\",\"roots\":{\"p1004\":\"d8d2da57-266b-4560-9f0f-05a38a038551\"},\"root_ids\":[\"p1004\"]}];\n  void root.Bokeh.embed.embed_items_notebook(docs_json, render_items);\n  }\n  if (root.Bokeh !== undefined) {\n    embed_document(root);\n  } else {\n    let attempts = 0;\n    const timer = setInterval(function(root) {\n      if (root.Bokeh !== undefined) {\n        clearInterval(timer);\n        embed_document(root);\n      } else {\n        attempts++;\n        if (attempts > 100) {\n          clearInterval(timer);\n          console.log(\"Bokeh: ERROR: Unable to run BokehJS code because BokehJS library is missing\");\n        }\n      }\n    }, 10, root)\n  }\n})(window);",
            "application/vnd.bokehjs_exec.v0+json": ""
          },
          "metadata": {
            "application/vnd.bokehjs_exec.v0+json": {
              "id": "p1004"
            }
          },
          "output_type": "display_data"
        },
        {
          "data": {
            "text/html": [
              "<div style=\"display: table;\"><div style=\"display: table-row;\"><div style=\"display: table-cell;\"><b title=\"bokeh.plotting._figure.figure\">figure</b>(</div><div style=\"display: table-cell;\">id&nbsp;=&nbsp;'p1004', <span id=\"p1051\" style=\"cursor: pointer;\">&hellip;)</span></div></div><div class=\"p1050\" style=\"display: none;\"><div style=\"display: table-cell;\"></div><div style=\"display: table-cell;\">above&nbsp;=&nbsp;[],</div></div><div class=\"p1050\" style=\"display: none;\"><div style=\"display: table-cell;\"></div><div style=\"display: table-cell;\">align&nbsp;=&nbsp;'auto',</div></div><div class=\"p1050\" style=\"display: none;\"><div style=\"display: table-cell;\"></div><div style=\"display: table-cell;\">aspect_ratio&nbsp;=&nbsp;None,</div></div><div class=\"p1050\" style=\"display: none;\"><div style=\"display: table-cell;\"></div><div style=\"display: table-cell;\">aspect_scale&nbsp;=&nbsp;1,</div></div><div class=\"p1050\" style=\"display: none;\"><div style=\"display: table-cell;\"></div><div style=\"display: table-cell;\">attribution&nbsp;=&nbsp;[],</div></div><div class=\"p1050\" style=\"display: none;\"><div style=\"display: table-cell;\"></div><div style=\"display: table-cell;\">background_fill_alpha&nbsp;=&nbsp;1.0,</div></div><div class=\"p1050\" style=\"display: none;\"><div style=\"display: table-cell;\"></div><div style=\"display: table-cell;\">background_fill_color&nbsp;=&nbsp;'#ffffff',</div></div><div class=\"p1050\" style=\"display: none;\"><div style=\"display: table-cell;\"></div><div style=\"display: table-cell;\">background_hatch_alpha&nbsp;=&nbsp;1.0,</div></div><div class=\"p1050\" style=\"display: none;\"><div style=\"display: table-cell;\"></div><div style=\"display: table-cell;\">background_hatch_color&nbsp;=&nbsp;'black',</div></div><div class=\"p1050\" style=\"display: none;\"><div style=\"display: table-cell;\"></div><div style=\"display: table-cell;\">background_hatch_extra&nbsp;=&nbsp;{},</div></div><div class=\"p1050\" style=\"display: none;\"><div style=\"display: table-cell;\"></div><div style=\"display: table-cell;\">background_hatch_pattern&nbsp;=&nbsp;None,</div></div><div class=\"p1050\" style=\"display: none;\"><div style=\"display: table-cell;\"></div><div style=\"display: table-cell;\">background_hatch_scale&nbsp;=&nbsp;12.0,</div></div><div class=\"p1050\" style=\"display: none;\"><div style=\"display: table-cell;\"></div><div style=\"display: table-cell;\">background_hatch_weight&nbsp;=&nbsp;1.0,</div></div><div class=\"p1050\" style=\"display: none;\"><div style=\"display: table-cell;\"></div><div style=\"display: table-cell;\">below&nbsp;=&nbsp;[LinearAxis(id='p1015', ...)],</div></div><div class=\"p1050\" style=\"display: none;\"><div style=\"display: table-cell;\"></div><div style=\"display: table-cell;\">border_fill_alpha&nbsp;=&nbsp;1.0,</div></div><div class=\"p1050\" style=\"display: none;\"><div style=\"display: table-cell;\"></div><div style=\"display: table-cell;\">border_fill_color&nbsp;=&nbsp;'#ffffff',</div></div><div class=\"p1050\" style=\"display: none;\"><div style=\"display: table-cell;\"></div><div style=\"display: table-cell;\">border_hatch_alpha&nbsp;=&nbsp;1.0,</div></div><div class=\"p1050\" style=\"display: none;\"><div style=\"display: table-cell;\"></div><div style=\"display: table-cell;\">border_hatch_color&nbsp;=&nbsp;'black',</div></div><div class=\"p1050\" style=\"display: none;\"><div style=\"display: table-cell;\"></div><div style=\"display: table-cell;\">border_hatch_extra&nbsp;=&nbsp;{},</div></div><div class=\"p1050\" style=\"display: none;\"><div style=\"display: table-cell;\"></div><div style=\"display: table-cell;\">border_hatch_pattern&nbsp;=&nbsp;None,</div></div><div class=\"p1050\" style=\"display: none;\"><div style=\"display: table-cell;\"></div><div style=\"display: table-cell;\">border_hatch_scale&nbsp;=&nbsp;12.0,</div></div><div class=\"p1050\" style=\"display: none;\"><div style=\"display: table-cell;\"></div><div style=\"display: table-cell;\">border_hatch_weight&nbsp;=&nbsp;1.0,</div></div><div class=\"p1050\" style=\"display: none;\"><div style=\"display: table-cell;\"></div><div style=\"display: table-cell;\">center&nbsp;=&nbsp;[Grid(id='p1019', ...), Grid(id='p1024', ...)],</div></div><div class=\"p1050\" style=\"display: none;\"><div style=\"display: table-cell;\"></div><div style=\"display: table-cell;\">context_menu&nbsp;=&nbsp;'auto',</div></div><div class=\"p1050\" style=\"display: none;\"><div style=\"display: table-cell;\"></div><div style=\"display: table-cell;\">css_classes&nbsp;=&nbsp;[],</div></div><div class=\"p1050\" style=\"display: none;\"><div style=\"display: table-cell;\"></div><div style=\"display: table-cell;\">css_variables&nbsp;=&nbsp;{},</div></div><div class=\"p1050\" style=\"display: none;\"><div style=\"display: table-cell;\"></div><div style=\"display: table-cell;\">disabled&nbsp;=&nbsp;False,</div></div><div class=\"p1050\" style=\"display: none;\"><div style=\"display: table-cell;\"></div><div style=\"display: table-cell;\">elements&nbsp;=&nbsp;[],</div></div><div class=\"p1050\" style=\"display: none;\"><div style=\"display: table-cell;\"></div><div style=\"display: table-cell;\">extra_x_ranges&nbsp;=&nbsp;{},</div></div><div class=\"p1050\" style=\"display: none;\"><div style=\"display: table-cell;\"></div><div style=\"display: table-cell;\">extra_x_scales&nbsp;=&nbsp;{},</div></div><div class=\"p1050\" style=\"display: none;\"><div style=\"display: table-cell;\"></div><div style=\"display: table-cell;\">extra_y_ranges&nbsp;=&nbsp;{},</div></div><div class=\"p1050\" style=\"display: none;\"><div style=\"display: table-cell;\"></div><div style=\"display: table-cell;\">extra_y_scales&nbsp;=&nbsp;{},</div></div><div class=\"p1050\" style=\"display: none;\"><div style=\"display: table-cell;\"></div><div style=\"display: table-cell;\">flow_mode&nbsp;=&nbsp;'block',</div></div><div class=\"p1050\" style=\"display: none;\"><div style=\"display: table-cell;\"></div><div style=\"display: table-cell;\">frame_align&nbsp;=&nbsp;True,</div></div><div class=\"p1050\" style=\"display: none;\"><div style=\"display: table-cell;\"></div><div style=\"display: table-cell;\">frame_height&nbsp;=&nbsp;None,</div></div><div class=\"p1050\" style=\"display: none;\"><div style=\"display: table-cell;\"></div><div style=\"display: table-cell;\">frame_width&nbsp;=&nbsp;None,</div></div><div class=\"p1050\" style=\"display: none;\"><div style=\"display: table-cell;\"></div><div style=\"display: table-cell;\">height&nbsp;=&nbsp;400,</div></div><div class=\"p1050\" style=\"display: none;\"><div style=\"display: table-cell;\"></div><div style=\"display: table-cell;\">height_policy&nbsp;=&nbsp;'auto',</div></div><div class=\"p1050\" style=\"display: none;\"><div style=\"display: table-cell;\"></div><div style=\"display: table-cell;\">hidpi&nbsp;=&nbsp;True,</div></div><div class=\"p1050\" style=\"display: none;\"><div style=\"display: table-cell;\"></div><div style=\"display: table-cell;\">hold_render&nbsp;=&nbsp;False,</div></div><div class=\"p1050\" style=\"display: none;\"><div style=\"display: table-cell;\"></div><div style=\"display: table-cell;\">html_attributes&nbsp;=&nbsp;{},</div></div><div class=\"p1050\" style=\"display: none;\"><div style=\"display: table-cell;\"></div><div style=\"display: table-cell;\">html_id&nbsp;=&nbsp;None,</div></div><div class=\"p1050\" style=\"display: none;\"><div style=\"display: table-cell;\"></div><div style=\"display: table-cell;\">js_event_callbacks&nbsp;=&nbsp;{},</div></div><div class=\"p1050\" style=\"display: none;\"><div style=\"display: table-cell;\"></div><div style=\"display: table-cell;\">js_property_callbacks&nbsp;=&nbsp;{},</div></div><div class=\"p1050\" style=\"display: none;\"><div style=\"display: table-cell;\"></div><div style=\"display: table-cell;\">left&nbsp;=&nbsp;[LinearAxis(id='p1020', ...)],</div></div><div class=\"p1050\" style=\"display: none;\"><div style=\"display: table-cell;\"></div><div style=\"display: table-cell;\">lod_factor&nbsp;=&nbsp;10,</div></div><div class=\"p1050\" style=\"display: none;\"><div style=\"display: table-cell;\"></div><div style=\"display: table-cell;\">lod_interval&nbsp;=&nbsp;300,</div></div><div class=\"p1050\" style=\"display: none;\"><div style=\"display: table-cell;\"></div><div style=\"display: table-cell;\">lod_threshold&nbsp;=&nbsp;2000,</div></div><div class=\"p1050\" style=\"display: none;\"><div style=\"display: table-cell;\"></div><div style=\"display: table-cell;\">lod_timeout&nbsp;=&nbsp;500,</div></div><div class=\"p1050\" style=\"display: none;\"><div style=\"display: table-cell;\"></div><div style=\"display: table-cell;\">margin&nbsp;=&nbsp;None,</div></div><div class=\"p1050\" style=\"display: none;\"><div style=\"display: table-cell;\"></div><div style=\"display: table-cell;\">match_aspect&nbsp;=&nbsp;False,</div></div><div class=\"p1050\" style=\"display: none;\"><div style=\"display: table-cell;\"></div><div style=\"display: table-cell;\">max_height&nbsp;=&nbsp;None,</div></div><div class=\"p1050\" style=\"display: none;\"><div style=\"display: table-cell;\"></div><div style=\"display: table-cell;\">max_width&nbsp;=&nbsp;None,</div></div><div class=\"p1050\" style=\"display: none;\"><div style=\"display: table-cell;\"></div><div style=\"display: table-cell;\">min_border&nbsp;=&nbsp;5,</div></div><div class=\"p1050\" style=\"display: none;\"><div style=\"display: table-cell;\"></div><div style=\"display: table-cell;\">min_border_bottom&nbsp;=&nbsp;None,</div></div><div class=\"p1050\" style=\"display: none;\"><div style=\"display: table-cell;\"></div><div style=\"display: table-cell;\">min_border_left&nbsp;=&nbsp;None,</div></div><div class=\"p1050\" style=\"display: none;\"><div style=\"display: table-cell;\"></div><div style=\"display: table-cell;\">min_border_right&nbsp;=&nbsp;None,</div></div><div class=\"p1050\" style=\"display: none;\"><div style=\"display: table-cell;\"></div><div style=\"display: table-cell;\">min_border_top&nbsp;=&nbsp;None,</div></div><div class=\"p1050\" style=\"display: none;\"><div style=\"display: table-cell;\"></div><div style=\"display: table-cell;\">min_height&nbsp;=&nbsp;None,</div></div><div class=\"p1050\" style=\"display: none;\"><div style=\"display: table-cell;\"></div><div style=\"display: table-cell;\">min_width&nbsp;=&nbsp;None,</div></div><div class=\"p1050\" style=\"display: none;\"><div style=\"display: table-cell;\"></div><div style=\"display: table-cell;\">name&nbsp;=&nbsp;None,</div></div><div class=\"p1050\" style=\"display: none;\"><div style=\"display: table-cell;\"></div><div style=\"display: table-cell;\">outline_line_alpha&nbsp;=&nbsp;1.0,</div></div><div class=\"p1050\" style=\"display: none;\"><div style=\"display: table-cell;\"></div><div style=\"display: table-cell;\">outline_line_cap&nbsp;=&nbsp;'butt',</div></div><div class=\"p1050\" style=\"display: none;\"><div style=\"display: table-cell;\"></div><div style=\"display: table-cell;\">outline_line_color&nbsp;=&nbsp;'#e5e5e5',</div></div><div class=\"p1050\" style=\"display: none;\"><div style=\"display: table-cell;\"></div><div style=\"display: table-cell;\">outline_line_dash&nbsp;=&nbsp;[],</div></div><div class=\"p1050\" style=\"display: none;\"><div style=\"display: table-cell;\"></div><div style=\"display: table-cell;\">outline_line_dash_offset&nbsp;=&nbsp;0,</div></div><div class=\"p1050\" style=\"display: none;\"><div style=\"display: table-cell;\"></div><div style=\"display: table-cell;\">outline_line_join&nbsp;=&nbsp;'bevel',</div></div><div class=\"p1050\" style=\"display: none;\"><div style=\"display: table-cell;\"></div><div style=\"display: table-cell;\">outline_line_width&nbsp;=&nbsp;1,</div></div><div class=\"p1050\" style=\"display: none;\"><div style=\"display: table-cell;\"></div><div style=\"display: table-cell;\">output_backend&nbsp;=&nbsp;'canvas',</div></div><div class=\"p1050\" style=\"display: none;\"><div style=\"display: table-cell;\"></div><div style=\"display: table-cell;\">renderers&nbsp;=&nbsp;[GlyphRenderer(id='p1044', ...)],</div></div><div class=\"p1050\" style=\"display: none;\"><div style=\"display: table-cell;\"></div><div style=\"display: table-cell;\">reset_policy&nbsp;=&nbsp;'standard',</div></div><div class=\"p1050\" style=\"display: none;\"><div style=\"display: table-cell;\"></div><div style=\"display: table-cell;\">resizable&nbsp;=&nbsp;False,</div></div><div class=\"p1050\" style=\"display: none;\"><div style=\"display: table-cell;\"></div><div style=\"display: table-cell;\">right&nbsp;=&nbsp;[],</div></div><div class=\"p1050\" style=\"display: none;\"><div style=\"display: table-cell;\"></div><div style=\"display: table-cell;\">sizing_mode&nbsp;=&nbsp;None,</div></div><div class=\"p1050\" style=\"display: none;\"><div style=\"display: table-cell;\"></div><div style=\"display: table-cell;\">styles&nbsp;=&nbsp;{},</div></div><div class=\"p1050\" style=\"display: none;\"><div style=\"display: table-cell;\"></div><div style=\"display: table-cell;\">stylesheets&nbsp;=&nbsp;[],</div></div><div class=\"p1050\" style=\"display: none;\"><div style=\"display: table-cell;\"></div><div style=\"display: table-cell;\">subscribed_events&nbsp;=&nbsp;PropertyValueSet(),</div></div><div class=\"p1050\" style=\"display: none;\"><div style=\"display: table-cell;\"></div><div style=\"display: table-cell;\">syncable&nbsp;=&nbsp;True,</div></div><div class=\"p1050\" style=\"display: none;\"><div style=\"display: table-cell;\"></div><div style=\"display: table-cell;\">tags&nbsp;=&nbsp;[],</div></div><div class=\"p1050\" style=\"display: none;\"><div style=\"display: table-cell;\"></div><div style=\"display: table-cell;\">title&nbsp;=&nbsp;Title(id='p1011', ...),</div></div><div class=\"p1050\" style=\"display: none;\"><div style=\"display: table-cell;\"></div><div style=\"display: table-cell;\">title_location&nbsp;=&nbsp;'above',</div></div><div class=\"p1050\" style=\"display: none;\"><div style=\"display: table-cell;\"></div><div style=\"display: table-cell;\">toolbar&nbsp;=&nbsp;Toolbar(id='p1012', ...),</div></div><div class=\"p1050\" style=\"display: none;\"><div style=\"display: table-cell;\"></div><div style=\"display: table-cell;\">toolbar_inner&nbsp;=&nbsp;False,</div></div><div class=\"p1050\" style=\"display: none;\"><div style=\"display: table-cell;\"></div><div style=\"display: table-cell;\">toolbar_location&nbsp;=&nbsp;'right',</div></div><div class=\"p1050\" style=\"display: none;\"><div style=\"display: table-cell;\"></div><div style=\"display: table-cell;\">toolbar_sticky&nbsp;=&nbsp;True,</div></div><div class=\"p1050\" style=\"display: none;\"><div style=\"display: table-cell;\"></div><div style=\"display: table-cell;\">visible&nbsp;=&nbsp;True,</div></div><div class=\"p1050\" style=\"display: none;\"><div style=\"display: table-cell;\"></div><div style=\"display: table-cell;\">width&nbsp;=&nbsp;600,</div></div><div class=\"p1050\" style=\"display: none;\"><div style=\"display: table-cell;\"></div><div style=\"display: table-cell;\">width_policy&nbsp;=&nbsp;'auto',</div></div><div class=\"p1050\" style=\"display: none;\"><div style=\"display: table-cell;\"></div><div style=\"display: table-cell;\">window_axis&nbsp;=&nbsp;'none',</div></div><div class=\"p1050\" style=\"display: none;\"><div style=\"display: table-cell;\"></div><div style=\"display: table-cell;\">x_range&nbsp;=&nbsp;DataRange1d(id='p1005', ...),</div></div><div class=\"p1050\" style=\"display: none;\"><div style=\"display: table-cell;\"></div><div style=\"display: table-cell;\">x_scale&nbsp;=&nbsp;LinearScale(id='p1013', ...),</div></div><div class=\"p1050\" style=\"display: none;\"><div style=\"display: table-cell;\"></div><div style=\"display: table-cell;\">y_range&nbsp;=&nbsp;DataRange1d(id='p1006', ...),</div></div><div class=\"p1050\" style=\"display: none;\"><div style=\"display: table-cell;\"></div><div style=\"display: table-cell;\">y_scale&nbsp;=&nbsp;LinearScale(id='p1014', ...))</div></div></div>\n",
              "<script>\n",
              "(function() {\n",
              "  let expanded = false;\n",
              "  const ellipsis = document.getElementById(\"p1051\");\n",
              "  ellipsis.addEventListener(\"click\", function() {\n",
              "    const rows = document.getElementsByClassName(\"p1050\");\n",
              "    for (let i = 0; i < rows.length; i++) {\n",
              "      const el = rows[i];\n",
              "      el.style.display = expanded ? \"none\" : \"table-row\";\n",
              "    }\n",
              "    ellipsis.innerHTML = expanded ? \"&hellip;)\" : \"&lsaquo;&lsaquo;&lsaquo;\";\n",
              "    expanded = !expanded;\n",
              "  });\n",
              "})();\n",
              "</script>\n"
            ],
            "text/plain": [
              "figure(id='p1004', ...)"
            ]
          },
          "execution_count": 38,
          "metadata": {},
          "output_type": "execute_result"
        }
      ],
      "source": [
        "draw_vectors(embedding[:, 0], embedding[:, 1], token=top_words)"
      ]
    },
    {
      "cell_type": "markdown",
      "metadata": {
        "id": "d3_bH62GzCQj"
      },
      "source": [
        "Для сдачи задания необходимо загрузить функции `subsample_frequent_words` и `get_negative_sampling_prob`, а также сгенерировать файл для посылки ниже и приложить в соответствующую задачу. Успехов!"
      ]
    },
    {
      "cell_type": "code",
      "execution_count": 39,
      "metadata": {
        "colab": {
          "base_uri": "https://localhost:8080/"
        },
        "id": "OdhFp2GMzCQj",
        "outputId": "0419a84f-f5e6-4cce-f5d2-556772cf34bf"
      },
      "outputs": [
        {
          "name": "stdout",
          "output_type": "stream",
          "text": [
            "File saved to `submission_dict.json`\n"
          ]
        }
      ],
      "source": [
        "# do not change the code in the block below\n",
        "# __________start of block__________\n",
        "import os\n",
        "import json\n",
        "\n",
        "assert os.path.exists(\n",
        "    \"words_subset.txt\"\n",
        "), \"Please, download `words_subset.txt` and place it in the working directory\"\n",
        "\n",
        "with open(\"words_subset.txt\") as iofile:\n",
        "    selected_words = iofile.read().split(\"\\n\")\n",
        "\n",
        "\n",
        "def get_matrix_for_selected_words(selected_words, embedding_matrix, word_to_index):\n",
        "    word_vectors = []\n",
        "    for word in selected_words:\n",
        "        index = word_to_index.get(word, None)\n",
        "        vector = [0.0] * embedding_matrix.shape[1]\n",
        "        if index is not None:\n",
        "            vector = embedding_matrix[index].numpy().tolist()\n",
        "        word_vectors.append(vector)\n",
        "    return word_vectors\n",
        "\n",
        "\n",
        "word_vectors = get_matrix_for_selected_words(\n",
        "    selected_words, embedding_matrix_context, word_to_index\n",
        ")\n",
        "\n",
        "with open(\"submission_dict.json\", \"w\") as iofile:\n",
        "    json.dump(word_vectors, iofile)\n",
        "print(\"File saved to `submission_dict.json`\")\n",
        "# __________end of block__________"
      ]
    }
  ],
  "metadata": {
    "colab": {
      "provenance": []
    },
    "kernelspec": {
      "display_name": "attack",
      "language": "python",
      "name": "python3"
    },
    "language_info": {
      "codemirror_mode": {
        "name": "ipython",
        "version": 3
      },
      "file_extension": ".py",
      "mimetype": "text/x-python",
      "name": "python",
      "nbconvert_exporter": "python",
      "pygments_lexer": "ipython3",
      "version": "3.12.9"
    },
    "widgets": {
      "application/vnd.jupyter.widget-state+json": {
        "1ba7e2a55c214ab5b05295215ee68050": {
          "model_module": "@jupyter-widgets/base",
          "model_module_version": "1.2.0",
          "model_name": "LayoutModel",
          "state": {
            "_model_module": "@jupyter-widgets/base",
            "_model_module_version": "1.2.0",
            "_model_name": "LayoutModel",
            "_view_count": null,
            "_view_module": "@jupyter-widgets/base",
            "_view_module_version": "1.2.0",
            "_view_name": "LayoutView",
            "align_content": null,
            "align_items": null,
            "align_self": null,
            "border": null,
            "bottom": null,
            "display": null,
            "flex": null,
            "flex_flow": null,
            "grid_area": null,
            "grid_auto_columns": null,
            "grid_auto_flow": null,
            "grid_auto_rows": null,
            "grid_column": null,
            "grid_gap": null,
            "grid_row": null,
            "grid_template_areas": null,
            "grid_template_columns": null,
            "grid_template_rows": null,
            "height": null,
            "justify_content": null,
            "justify_items": null,
            "left": null,
            "margin": null,
            "max_height": null,
            "max_width": null,
            "min_height": null,
            "min_width": null,
            "object_fit": null,
            "object_position": null,
            "order": null,
            "overflow": null,
            "overflow_x": null,
            "overflow_y": null,
            "padding": null,
            "right": null,
            "top": null,
            "visibility": null,
            "width": null
          }
        },
        "1bdcffd55e8f4bd5a3f228f79d20499d": {
          "model_module": "@jupyter-widgets/base",
          "model_module_version": "1.2.0",
          "model_name": "LayoutModel",
          "state": {
            "_model_module": "@jupyter-widgets/base",
            "_model_module_version": "1.2.0",
            "_model_name": "LayoutModel",
            "_view_count": null,
            "_view_module": "@jupyter-widgets/base",
            "_view_module_version": "1.2.0",
            "_view_name": "LayoutView",
            "align_content": null,
            "align_items": null,
            "align_self": null,
            "border": null,
            "bottom": null,
            "display": null,
            "flex": null,
            "flex_flow": null,
            "grid_area": null,
            "grid_auto_columns": null,
            "grid_auto_flow": null,
            "grid_auto_rows": null,
            "grid_column": null,
            "grid_gap": null,
            "grid_row": null,
            "grid_template_areas": null,
            "grid_template_columns": null,
            "grid_template_rows": null,
            "height": null,
            "justify_content": null,
            "justify_items": null,
            "left": null,
            "margin": null,
            "max_height": null,
            "max_width": null,
            "min_height": null,
            "min_width": null,
            "object_fit": null,
            "object_position": null,
            "order": null,
            "overflow": null,
            "overflow_x": null,
            "overflow_y": null,
            "padding": null,
            "right": null,
            "top": null,
            "visibility": null,
            "width": null
          }
        },
        "26e12bae094d4119b047cfe82ea61524": {
          "model_module": "@jupyter-widgets/controls",
          "model_module_version": "1.5.0",
          "model_name": "DescriptionStyleModel",
          "state": {
            "_model_module": "@jupyter-widgets/controls",
            "_model_module_version": "1.5.0",
            "_model_name": "DescriptionStyleModel",
            "_view_count": null,
            "_view_module": "@jupyter-widgets/base",
            "_view_module_version": "1.2.0",
            "_view_name": "StyleView",
            "description_width": ""
          }
        },
        "397cf151974e4f1b9ea19a56e7ca758a": {
          "model_module": "@jupyter-widgets/base",
          "model_module_version": "1.2.0",
          "model_name": "LayoutModel",
          "state": {
            "_model_module": "@jupyter-widgets/base",
            "_model_module_version": "1.2.0",
            "_model_name": "LayoutModel",
            "_view_count": null,
            "_view_module": "@jupyter-widgets/base",
            "_view_module_version": "1.2.0",
            "_view_name": "LayoutView",
            "align_content": null,
            "align_items": null,
            "align_self": null,
            "border": null,
            "bottom": null,
            "display": null,
            "flex": null,
            "flex_flow": null,
            "grid_area": null,
            "grid_auto_columns": null,
            "grid_auto_flow": null,
            "grid_auto_rows": null,
            "grid_column": null,
            "grid_gap": null,
            "grid_row": null,
            "grid_template_areas": null,
            "grid_template_columns": null,
            "grid_template_rows": null,
            "height": null,
            "justify_content": null,
            "justify_items": null,
            "left": null,
            "margin": null,
            "max_height": null,
            "max_width": null,
            "min_height": null,
            "min_width": null,
            "object_fit": null,
            "object_position": null,
            "order": null,
            "overflow": null,
            "overflow_x": null,
            "overflow_y": null,
            "padding": null,
            "right": null,
            "top": null,
            "visibility": null,
            "width": null
          }
        },
        "6b3f05e18d0443ac85a66d3a72eeee31": {
          "model_module": "@jupyter-widgets/controls",
          "model_module_version": "1.5.0",
          "model_name": "DescriptionStyleModel",
          "state": {
            "_model_module": "@jupyter-widgets/controls",
            "_model_module_version": "1.5.0",
            "_model_name": "DescriptionStyleModel",
            "_view_count": null,
            "_view_module": "@jupyter-widgets/base",
            "_view_module_version": "1.2.0",
            "_view_name": "StyleView",
            "description_width": ""
          }
        },
        "78f5d5125aac4f5f86752c719ea3ba4c": {
          "model_module": "@jupyter-widgets/controls",
          "model_module_version": "1.5.0",
          "model_name": "HBoxModel",
          "state": {
            "_dom_classes": [],
            "_model_module": "@jupyter-widgets/controls",
            "_model_module_version": "1.5.0",
            "_model_name": "HBoxModel",
            "_view_count": null,
            "_view_module": "@jupyter-widgets/controls",
            "_view_module_version": "1.5.0",
            "_view_name": "HBoxView",
            "box_style": "",
            "children": [
              "IPY_MODEL_9add1a227248424a829c88b71b09771b",
              "IPY_MODEL_c1c690fbf75244db8087cd7517391a61",
              "IPY_MODEL_f11bd3781f0d4fecb1900fb468462f4b"
            ],
            "layout": "IPY_MODEL_a7c0687301c94ad0bc55c9fdb05c78f5"
          }
        },
        "9add1a227248424a829c88b71b09771b": {
          "model_module": "@jupyter-widgets/controls",
          "model_module_version": "1.5.0",
          "model_name": "HTMLModel",
          "state": {
            "_dom_classes": [],
            "_model_module": "@jupyter-widgets/controls",
            "_model_module_version": "1.5.0",
            "_model_name": "HTMLModel",
            "_view_count": null,
            "_view_module": "@jupyter-widgets/controls",
            "_view_module_version": "1.5.0",
            "_view_name": "HTMLView",
            "description": "",
            "description_tooltip": null,
            "layout": "IPY_MODEL_397cf151974e4f1b9ea19a56e7ca758a",
            "placeholder": "​",
            "style": "IPY_MODEL_26e12bae094d4119b047cfe82ea61524",
            "value": "100%"
          }
        },
        "a7c0687301c94ad0bc55c9fdb05c78f5": {
          "model_module": "@jupyter-widgets/base",
          "model_module_version": "1.2.0",
          "model_name": "LayoutModel",
          "state": {
            "_model_module": "@jupyter-widgets/base",
            "_model_module_version": "1.2.0",
            "_model_name": "LayoutModel",
            "_view_count": null,
            "_view_module": "@jupyter-widgets/base",
            "_view_module_version": "1.2.0",
            "_view_name": "LayoutView",
            "align_content": null,
            "align_items": null,
            "align_self": null,
            "border": null,
            "bottom": null,
            "display": null,
            "flex": null,
            "flex_flow": null,
            "grid_area": null,
            "grid_auto_columns": null,
            "grid_auto_flow": null,
            "grid_auto_rows": null,
            "grid_column": null,
            "grid_gap": null,
            "grid_row": null,
            "grid_template_areas": null,
            "grid_template_columns": null,
            "grid_template_rows": null,
            "height": null,
            "justify_content": null,
            "justify_items": null,
            "left": null,
            "margin": null,
            "max_height": null,
            "max_width": null,
            "min_height": null,
            "min_width": null,
            "object_fit": null,
            "object_position": null,
            "order": null,
            "overflow": null,
            "overflow_x": null,
            "overflow_y": null,
            "padding": null,
            "right": null,
            "top": null,
            "visibility": null,
            "width": null
          }
        },
        "c1c690fbf75244db8087cd7517391a61": {
          "model_module": "@jupyter-widgets/controls",
          "model_module_version": "1.5.0",
          "model_name": "FloatProgressModel",
          "state": {
            "_dom_classes": [],
            "_model_module": "@jupyter-widgets/controls",
            "_model_module_version": "1.5.0",
            "_model_name": "FloatProgressModel",
            "_view_count": null,
            "_view_module": "@jupyter-widgets/controls",
            "_view_module_version": "1.5.0",
            "_view_name": "ProgressView",
            "bar_style": "success",
            "description": "",
            "description_tooltip": null,
            "layout": "IPY_MODEL_1bdcffd55e8f4bd5a3f228f79d20499d",
            "max": 2500,
            "min": 0,
            "orientation": "horizontal",
            "style": "IPY_MODEL_e11b4a7529cc40b08192fd9b7759fffd",
            "value": 2500
          }
        },
        "e11b4a7529cc40b08192fd9b7759fffd": {
          "model_module": "@jupyter-widgets/controls",
          "model_module_version": "1.5.0",
          "model_name": "ProgressStyleModel",
          "state": {
            "_model_module": "@jupyter-widgets/controls",
            "_model_module_version": "1.5.0",
            "_model_name": "ProgressStyleModel",
            "_view_count": null,
            "_view_module": "@jupyter-widgets/base",
            "_view_module_version": "1.2.0",
            "_view_name": "StyleView",
            "bar_color": null,
            "description_width": ""
          }
        },
        "f11bd3781f0d4fecb1900fb468462f4b": {
          "model_module": "@jupyter-widgets/controls",
          "model_module_version": "1.5.0",
          "model_name": "HTMLModel",
          "state": {
            "_dom_classes": [],
            "_model_module": "@jupyter-widgets/controls",
            "_model_module_version": "1.5.0",
            "_model_name": "HTMLModel",
            "_view_count": null,
            "_view_module": "@jupyter-widgets/controls",
            "_view_module_version": "1.5.0",
            "_view_name": "HTMLView",
            "description": "",
            "description_tooltip": null,
            "layout": "IPY_MODEL_1ba7e2a55c214ab5b05295215ee68050",
            "placeholder": "​",
            "style": "IPY_MODEL_6b3f05e18d0443ac85a66d3a72eeee31",
            "value": " 2500/2500 [58:52&lt;00:00,  1.36s/it]"
          }
        }
      }
    }
  },
  "nbformat": 4,
  "nbformat_minor": 0
}
