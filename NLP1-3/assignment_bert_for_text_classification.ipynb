{
 "cells": [
  {
   "cell_type": "markdown",
   "metadata": {
    "id": "jNtLJlW4v5VF"
   },
   "source": [
    "## Классификация текстов с использованием предобученных языковых моделей.\n",
    "\n",
    "В данном задании вам предстоит обратиться к задаче классификации текстов и решить ее с использованием предобученной модели BERT."
   ]
  },
  {
   "cell_type": "code",
   "execution_count": 1,
   "metadata": {},
   "outputs": [],
   "source": [
    "import json\n",
    "# do not change the code in the block below\n",
    "# __________start of block__________\n",
    "import os\n",
    "import random\n",
    "\n",
    "import matplotlib.pyplot as plt\n",
    "import numpy as np\n",
    "import pandas as pd\n",
    "import torch\n",
    "import torch.nn as nn\n",
    "import torch.nn.functional as F\n",
    "from IPython.display import clear_output\n",
    "from sklearn.metrics import accuracy_score, roc_auc_score, roc_curve\n",
    "\n",
    "%matplotlib inline\n",
    "# __________end of block__________"
   ]
  },
  {
   "cell_type": "markdown",
   "metadata": {},
   "source": [
    "Обратимся к набору данных SST-2. Holdout часть данных (которая понадобится вам для посылки) доступна по ссылке ниже."
   ]
  },
  {
   "cell_type": "code",
   "execution_count": 2,
   "metadata": {},
   "outputs": [
    {
     "name": "stderr",
     "output_type": "stream",
     "text": [
      "\"wget\" �� ���� ����७��� ��� ���譥�\n",
      "��������, �ᯮ��塞�� �ணࠬ��� ��� ������ 䠩���.\n"
     ]
    }
   ],
   "source": [
    "# do not change the code in the block below\n",
    "# __________start of block__________\n",
    "\n",
    "!wget https://raw.githubusercontent.com/girafe-ai/ml-course/refs/heads/24f_yandex_ml_trainings/homeworks/hw04_bert_and_co/texts_holdout.json\n",
    "# __________end of block__________"
   ]
  },
  {
   "cell_type": "code",
   "execution_count": 3,
   "metadata": {},
   "outputs": [],
   "source": [
    "# do not change the code in the block below\n",
    "# __________start of block__________\n",
    "df = pd.read_csv(\n",
    "    \"https://github.com/clairett/pytorch-sentiment-classification/raw/master/data/SST2/train.tsv\",\n",
    "    delimiter=\"\\t\",\n",
    "    header=None,\n",
    ")\n",
    "texts_train = df[0].values[:5000]\n",
    "y_train = df[1].values[:5000]\n",
    "texts_test = df[0].values[5000:]\n",
    "y_test = df[1].values[5000:]\n",
    "with open(\"texts_holdout.json\") as iofile:\n",
    "    texts_holdout = json.load(iofile)\n",
    "# __________end of block__________"
   ]
  },
  {
   "cell_type": "markdown",
   "metadata": {},
   "source": [
    "Весь остальной код предстоит написать вам.\n",
    "\n",
    "Для успешной сдачи на максимальный балл необходимо добиться хотя бы __84.5% accuracy на тестовой части выборки__."
   ]
  },
  {
   "cell_type": "code",
   "execution_count": 4,
   "metadata": {},
   "outputs": [
    {
     "name": "stderr",
     "output_type": "stream",
     "text": [
      "c:\\STUDYING\\8()last\\MLhw\\NLP1\\nnnn\\Lib\\site-packages\\tqdm\\auto.py:21: TqdmWarning: IProgress not found. Please update jupyter and ipywidgets. See https://ipywidgets.readthedocs.io/en/stable/user_install.html\n",
      "  from .autonotebook import tqdm as notebook_tqdm\n"
     ]
    }
   ],
   "source": [
    "from transformers import BertModel, BertTokenizer\n",
    "\n",
    "device = torch.device('cuda')"
   ]
  },
  {
   "cell_type": "code",
   "execution_count": 5,
   "metadata": {},
   "outputs": [],
   "source": [
    "bert = BertModel.from_pretrained('bert-base-uncased', return_dict=True)\n",
    "tokenizer = BertTokenizer.from_pretrained('bert-base-uncased')\n",
    "\n",
    "bert = bert.to(device)\n",
    "\n",
    "tokenized_texts_train = tokenizer(texts_train.tolist(), padding=True, truncation=True, return_tensors='pt', max_length=512)\n",
    "tokenized_texts_test = tokenizer(texts_test.tolist(), padding=True, truncation=True, return_tensors='pt', max_length=512)\n",
    "tokenized_holdout = tokenizer(texts_holdout, padding=True, truncation=True, return_tensors='pt', max_length=512)\n",
    "\n",
    "tokenized_texts_train = {key: value.to(device) for key, value in tokenized_texts_train.items()}\n",
    "tokenized_texts_test = {key: value.to(device) for key, value in tokenized_texts_test.items()}\n",
    "tokenized_texts_holdout = {key: value.to(device) for key, value in tokenized_holdout.items()}\n",
    "\n",
    "with torch.no_grad():\n",
    "    embeddings_texts_train = bert(**tokenized_texts_train).last_hidden_state\n",
    "    embeddings_texts_test = bert(**tokenized_texts_test).last_hidden_state\n",
    "    embeddings_texts_holdout = bert(**tokenized_texts_holdout).last_hidden_state"
   ]
  },
  {
   "cell_type": "code",
   "execution_count": 6,
   "metadata": {},
   "outputs": [],
   "source": [
    "X_train_tensor = embeddings_texts_train.permute(0, 2, 1)\n",
    "X_test_tensor = embeddings_texts_test.permute(0, 2, 1)\n",
    "X_holdout_tensor = embeddings_texts_holdout.permute(0, 2, 1)\n",
    "\n",
    "y_train_tensor = torch.tensor(y_train, dtype=torch.int64).to(device)\n",
    "y_test_tensor = torch.tensor(y_test, dtype=torch.int64).to(device)"
   ]
  },
  {
   "cell_type": "code",
   "execution_count": 7,
   "metadata": {},
   "outputs": [
    {
     "data": {
      "text/plain": [
       "torch.Size([5000, 768, 67])"
      ]
     },
     "execution_count": 7,
     "metadata": {},
     "output_type": "execute_result"
    }
   ],
   "source": [
    "X_train_tensor.shape"
   ]
  },
  {
   "cell_type": "code",
   "execution_count": 8,
   "metadata": {},
   "outputs": [],
   "source": [
    "my_model = nn.Sequential(\n",
    "    nn.Conv1d(in_channels=768, out_channels=4, kernel_size=3, padding=1),\n",
    "    nn.ReLU(),\n",
    "    nn.BatchNorm1d(4),\n",
    "    nn.Dropout(0.5),\n",
    "    nn.AdaptiveMaxPool1d(1),\n",
    "    nn.Flatten(),\n",
    "    nn.Linear(4, 2)\n",
    ").to(device)\n",
    "\n",
    "loss_func = nn.CrossEntropyLoss()\n",
    "opt = torch.optim.Adam(my_model.parameters())\n"
   ]
  },
  {
   "cell_type": "code",
   "execution_count": 9,
   "metadata": {},
   "outputs": [],
   "source": [
    "from IPython import display"
   ]
  },
  {
   "cell_type": "code",
   "execution_count": 10,
   "metadata": {},
   "outputs": [],
   "source": [
    "def plot_train_process(\n",
    "    train_loss, val_loss, train_accuracy, val_accuracy, title_suffix=\"\"\n",
    "):\n",
    "    fig, axes = plt.subplots(1, 2, figsize=(15, 5))\n",
    "\n",
    "    axes[0].set_title(\" \".join([\"Loss\", title_suffix]))\n",
    "    axes[0].plot(train_loss, label=\"train\")\n",
    "    axes[0].plot(val_loss, label=\"validation\")\n",
    "    axes[0].legend()\n",
    "\n",
    "    axes[1].set_title(\" \".join([\"Validation accuracy\", title_suffix]))\n",
    "    axes[1].plot(train_accuracy, label=\"train\")\n",
    "    axes[1].plot(val_accuracy, label=\"validation\")\n",
    "    axes[1].legend()\n",
    "    plt.show()"
   ]
  },
  {
   "cell_type": "code",
   "execution_count": null,
   "metadata": {},
   "outputs": [],
   "source": [
    "def train_model(\n",
    "\t\tmodel,\n",
    "\t\topt,\n",
    "\t\tX_train_tensor,\n",
    "\t\ty_train_tensor,\n",
    "\t\tX_test_tensor,\n",
    "\t\ty_test_tensor,\n",
    "\t\tn_iterations = 150,\n",
    "\t\tbatch_size = 512,\n",
    "\t\teval_every=5,\n",
    ") -> nn.Module:\n",
    "\ttrain_loss_history = []\n",
    "\ttest_loss_history = []\n",
    "\ttrain_acc_history = []\n",
    "\ttest_acc_history = []\n",
    "\n",
    "\tlocal_train_loss_history = []\n",
    "\tlocal_train_acc_history = []\n",
    "\n",
    "\tfor iter in np.arange(n_iterations):\n",
    "\t\tix = np.random.randint(0, len(X_train_tensor), batch_size)\n",
    "\t\tx_batch = X_train_tensor[ix]\n",
    "\t\ty_batch = y_train_tensor[ix]\n",
    "\n",
    "\t\ty_pred_batch = model(x_batch)\n",
    "\t\t\n",
    "\t\tloss = loss_func(y_pred_batch, y_batch)\n",
    "\t\tloss.backward()\n",
    "\t\topt.step()\n",
    "\t\topt.zero_grad()\n",
    "\n",
    "\t\tlocal_train_loss_history.append(loss.item())\n",
    "\t\tlocal_train_acc_history.append(\n",
    "\t\t\taccuracy_score(\n",
    "\t\t\t\ty_batch.to('cpu').detach().numpy(),\n",
    "\t\t\t\ty_pred_batch.to('cpu').detach().numpy().argmax(axis=1)\n",
    "\t\t\t)\n",
    "\t\t)\n",
    "\n",
    "\t\tif iter % eval_every == 0:\n",
    "\t\t\ttrain_loss_history.append(np.mean(local_train_loss_history))\n",
    "\t\t\ttrain_acc_history.append(np.mean(local_train_acc_history))\n",
    "\t\t\tlocal_train_loss_history, local_train_acc_history = [], []\n",
    "\n",
    "\t\t\tpredictions_val = model(X_test_tensor)\n",
    "\t\t\ttest_loss_history.append(loss_func(predictions_val, y_test_tensor).to('cpu').detach().item())\n",
    "\n",
    "\t\t\tacc_score_val = accuracy_score(y_test_tensor.cpu().numpy(), predictions_val.to('cpu').detach().numpy().argmax(axis=1))\n",
    "\t\t\ttest_acc_history.append(acc_score_val)\n",
    "\n",
    "\t\t\tdisplay.clear_output(wait=True)\n",
    "\t\t\tplot_train_process(train_loss_history, test_loss_history, train_acc_history, test_acc_history)\n",
    "\tprint(acc_score_val)\n",
    "\treturn model\n"
   ]
  },
  {
   "cell_type": "code",
   "execution_count": 12,
   "metadata": {},
   "outputs": [
    {
     "data": {
      "image/png": "[encoded data removed]",
      "text/plain": [
       "<Figure size 1500x500 with 2 Axes>"
      ]
     },
     "metadata": {},
     "output_type": "display_data"
    },
    {
     "name": "stdout",
     "output_type": "stream",
     "text": [
      "0.8494791666666667\n"
     ]
    }
   ],
   "source": [
    "fine_model = train_model(\n",
    "    my_model,\n",
    "    opt,\n",
    "    X_train_tensor,\n",
    "    y_train_tensor,\n",
    "    X_test_tensor,\n",
    "    y_test_tensor,\n",
    ")\n"
   ]
  },
  {
   "cell_type": "markdown",
   "metadata": {},
   "source": [
    "#### Сдача взадания в контест\n",
    "Сохраните в словарь `out_dict` вероятности принадлежности к первому (положительному) классу"
   ]
  },
  {
   "cell_type": "code",
   "execution_count": 13,
   "metadata": {},
   "outputs": [],
   "source": [
    "def get_probas(model, X_tensor):\n",
    "    model.eval()\n",
    "    with torch.no_grad():\n",
    "        outputs = model(X_tensor)\n",
    "        probas_batch = torch.sigmoid(outputs)[:, 1].cpu().numpy()\n",
    "        return probas_batch\n",
    "\n",
    "\n",
    "\n",
    "train_probas = get_probas(fine_model, X_train_tensor)\n",
    "test_probas = get_probas(fine_model, X_test_tensor)\n",
    "holdout_probas = get_probas(fine_model, X_holdout_tensor)\n",
    "\n",
    "out_dict = {\n",
    "    'train': train_probas.tolist(),\n",
    "    'test': test_probas.tolist(),\n",
    "    'holdout': holdout_probas.tolist()\n",
    "}\n"
   ]
  },
  {
   "cell_type": "markdown",
   "metadata": {},
   "source": [
    "Несколько `assert`'ов для проверки вашей посылки:"
   ]
  },
  {
   "cell_type": "code",
   "execution_count": 14,
   "metadata": {},
   "outputs": [],
   "source": [
    "assert isinstance(out_dict[\"train\"], list), \"Object must be a list of floats\"\n",
    "assert isinstance(out_dict[\"train\"][0], float), \"Object must be a list of floats\"\n",
    "assert (\n",
    "    len(out_dict[\"train\"]) == 5000\n",
    "), \"The predicted probas list length does not match the train set size\"\n",
    "\n",
    "assert isinstance(out_dict[\"test\"], list), \"Object must be a list of floats\"\n",
    "assert isinstance(out_dict[\"test\"][0], float), \"Object must be a list of floats\"\n",
    "assert (\n",
    "    len(out_dict[\"test\"]) == 1920\n",
    "), \"The predicted probas list length does not match the test set size\"\n",
    "\n",
    "assert isinstance(out_dict[\"holdout\"], list), \"Object must be a list of floats\"\n",
    "assert isinstance(out_dict[\"holdout\"][0], float), \"Object must be a list of floats\"\n",
    "assert (\n",
    "    len(out_dict[\"holdout\"]) == 500\n",
    "), \"The predicted probas list length does not match the holdout set size\""
   ]
  },
  {
   "cell_type": "markdown",
   "metadata": {},
   "source": [
    "Запустите код ниже для генерации посылки."
   ]
  },
  {
   "cell_type": "code",
   "execution_count": 15,
   "metadata": {},
   "outputs": [
    {
     "name": "stdout",
     "output_type": "stream",
     "text": [
      "File saved to `submission_dict_hw_text_classification_with_bert.json`\n"
     ]
    }
   ],
   "source": [
    "# do not change the code in the block below\n",
    "# __________start of block__________\n",
    "FILENAME = \"submission_dict_hw_text_classification_with_bert.json\"\n",
    "\n",
    "with open(FILENAME, \"w\") as iofile:\n",
    "    json.dump(out_dict, iofile)\n",
    "print(f\"File saved to `{FILENAME}`\")\n",
    "# __________end of block__________"
   ]
  },
  {
   "cell_type": "markdown",
   "metadata": {},
   "source": [
    "На этом задание завершено. Поздравляем!"
   ]
  }
 ],
 "metadata": {
  "colab": {
   "collapsed_sections": [],
   "name": "NLP_hw01_texts.ipynb",
   "provenance": []
  },
  "kernelspec": {
   "display_name": "nnnn",
   "language": "python",
   "name": "python3"
  },
  "language_info": {
   "codemirror_mode": {
    "name": "ipython",
    "version": 3
   },
   "file_extension": ".py",
   "mimetype": "text/x-python",
   "name": "python",
   "nbconvert_exporter": "python",
   "pygments_lexer": "ipython3",
   "version": "3.11.11"
  }
 },
 "nbformat": 4,
 "nbformat_minor": 1
}
